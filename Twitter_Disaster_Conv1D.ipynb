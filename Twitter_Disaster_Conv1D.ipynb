{
  "nbformat": 4,
  "nbformat_minor": 0,
  "metadata": {
    "colab": {
      "name": "Twitter_Disaster_Conv1D.ipynb",
      "provenance": []
    },
    "kernelspec": {
      "name": "python3",
      "display_name": "Python 3"
    },
    "language_info": {
      "name": "python"
    },
    "accelerator": "GPU"
  },
  "cells": [
    {
      "cell_type": "markdown",
      "source": [
        "## Dataset: Kaggle NLP with Disaster Tweets\n",
        "Predict which Tweets are about real disasters and which ones are not\n",
        "- https://www.kaggle.com/c/nlp-getting-started/overview\n",
        "\n",
        "Deep Learning Dense Classifier with Convolution 1D using TensorFlow and Keras API"
      ],
      "metadata": {
        "id": "uvqi_KV7yecm"
      }
    },
    {
      "cell_type": "code",
      "execution_count": null,
      "metadata": {
        "id": "O655ExVoyarF"
      },
      "outputs": [],
      "source": [
        "import os\n",
        "import re\n",
        "import pandas as pd\n",
        "import matplotlib.pyplot as plt\n",
        "import tensorflow as tf\n",
        "from tensorflow.keras import layers\n",
        "import tensorflow_hub as hub\n",
        "import tensorflow_text as text\n",
        "import preprocessor as p\n",
        "from sklearn.model_selection import train_test_split"
      ]
    },
    {
      "cell_type": "code",
      "source": [
        "!nvidia-smi"
      ],
      "metadata": {
        "colab": {
          "base_uri": "https://localhost:8080/"
        },
        "id": "EyZx1wb5zCCY",
        "outputId": "0769918f-3008-43c7-9598-5b9c94c97310"
      },
      "execution_count": null,
      "outputs": [
        {
          "output_type": "stream",
          "name": "stdout",
          "text": [
            "Thu Mar 17 01:46:47 2022       \n",
            "+-----------------------------------------------------------------------------+\n",
            "| NVIDIA-SMI 511.65       Driver Version: 511.65       CUDA Version: 11.6     |\n",
            "|-------------------------------+----------------------+----------------------+\n",
            "| GPU  Name            TCC/WDDM | Bus-Id        Disp.A | Volatile Uncorr. ECC |\n",
            "| Fan  Temp  Perf  Pwr:Usage/Cap|         Memory-Usage | GPU-Util  Compute M. |\n",
            "|                               |                      |               MIG M. |\n",
            "|===============================+======================+======================|\n",
            "|   0  NVIDIA GeForce ... WDDM  | 00000000:01:00.0  On |                  N/A |\n",
            "| N/A   57C    P3    21W /  N/A |    663MiB /  6144MiB |     69%      Default |\n",
            "|                               |                      |                  N/A |\n",
            "+-------------------------------+----------------------+----------------------+\n",
            "                                                                               \n",
            "+-----------------------------------------------------------------------------+\n",
            "| Processes:                                                                  |\n",
            "|  GPU   GI   CI        PID   Type   Process name                  GPU Memory |\n",
            "|        ID   ID                                                   Usage      |\n",
            "|=============================================================================|\n",
            "|    0   N/A  N/A     10924    C+G   ...e\\Current\\LogiOverlay.exe    N/A      |\n",
            "|    0   N/A  N/A     16792    C+G                                   N/A      |\n",
            "|    0   N/A  N/A     21284    C+G   ...erver\\YourPhoneServer.exe    N/A      |\n",
            "|    0   N/A  N/A     22372    C+G   ...ser\\Application\\brave.exe    N/A      |\n",
            "+-----------------------------------------------------------------------------+\n"
          ]
        }
      ]
    },
    {
      "cell_type": "code",
      "source": [
        "path = \"\"\n",
        "\n",
        "train_data_path = os.path.join(path, \"data\", \"train.csv\")\n",
        "test_data_path = os.path.join(path, \"data\", \"test.csv\")\n",
        "\n",
        "raw_data = pd.read_csv(train_data_path)\n",
        "raw_data"
      ],
      "metadata": {
        "colab": {
          "base_uri": "https://localhost:8080/",
          "height": 424
        },
        "id": "hYQva5NlzC-u",
        "outputId": "65d9d846-87dc-43c4-ef98-f76da3f7e09a"
      },
      "execution_count": null,
      "outputs": [
        {
          "output_type": "execute_result",
          "data": {
            "text/plain": [
              "         id keyword location  \\\n",
              "0         1     NaN      NaN   \n",
              "1         4     NaN      NaN   \n",
              "2         5     NaN      NaN   \n",
              "3         6     NaN      NaN   \n",
              "4         7     NaN      NaN   \n",
              "...     ...     ...      ...   \n",
              "7608  10869     NaN      NaN   \n",
              "7609  10870     NaN      NaN   \n",
              "7610  10871     NaN      NaN   \n",
              "7611  10872     NaN      NaN   \n",
              "7612  10873     NaN      NaN   \n",
              "\n",
              "                                                   text  target  \n",
              "0     Our Deeds are the Reason of this #earthquake M...       1  \n",
              "1                Forest fire near La Ronge Sask. Canada       1  \n",
              "2     All residents asked to 'shelter in place' are ...       1  \n",
              "3     13,000 people receive #wildfires evacuation or...       1  \n",
              "4     Just got sent this photo from Ruby #Alaska as ...       1  \n",
              "...                                                 ...     ...  \n",
              "7608  Two giant cranes holding a bridge collapse int...       1  \n",
              "7609  @aria_ahrary @TheTawniest The out of control w...       1  \n",
              "7610  M1.94 [01:04 UTC]?5km S of Volcano Hawaii. htt...       1  \n",
              "7611  Police investigating after an e-bike collided ...       1  \n",
              "7612  The Latest: More Homes Razed by Northern Calif...       1  \n",
              "\n",
              "[7613 rows x 5 columns]"
            ],
            "text/html": [
              "<div>\n",
              "<style scoped>\n",
              "    .dataframe tbody tr th:only-of-type {\n",
              "        vertical-align: middle;\n",
              "    }\n",
              "\n",
              "    .dataframe tbody tr th {\n",
              "        vertical-align: top;\n",
              "    }\n",
              "\n",
              "    .dataframe thead th {\n",
              "        text-align: right;\n",
              "    }\n",
              "</style>\n",
              "<table border=\"1\" class=\"dataframe\">\n",
              "  <thead>\n",
              "    <tr style=\"text-align: right;\">\n",
              "      <th></th>\n",
              "      <th>id</th>\n",
              "      <th>keyword</th>\n",
              "      <th>location</th>\n",
              "      <th>text</th>\n",
              "      <th>target</th>\n",
              "    </tr>\n",
              "  </thead>\n",
              "  <tbody>\n",
              "    <tr>\n",
              "      <th>0</th>\n",
              "      <td>1</td>\n",
              "      <td>NaN</td>\n",
              "      <td>NaN</td>\n",
              "      <td>Our Deeds are the Reason of this #earthquake M...</td>\n",
              "      <td>1</td>\n",
              "    </tr>\n",
              "    <tr>\n",
              "      <th>1</th>\n",
              "      <td>4</td>\n",
              "      <td>NaN</td>\n",
              "      <td>NaN</td>\n",
              "      <td>Forest fire near La Ronge Sask. Canada</td>\n",
              "      <td>1</td>\n",
              "    </tr>\n",
              "    <tr>\n",
              "      <th>2</th>\n",
              "      <td>5</td>\n",
              "      <td>NaN</td>\n",
              "      <td>NaN</td>\n",
              "      <td>All residents asked to 'shelter in place' are ...</td>\n",
              "      <td>1</td>\n",
              "    </tr>\n",
              "    <tr>\n",
              "      <th>3</th>\n",
              "      <td>6</td>\n",
              "      <td>NaN</td>\n",
              "      <td>NaN</td>\n",
              "      <td>13,000 people receive #wildfires evacuation or...</td>\n",
              "      <td>1</td>\n",
              "    </tr>\n",
              "    <tr>\n",
              "      <th>4</th>\n",
              "      <td>7</td>\n",
              "      <td>NaN</td>\n",
              "      <td>NaN</td>\n",
              "      <td>Just got sent this photo from Ruby #Alaska as ...</td>\n",
              "      <td>1</td>\n",
              "    </tr>\n",
              "    <tr>\n",
              "      <th>...</th>\n",
              "      <td>...</td>\n",
              "      <td>...</td>\n",
              "      <td>...</td>\n",
              "      <td>...</td>\n",
              "      <td>...</td>\n",
              "    </tr>\n",
              "    <tr>\n",
              "      <th>7608</th>\n",
              "      <td>10869</td>\n",
              "      <td>NaN</td>\n",
              "      <td>NaN</td>\n",
              "      <td>Two giant cranes holding a bridge collapse int...</td>\n",
              "      <td>1</td>\n",
              "    </tr>\n",
              "    <tr>\n",
              "      <th>7609</th>\n",
              "      <td>10870</td>\n",
              "      <td>NaN</td>\n",
              "      <td>NaN</td>\n",
              "      <td>@aria_ahrary @TheTawniest The out of control w...</td>\n",
              "      <td>1</td>\n",
              "    </tr>\n",
              "    <tr>\n",
              "      <th>7610</th>\n",
              "      <td>10871</td>\n",
              "      <td>NaN</td>\n",
              "      <td>NaN</td>\n",
              "      <td>M1.94 [01:04 UTC]?5km S of Volcano Hawaii. htt...</td>\n",
              "      <td>1</td>\n",
              "    </tr>\n",
              "    <tr>\n",
              "      <th>7611</th>\n",
              "      <td>10872</td>\n",
              "      <td>NaN</td>\n",
              "      <td>NaN</td>\n",
              "      <td>Police investigating after an e-bike collided ...</td>\n",
              "      <td>1</td>\n",
              "    </tr>\n",
              "    <tr>\n",
              "      <th>7612</th>\n",
              "      <td>10873</td>\n",
              "      <td>NaN</td>\n",
              "      <td>NaN</td>\n",
              "      <td>The Latest: More Homes Razed by Northern Calif...</td>\n",
              "      <td>1</td>\n",
              "    </tr>\n",
              "  </tbody>\n",
              "</table>\n",
              "<p>7613 rows × 5 columns</p>\n",
              "</div>"
            ]
          },
          "metadata": {},
          "execution_count": 3
        }
      ]
    },
    {
      "cell_type": "code",
      "source": [
        "# Text cleaning - Removing URLs, mentions, etc using tweet-preprocessor package\n",
        "def tweet_clean(tweet, lower_case = False, remove_digits = False,\n",
        "                remove_punct = False, replace_amper = False,\n",
        "                retrieve_hashtag = True):\n",
        "  \"\"\"\n",
        "  Clean tweet with tweet-preprocessor p.clean() removing unwanted characters,\n",
        "  user mentions, punctuations and setting to lower case text.\n",
        "\n",
        "  Arguments:\n",
        "  tweet -- Text string.\n",
        "  lower_case -- Boolean. When True, will lower case tweets. Default = False.\n",
        "  remove_digits -- Boolean. When True, will remove numbers from tweets.\n",
        "  Default = False.\n",
        "  remove_punct -- Boolean. When True, will remove punctuations from tweets.\n",
        "  Default = False.\n",
        "  replace_amper -- Boolean. When True, will replace HTML ampersand format for\n",
        "  'and' stopword. Default = False.\n",
        "  retrieve_hashtage -- Boolean. When True, will retrieve tweet hashtag in an\n",
        "  independent series object 'hashtags'. Default = True.\n",
        "  \n",
        "  Returns:\n",
        "  cleaned_tweet -- Cleaned tweet text string.\n",
        "  hashtags -- List with hashtags extracted from tweet\n",
        "  \"\"\"\n",
        "  # Remove user mentions, symbols and unwanted characters\n",
        "  p.set_options(p.OPT.URL, p.OPT.MENTION, p.OPT.RESERVED,\n",
        "                p.OPT.EMOJI, p.OPT.SMILEY)\n",
        "  \n",
        "  tweet = p.clean(tweet)\n",
        "\n",
        "  # Lower case\n",
        "  if lower_case:\n",
        "    tweet = tweet.lower()\n",
        "\n",
        "  # Remove digits\n",
        "  if remove_digits:\n",
        "    tweet = tweet.replace('\\d+', '')\n",
        "\n",
        "  # Remove punctuations\n",
        "  if remove_punct:\n",
        "    tweet = re.sub(r'[^\\w\\s]', '', tweet)\n",
        "  \n",
        "  # Replace amper\n",
        "  if replace_amper:\n",
        "    tweet = tweet.replace('&amp;', 'and')\n",
        "    tweet = tweet.replace('&AMP;', 'and')\n",
        "\n",
        "  if retrieve_hashtag:\n",
        "    hashtags = re.findall(r'#(\\w+)', tweet)\n",
        "    tweet = tweet.replace('#', '')\n",
        "\n",
        "  cleaned_tweet = tweet\n",
        "\n",
        "  if retrieve_hashtag:\n",
        "    return pd.Series([cleaned_tweet, hashtags])\n",
        "  else:\n",
        "    return cleaned_tweet"
      ],
      "metadata": {
        "id": "_Jn6oKmLzIiW"
      },
      "execution_count": null,
      "outputs": []
    },
    {
      "cell_type": "code",
      "source": [
        "raw_data['cleaned_text'] = raw_data['text'].apply(tweet_clean,\n",
        "                                                  replace_amper = True,\n",
        "                                                  retrieve_hashtag = False)\n",
        "raw_data"
      ],
      "metadata": {
        "colab": {
          "base_uri": "https://localhost:8080/",
          "height": 424
        },
        "id": "hb7Z9XLmzNy3",
        "outputId": "e671a653-a69c-40db-eee8-3adaa2942a25"
      },
      "execution_count": null,
      "outputs": [
        {
          "output_type": "execute_result",
          "data": {
            "text/plain": [
              "         id keyword location  \\\n",
              "0         1     NaN      NaN   \n",
              "1         4     NaN      NaN   \n",
              "2         5     NaN      NaN   \n",
              "3         6     NaN      NaN   \n",
              "4         7     NaN      NaN   \n",
              "...     ...     ...      ...   \n",
              "7608  10869     NaN      NaN   \n",
              "7609  10870     NaN      NaN   \n",
              "7610  10871     NaN      NaN   \n",
              "7611  10872     NaN      NaN   \n",
              "7612  10873     NaN      NaN   \n",
              "\n",
              "                                                   text  target  \\\n",
              "0     Our Deeds are the Reason of this #earthquake M...       1   \n",
              "1                Forest fire near La Ronge Sask. Canada       1   \n",
              "2     All residents asked to 'shelter in place' are ...       1   \n",
              "3     13,000 people receive #wildfires evacuation or...       1   \n",
              "4     Just got sent this photo from Ruby #Alaska as ...       1   \n",
              "...                                                 ...     ...   \n",
              "7608  Two giant cranes holding a bridge collapse int...       1   \n",
              "7609  @aria_ahrary @TheTawniest The out of control w...       1   \n",
              "7610  M1.94 [01:04 UTC]?5km S of Volcano Hawaii. htt...       1   \n",
              "7611  Police investigating after an e-bike collided ...       1   \n",
              "7612  The Latest: More Homes Razed by Northern Calif...       1   \n",
              "\n",
              "                                           cleaned_text  \n",
              "0     Our Deeds are the Reason of this #earthquake M...  \n",
              "1                Forest fire near La Ronge Sask. Canada  \n",
              "2     All residents asked to 'shelter in place' are ...  \n",
              "3     13,000 people receive #wildfires evacuation or...  \n",
              "4     Just got sent this photo from Ruby #Alaska as ...  \n",
              "...                                                 ...  \n",
              "7608  Two giant cranes holding a bridge collapse int...  \n",
              "7609  The out of control wild fires in California ev...  \n",
              "7610         M1.94 [01:04 UTC]?5km S of Volcano Hawaii.  \n",
              "7611  Police investigating after an e-bike collided ...  \n",
              "7612  The Latest: More Homes Razed by Northern Calif...  \n",
              "\n",
              "[7613 rows x 6 columns]"
            ],
            "text/html": [
              "<div>\n",
              "<style scoped>\n",
              "    .dataframe tbody tr th:only-of-type {\n",
              "        vertical-align: middle;\n",
              "    }\n",
              "\n",
              "    .dataframe tbody tr th {\n",
              "        vertical-align: top;\n",
              "    }\n",
              "\n",
              "    .dataframe thead th {\n",
              "        text-align: right;\n",
              "    }\n",
              "</style>\n",
              "<table border=\"1\" class=\"dataframe\">\n",
              "  <thead>\n",
              "    <tr style=\"text-align: right;\">\n",
              "      <th></th>\n",
              "      <th>id</th>\n",
              "      <th>keyword</th>\n",
              "      <th>location</th>\n",
              "      <th>text</th>\n",
              "      <th>target</th>\n",
              "      <th>cleaned_text</th>\n",
              "    </tr>\n",
              "  </thead>\n",
              "  <tbody>\n",
              "    <tr>\n",
              "      <th>0</th>\n",
              "      <td>1</td>\n",
              "      <td>NaN</td>\n",
              "      <td>NaN</td>\n",
              "      <td>Our Deeds are the Reason of this #earthquake M...</td>\n",
              "      <td>1</td>\n",
              "      <td>Our Deeds are the Reason of this #earthquake M...</td>\n",
              "    </tr>\n",
              "    <tr>\n",
              "      <th>1</th>\n",
              "      <td>4</td>\n",
              "      <td>NaN</td>\n",
              "      <td>NaN</td>\n",
              "      <td>Forest fire near La Ronge Sask. Canada</td>\n",
              "      <td>1</td>\n",
              "      <td>Forest fire near La Ronge Sask. Canada</td>\n",
              "    </tr>\n",
              "    <tr>\n",
              "      <th>2</th>\n",
              "      <td>5</td>\n",
              "      <td>NaN</td>\n",
              "      <td>NaN</td>\n",
              "      <td>All residents asked to 'shelter in place' are ...</td>\n",
              "      <td>1</td>\n",
              "      <td>All residents asked to 'shelter in place' are ...</td>\n",
              "    </tr>\n",
              "    <tr>\n",
              "      <th>3</th>\n",
              "      <td>6</td>\n",
              "      <td>NaN</td>\n",
              "      <td>NaN</td>\n",
              "      <td>13,000 people receive #wildfires evacuation or...</td>\n",
              "      <td>1</td>\n",
              "      <td>13,000 people receive #wildfires evacuation or...</td>\n",
              "    </tr>\n",
              "    <tr>\n",
              "      <th>4</th>\n",
              "      <td>7</td>\n",
              "      <td>NaN</td>\n",
              "      <td>NaN</td>\n",
              "      <td>Just got sent this photo from Ruby #Alaska as ...</td>\n",
              "      <td>1</td>\n",
              "      <td>Just got sent this photo from Ruby #Alaska as ...</td>\n",
              "    </tr>\n",
              "    <tr>\n",
              "      <th>...</th>\n",
              "      <td>...</td>\n",
              "      <td>...</td>\n",
              "      <td>...</td>\n",
              "      <td>...</td>\n",
              "      <td>...</td>\n",
              "      <td>...</td>\n",
              "    </tr>\n",
              "    <tr>\n",
              "      <th>7608</th>\n",
              "      <td>10869</td>\n",
              "      <td>NaN</td>\n",
              "      <td>NaN</td>\n",
              "      <td>Two giant cranes holding a bridge collapse int...</td>\n",
              "      <td>1</td>\n",
              "      <td>Two giant cranes holding a bridge collapse int...</td>\n",
              "    </tr>\n",
              "    <tr>\n",
              "      <th>7609</th>\n",
              "      <td>10870</td>\n",
              "      <td>NaN</td>\n",
              "      <td>NaN</td>\n",
              "      <td>@aria_ahrary @TheTawniest The out of control w...</td>\n",
              "      <td>1</td>\n",
              "      <td>The out of control wild fires in California ev...</td>\n",
              "    </tr>\n",
              "    <tr>\n",
              "      <th>7610</th>\n",
              "      <td>10871</td>\n",
              "      <td>NaN</td>\n",
              "      <td>NaN</td>\n",
              "      <td>M1.94 [01:04 UTC]?5km S of Volcano Hawaii. htt...</td>\n",
              "      <td>1</td>\n",
              "      <td>M1.94 [01:04 UTC]?5km S of Volcano Hawaii.</td>\n",
              "    </tr>\n",
              "    <tr>\n",
              "      <th>7611</th>\n",
              "      <td>10872</td>\n",
              "      <td>NaN</td>\n",
              "      <td>NaN</td>\n",
              "      <td>Police investigating after an e-bike collided ...</td>\n",
              "      <td>1</td>\n",
              "      <td>Police investigating after an e-bike collided ...</td>\n",
              "    </tr>\n",
              "    <tr>\n",
              "      <th>7612</th>\n",
              "      <td>10873</td>\n",
              "      <td>NaN</td>\n",
              "      <td>NaN</td>\n",
              "      <td>The Latest: More Homes Razed by Northern Calif...</td>\n",
              "      <td>1</td>\n",
              "      <td>The Latest: More Homes Razed by Northern Calif...</td>\n",
              "    </tr>\n",
              "  </tbody>\n",
              "</table>\n",
              "<p>7613 rows × 6 columns</p>\n",
              "</div>"
            ]
          },
          "metadata": {},
          "execution_count": 5
        }
      ]
    },
    {
      "cell_type": "code",
      "source": [
        "X_train, X_val, y_train, y_val = train_test_split(raw_data['cleaned_text'], raw_data['target'],\n",
        "                                                  train_size = 0.8,\n",
        "                                                  random_state = 1337,\n",
        "                                                  shuffle = True,\n",
        "                                                  stratify = raw_data['target'])"
      ],
      "metadata": {
        "id": "xgxsRRhkzQx-"
      },
      "execution_count": null,
      "outputs": []
    },
    {
      "cell_type": "code",
      "source": [
        "print(f\"Training data shape: {X_train.shape}\")\n",
        "print(f\"Training label shape: {y_train.shape}\")\n",
        "print(f\"Validation data shape: {X_val.shape}\")\n",
        "print(f\"Validation label shape: {y_val.shape}\")"
      ],
      "metadata": {
        "colab": {
          "base_uri": "https://localhost:8080/"
        },
        "id": "oUd9neKizUQP",
        "outputId": "b93d0a37-11a3-4942-f3ab-a924dfe0bc09"
      },
      "execution_count": null,
      "outputs": [
        {
          "output_type": "stream",
          "name": "stdout",
          "text": [
            "Training data shape: (6090,)\n",
            "Training label shape: (6090,)\n",
            "Validation data shape: (1523,)\n",
            "Validation label shape: (1523,)\n"
          ]
        }
      ]
    },
    {
      "cell_type": "code",
      "source": [
        "batch_size = 128\n",
        "train_df = tf.data.Dataset.from_tensor_slices((X_train, y_train)).batch(batch_size = batch_size)\n",
        "val_df = tf.data.Dataset.from_tensor_slices((X_val, y_val)).batch(batch_size = batch_size)"
      ],
      "metadata": {
        "id": "NtrOuE8izWbX"
      },
      "execution_count": null,
      "outputs": []
    },
    {
      "cell_type": "code",
      "source": [
        "list(train_df.as_numpy_iterator())[0]"
      ],
      "metadata": {
        "colab": {
          "base_uri": "https://localhost:8080/"
        },
        "id": "knr_TQ143rnG",
        "outputId": "65a1e2dd-34c7-456f-dcf5-10a96b93dbcf"
      },
      "execution_count": null,
      "outputs": [
        {
          "output_type": "execute_result",
          "data": {
            "text/plain": [
              "(array([b'A young German stormtrooper engaged in the Battle of the Somme 1916. [800 582 ]',\n",
              "        b\"Don't like those head first slides. Especially into home !! #danger\",\n",
              "        b'Eric Clapton shot the sheriff in 1974 and guess how many people were rioting? Right none.',\n",
              "        b'Monkeys Abused by Notorious Laboratory Dealer | A PETA Eyewitness Invest... via',\n",
              "        b'peanut butter cookie dough blizzard is ??????????????????????',\n",
              "        b'Its time to do away with drought.Check out how the #cloud #IOT are helping conserve water',\n",
              "        b'Twelve feared killed in Pakistani air ambulance helicopter crash #worldnews',\n",
              "        b'If you sit and rant on snapchat to your apparent fans when you have about 8000 followers I hope your in a train crash xoxo',\n",
              "        b'social casualty',\n",
              "        b'#Allah describes piling up #wealth thinking it would last #forever as the description of the people of #Hellfire in Surah Humaza. #Reflect',\n",
              "        b'For those impacted by the #CalWildfires here are some great recovery tips to help you in the aftermath',\n",
              "        b'**OFFICIAL VID** #TheReal &gt;&gt;&gt; &gt;&gt;&gt; &gt;&gt;&gt; #ARMAGEDDON Comin Soon!!',\n",
              "        b'Investigators shift focus to cause of fatal Waimate fire',\n",
              "        b'Update: I survived. No canoe. May have been the fastest feed out in history though.',\n",
              "        b'Time collapse is such a cool video technique.',\n",
              "        b'This machine really captured my attention. #helicopter #firefighting #wildfire #oregon #easternoregon_',\n",
              "        b'I liked a video Homeless dog living in a cardboard box gets rescued and has a heartwarming',\n",
              "        b'it has crashed so many times the past couple hours',\n",
              "        b'Battlefield 4 Funny Moments - Dukes of Hazard Undercover Soldier MAV T... via',\n",
              "        b'Even when I was a kid haha super late but folks used to bash me for that shit I understand he survived cancer but he still cheated',\n",
              "        b'TY for the follow Go To BRUTALLY ABUSED+DESOLATEandLOST + HER LOVELY MUM DIES..Is it Murder?',\n",
              "        b'Pandemonium In Aba As Woman Delivers Baby Without Face (Photos) -',\n",
              "        b'New illustration for the L.A. Times: #illustration #subway',\n",
              "        b'Hello Twitter i need some book bloggers and interviews regarding my book Weapons Formed Against Me #ineedexposure',\n",
              "        b\"my pc account got hacked. Someone tried to pull out over 1200 bucks which wasn't there Now I have an nsf and no idea who or why\",\n",
              "        b'I saw two great punk bands making original music last week. Check em out here!!',\n",
              "        b'standard damage control',\n",
              "        b'Strengthening partnerships #AfterHaiyan #Haiyan #YolandaPh #Philippines #livelihood #disasterrecovery #disaster',\n",
              "        b'Nearly 35 years after their release from captivity legislation is being introduced in Congress to compensate 53_',\n",
              "        b'just hard reset my Xbox', b'michael is engulfed by that jumper',\n",
              "        b'Another sad ocean casualty-Gray whale population in the Pacific listed as critically #endangered (#drone video) .',\n",
              "        b'INVESTMENT NEWS Keurig Green Mountain Inc. Third-Quarter Earnings: Shares Sinking After-Hours - Stocks in the New_',\n",
              "        b'I sent my emails why are the TRINNA hold me hostage rapping me up ??',\n",
              "        b'Uribe demolished that ball ??????',\n",
              "        b'Exquisite asian in sto... #cumshot #sex #porn #video #porno #free',\n",
              "        b\"#PapiiChampoo What I enjoy most about the Obama era is the civility: Prez says GOP supports Iranian 'Death to ...\",\n",
              "        b'Trafford Centre film fans angry after Odeon cinema evacuated following false fire alarm: Twitter users tell ...',\n",
              "        b'kou is like [CASH REGISTER] [BUILDINGS BURNING]',\n",
              "        b'#hot Funtenna: hijacking computers to send data as sound waves [Black Hat 2015] #prebreak #best',\n",
              "        b'Sending a snapchat to the wrong person instead of your brother about the toilet ?? ?? ???? #snapchatselfie #wrongperson #traumatised',\n",
              "        b'Warfighting Robots Could Reduce Civilian Casualties So Calling for a Ban Now Is Premature #FTSN #FTSNNewsdesk #_',\n",
              "        b'so traumatised im ????',\n",
              "        b'Related News: Plane Wreckage Found Is Part Of Missing MH370 Malaysia Prime Minister?Says - World - BuzzFeed |',\n",
              "        b\"Check out my new song 'Collide' live at the Bowery Electric!\",\n",
              "        b\"I'm obliterate you to the shadow realm.\",\n",
              "        b'Parents of Colorado theater shooting victim fear copycat massacre #Antioch',\n",
              "        b'#News : The Latest: More Homes Razed by Northern California Wildfire - New York Times #TAFS #FB100%',\n",
              "        b\"I apologise sincerely for the inevitable deluge of #GBBO tweets to come. I won't hold any grudges if you decide to unfollow #baking #cakes\",\n",
              "        b\"there isn't anything there its desolate bc of its nature. The significance is that we were the first country to do it\",\n",
              "        b\"what a disaster - can't say I'm surprised\",\n",
              "        b\"Greece's tax revenues collapse as debt crisis continues\",\n",
              "        b'Some kids going to leadership camp came into my work today asking for the bathroom and my inner ASB kid screamed a lot. I miss camp ??',\n",
              "        b'My biggest fear is disappointing the people who believe in me',\n",
              "        b'It may seem like our fire has been a little burnt out....',\n",
              "        b'Bay District coaches learn CPR during medical course: PANAMA CITY An athlete collapsed on the field. Coaches...',\n",
              "        b\"Earthquake and tsunami that occurred in Japan 'free speech' is also swallowed.\",\n",
              "        b'Ways so archetype a bleeding well-grounded readiness: FpOJ',\n",
              "        b\"IM sorry for my meltdown last night lmao but I'm getting my tooth fixed Friday ??????????????????????????????????\",\n",
              "        b'Aurora theater shooting trial: Gunman expected notoriety for mass murder and nothing else',\n",
              "        b\"i'd still be team usagi even if she blew up the entire solar system by some airhead misstep\",\n",
              "        b\"#GamerGate 'Our entire attempt to hijack your community destroy your industry and scam everyone in sight was just sarcastic'. Drop dead.\",\n",
              "        b\"Politifiact: Harry Reid's '30 Percent of Women Served' Planned Parenthood Claim Is a 'Pants on Fire' Lie | #tcot\",\n",
              "        b'beforeitsnews : Global Derivatives: $1.5 Quadrillion Time Bomb (v_ )',\n",
              "        b'I liked a video from MK X Tremors Stalag Might Fatality on Ermac Tournament Pharaoh',\n",
              "        b'#Sismo DETECTADO #Jap_n [Report 1] 01:01:56 Okinawa Island region M4.0 Depth 10km Maximum seismic intensity 3 JST #??',\n",
              "        b\"it's 11:30 and I'm already panicking and crying bc I'm so stressed NICE\",\n",
              "        b\"'if you can't summon the flames directly from hell store bought is fine'-me mom-*dies*\",\n",
              "        b'If GOP want to destroy America then Obama is dilutional I should be institutionalize or sued for slander.',\n",
              "        b'FedEx to stop transporting bioterror germs after lab mishaps: FedEx has stopped transporting certain research ...',\n",
              "        b'Christian Attacked by Muslims at the Temple Mount after Waving Israeli Flag via Pamela Geller - ...',\n",
              "        b'This from The City of Calgary - City of Calgary has activated Municipal Emergency Plan The Municipal Emergency...',\n",
              "        b'It was... Nagaski another act of mass murder sanctioned and forgiven cause the Allies won... Not by me.',\n",
              "        b'We need help! Horses will die!Please RT and sign petition!Take a stand and be a voice for them! #gilbert23',\n",
              "        b'this week has been a whirlwind but this is exactly what i imagined the nyc version of my career to be like',\n",
              "        b\"If you're in search of powerful content to improve your business or have been frustrated with the deluge of 'quantit_\",\n",
              "        b'God bless catastrophe',\n",
              "        b'Selection September Bridgeport men charged in home invasion Police looking for burglar. -',\n",
              "        b'Whimsy as it pertains to mass casualties. Always impressive.',\n",
              "        b'Condemning of Deaths More than 1000 due to Heat Wave in Karachi. May Allah gv Patience to their Heirs.',\n",
              "        b'How do people bake without turning their kitchen into a war zone of eggs and flour',\n",
              "        b'MT Treatment of #tigers in #China is appalling: electrocuted in front of businessmen and eaten #SaveTi...',\n",
              "        b'Anyone need a P/U tonight? I play Hybrid Slayer ps4 EU. HMU',\n",
              "        b\"so others don't get burned\",\n",
              "        b'Beyonce Is my pick for Fan Army #Beyhive 77',\n",
              "        b'Drake is really body bagging meek',\n",
              "        b'You May Know Me from Such Roles as Terrorist #4',\n",
              "        b'who said this? Yosemite Sam or Drumpf? Nobody ill vote for a flattened out rabbit skin a-huh huh _ I always say',\n",
              "        b'Violent Storm Causes Damage Flooding in Watertown -',\n",
              "        b'I liked a video GTA 5 Online - COLLATERAL DAMAGE! (GTA V Online PC)',\n",
              "        b'Stepkans Media - Two confirmed dead after the boat they were travelling in Collided in. L.Victoria',\n",
              "        b\"oh I'm not bagging her at all! Her body be bangin'. I'm saying she's going to get the rose.\",\n",
              "        b'Former Freedom Surf/Spa Razed to Make Way for New Homes',\n",
              "        b\"#hot Reddit's new content policy goes into effect many horrible subreddits banned or quarantined #prebreak #best\",\n",
              "        b'My Lil brother has a crush on mariah ??????',\n",
              "        b'#Laos flooding -10 villages underwater World Vision responding',\n",
              "        b'in response to trauma Children of Addicts develop a defensive self - one that decreases vulnerability. (3',\n",
              "        b'My ear started bleeding again...',\n",
              "        b\"Another white guy trying to mass murder people for no apparent reason just because let me guess he's mentally ill blah blah blah #Antioch\",\n",
              "        b\"If I survive I'll see you tomorrow\",\n",
              "        b\"28 Oct 1895: 'Bush Fires.'\",\n",
              "        b'Q: Why do ducks have big flat feet? A: To stamp out forest fires. Q: Why do elephants have big flat feet? A: To stamp out flaming ducks.',\n",
              "        b'Oil and Gas Exploration',\n",
              "        b'Tunisia beach massacre linked to March terror attack on museum',\n",
              "        b\"A little piece I wrote for the Avalanche Designs blog! I'd appreciate it greatly if you checked it out\",\n",
              "        b'I just wanted to watch Paper Towns but the buildings on fire ?????',\n",
              "        b'Obama Declares Disaster for Typhoon-Devastated Saipan: Obama signs disaster declaration for Northern Marians a...',\n",
              "        b'The Murderous Story Of Americas First Hijacking',\n",
              "        b\"Wow fatality on 101 big rig hit motorcyclist blood everywhere ?? wow. I'm sick.\",\n",
              "        b'I added a video to a playlist Nicki Minaj - Up In Flames (Official Video)',\n",
              "        b\"I've been by the pool all day #raisinfingers\",\n",
              "        b'w--=-=-=-[ NEMA warns Nigerians to prepare for drought',\n",
              "        b'95-03 BMW 528 530 540 740 Emergency Warning Hazard Switch Button OEM 20177-707D',\n",
              "        b'Japan on Thursday marks the 70th anniversary of the atomic bombing of Hiroshima with the most senior official from Washington ever schedule_',\n",
              "        b\"I'm crazy enough to run in 95 degree mid-day heat under the blazing sun in a place where I'm not_\",\n",
              "        b'I liked a video US CANADA RADIATION UPDATE EMERGENCY FISHING CLOSURES',\n",
              "        b\"we'll crash down like an avalanche\",\n",
              "        b\"Nuu that FAM?? fwt I'm Leave You In a Body bag??\",\n",
              "        b'Sinkhole on west side damaging cars via',\n",
              "        b'Detonation fashionable mountaineering electronic watch water-resistant couples leisure tab_',\n",
              "        b'#NowPlaying Last Smoke Before The Snowstorm by Benjamin Francis Leftwich - hopefully new album coming soon ?',\n",
              "        b'THIS IS A ONE DIRECTION CONCERT NOT A WAR ZONE WHAT IS THIS #OTRAMETLIFE',\n",
              "        b\"'You can only be rescued from where you actually are and not from where you pretend you are.' Giorgio Hiatt\",\n",
              "        b'nothing surprises me anymore and i am sure there is more to come...',\n",
              "        b'Emergency services unsure how to cope with loss of paging network',\n",
              "        b\"Did you miss the #BitCoin explosion - Don't miss out - #Hangout tonight at 8:30PM EST ===&gt;&gt;&gt;\",\n",
              "        b'Alabama firefighters quarantined after possible Ebola exposure reports',\n",
              "        b'Refugio oil spill may have been costlier bigger than projected'],\n",
              "       dtype=object),\n",
              " array([1, 0, 1, 0, 0, 1, 1, 0, 0, 0, 1, 0, 1, 1, 0, 1, 0, 0, 0, 0, 1, 1,\n",
              "        0, 0, 0, 0, 1, 1, 0, 0, 0, 1, 0, 0, 0, 0, 0, 1, 0, 0, 0, 1, 1, 1,\n",
              "        0, 0, 1, 1, 0, 0, 0, 1, 0, 0, 0, 1, 1, 0, 0, 1, 0, 0, 0, 0, 0, 1,\n",
              "        0, 0, 0, 1, 1, 1, 1, 0, 0, 1, 0, 1, 0, 1, 0, 1, 0, 0, 0, 0, 0, 0,\n",
              "        1, 0, 1, 0, 0, 1, 0, 1, 0, 0, 1, 0, 1, 0, 1, 1, 0, 1, 1, 1, 1, 0,\n",
              "        0, 1, 0, 1, 0, 1, 0, 0, 1, 0, 0, 1, 0, 0, 0, 0, 1, 1], dtype=int64))"
            ]
          },
          "metadata": {},
          "execution_count": 51
        }
      ]
    },
    {
      "cell_type": "code",
      "source": [
        "for inputs, targets in train_df:\n",
        "  print(\"inputs.shape:\", inputs.shape)\n",
        "  print(\"inputs.dtype:\", inputs.dtype)\n",
        "  print(\"targets.shape:\", targets.shape)\n",
        "  print(\"targets.dtype:\", targets.dtype)\n",
        "  print(\"inputs[0]:\", inputs[0])\n",
        "  print(\"targets[0]:\", targets[0])\n",
        "  break"
      ],
      "metadata": {
        "colab": {
          "base_uri": "https://localhost:8080/"
        },
        "id": "AgrYcz_Tzb2X",
        "outputId": "d7a31a04-5f3e-40d8-dd12-236924625a39"
      },
      "execution_count": null,
      "outputs": [
        {
          "output_type": "stream",
          "name": "stdout",
          "text": [
            "inputs.shape: (128,)\n",
            "inputs.dtype: <dtype: 'string'>\n",
            "targets.shape: (128,)\n",
            "targets.dtype: <dtype: 'int64'>\n",
            "inputs[0]: tf.Tensor(b'A young German stormtrooper engaged in the Battle of the Somme 1916. [800 582 ]', shape=(), dtype=string)\n",
            "targets[0]: tf.Tensor(1, shape=(), dtype=int64)\n"
          ]
        }
      ]
    },
    {
      "cell_type": "code",
      "source": [
        "print(\"Training set maximum length:\", max([len(row.split()) for row in X_train]))"
      ],
      "metadata": {
        "colab": {
          "base_uri": "https://localhost:8080/"
        },
        "id": "q4sTNZt-zjGm",
        "outputId": "b3dc321c-9343-46e9-e329-86d33ec2080f"
      },
      "execution_count": null,
      "outputs": [
        {
          "output_type": "stream",
          "name": "stdout",
          "text": [
            "Training set maximum length: 31\n"
          ]
        }
      ]
    },
    {
      "cell_type": "code",
      "source": [
        "print(\"Validation set maximum length:\", max([len(row.split()) for row in X_val]))"
      ],
      "metadata": {
        "colab": {
          "base_uri": "https://localhost:8080/"
        },
        "id": "r9_abyqw1Jyv",
        "outputId": "72ad32c2-dd46-4a1d-bace-6918b11928f1"
      },
      "execution_count": null,
      "outputs": [
        {
          "output_type": "stream",
          "name": "stdout",
          "text": [
            "Validation set maximum length: 30\n"
          ]
        }
      ]
    },
    {
      "cell_type": "code",
      "source": [
        "max_length = 31"
      ],
      "metadata": {
        "id": "tnx9w8p-VSMn"
      },
      "execution_count": null,
      "outputs": []
    },
    {
      "cell_type": "code",
      "source": [
        "# tf.config.run_functions_eagerly(False)\n",
        "# Text vectorizer\n",
        "max_tokens = 20000\n",
        "text_vectorization = layers.TextVectorization(\n",
        "    max_tokens=max_tokens,\n",
        "    output_mode=\"int\",\n",
        "    output_sequence_length=max_length)\n",
        "\n",
        "# Text only tf.Datasets\n",
        "text_only_train_df = train_df.map(lambda x, y: x)\n",
        "text_vectorization.adapt(text_only_train_df)"
      ],
      "metadata": {
        "id": "yga9JVy_1cQO"
      },
      "execution_count": null,
      "outputs": []
    },
    {
      "cell_type": "code",
      "source": [
        "# Creating integer sequences tf.Datasets\n",
        "int_train_df = train_df.map(\n",
        "    lambda x, y: (text_vectorization(x), y),\n",
        "    num_parallel_calls = 4)\n",
        "\n",
        "int_val_df = val_df.map(\n",
        "    lambda x, y: (text_vectorization(x), y),\n",
        "    num_parallel_calls=4)"
      ],
      "metadata": {
        "id": "aCyvYI0O2vX6"
      },
      "execution_count": null,
      "outputs": []
    },
    {
      "cell_type": "code",
      "source": [
        "list(int_train_df.as_numpy_iterator())[0]"
      ],
      "metadata": {
        "colab": {
          "base_uri": "https://localhost:8080/"
        },
        "id": "4ID6237R3xk-",
        "outputId": "d248b65f-4b1c-4d44-e58d-f23bcc5710f4"
      },
      "execution_count": null,
      "outputs": [
        {
          "output_type": "execute_result",
          "data": {
            "text/plain": [
              "(array([[    3,   985,  1890, ...,     0,     0,     0],\n",
              "        [   54,    25,   162, ...,     0,     0,     0],\n",
              "        [11024, 11993,   592, ...,     0,     0,     0],\n",
              "        ...,\n",
              "        [  133,    12,  1081, ...,     0,     0,     0],\n",
              "        [ 1424,  1101,   493, ...,     0,     0,     0],\n",
              "        [  833,   238,   365, ...,     0,     0,     0]], dtype=int64),\n",
              " array([1, 0, 1, 0, 0, 1, 1, 0, 0, 0, 1, 0, 1, 1, 0, 1, 0, 0, 0, 0, 1, 1,\n",
              "        0, 0, 0, 0, 1, 1, 0, 0, 0, 1, 0, 0, 0, 0, 0, 1, 0, 0, 0, 1, 1, 1,\n",
              "        0, 0, 1, 1, 0, 0, 0, 1, 0, 0, 0, 1, 1, 0, 0, 1, 0, 0, 0, 0, 0, 1,\n",
              "        0, 0, 0, 1, 1, 1, 1, 0, 0, 1, 0, 1, 0, 1, 0, 1, 0, 0, 0, 0, 0, 0,\n",
              "        1, 0, 1, 0, 0, 1, 0, 1, 0, 0, 1, 0, 1, 0, 1, 1, 0, 1, 1, 1, 1, 0,\n",
              "        0, 1, 0, 1, 0, 1, 0, 0, 1, 0, 0, 1, 0, 0, 0, 0, 1, 1], dtype=int64))"
            ]
          },
          "metadata": {},
          "execution_count": 58
        }
      ]
    },
    {
      "cell_type": "code",
      "source": [
        "for inputs, targets in int_train_df:\n",
        "  print(\"inputs.shape:\", inputs.shape)\n",
        "  print(\"inputs.dtype:\", inputs.dtype)\n",
        "  print(\"targets.shape:\", targets.shape)\n",
        "  print(\"targets.dtype:\", targets.dtype)\n",
        "  print(\"inputs[0]:\", inputs[0])\n",
        "  print(\"targets[0]:\", targets[0])\n",
        "  break"
      ],
      "metadata": {
        "colab": {
          "base_uri": "https://localhost:8080/"
        },
        "id": "5whGdJYJGaxS",
        "outputId": "75898dd1-3354-46dc-b5d6-2f253a2c093f"
      },
      "execution_count": null,
      "outputs": [
        {
          "output_type": "stream",
          "name": "stdout",
          "text": [
            "inputs.shape: (128, 31)\n",
            "inputs.dtype: <dtype: 'int64'>\n",
            "targets.shape: (128,)\n",
            "targets.dtype: <dtype: 'int64'>\n",
            "inputs[0]: tf.Tensor(\n",
            "[    3   985  1890  6834 11069     4     2   578     6     2  7013  5617\n",
            "  5571  5582     0     0     0     0     0     0     0     0     0     0\n",
            "     0     0     0     0     0     0     0], shape=(31,), dtype=int64)\n",
            "targets[0]: tf.Tensor(1, shape=(), dtype=int64)\n"
          ]
        }
      ]
    },
    {
      "cell_type": "code",
      "source": [
        "# Model with a trained embedding layer\n",
        "def get_model():\n",
        "  inputs = layers.Input(shape = (max_length, ), dtype = \"int64\", name = \"Input_Text\")\n",
        "  embedded = layers.Embedding(input_dim = max_tokens,\n",
        "                              output_dim = 256,\n",
        "                              mask_zero = True,\n",
        "                              name = \"Embedding\")(inputs)\n",
        "  # x = layers.Bidirectional(layers.LSTM(32), name = \"Bidirectional_LSTM\")(embedded)\n",
        "  # x = layers.Dropout(0.5)(x)\n",
        "  x = layers.SeparableConv1D(16, 3, activation = \"relu\")(embedded)\n",
        "  x = layers.MaxPooling1D(2)(x)\n",
        "  # x = layers.Conv1D(64, 3, activation = \"relu\")(x)\n",
        "  # x = layers.MaxPooling1D(2)(x)\n",
        "  x = layers.Flatten()(x)\n",
        "  x = layers.Dropout(0.2)(x)\n",
        "  x = layers.Dense(16, activation = \"relu\")(x)\n",
        "  x = layers.Dropout(0.5)(x)\n",
        "  outputs = layers.Dense(1, activation = \"sigmoid\", name = \"Binary_Classifier\")(x)\n",
        "\n",
        "  model = tf.keras.Model(inputs, outputs)\n",
        "  model.compile(optimizer = \"adam\",\n",
        "                loss = \"binary_crossentropy\",\n",
        "                metrics = [\"accuracy\", tf.keras.metrics.AUC(name = \"auc\")])\n",
        "  \n",
        "  return model"
      ],
      "metadata": {
        "id": "yd9qaY1Ozc5H"
      },
      "execution_count": null,
      "outputs": []
    },
    {
      "cell_type": "code",
      "source": [
        "model = get_model()\n",
        "model.summary()"
      ],
      "metadata": {
        "colab": {
          "base_uri": "https://localhost:8080/"
        },
        "id": "gDGGK594KtDK",
        "outputId": "58ee1edc-a2a2-4299-de15-020180aa78e0"
      },
      "execution_count": null,
      "outputs": [
        {
          "output_type": "stream",
          "name": "stdout",
          "text": [
            "Model: \"model_10\"\n",
            "_________________________________________________________________\n",
            " Layer (type)                Output Shape              Param #   \n",
            "=================================================================\n",
            " Input_Text (InputLayer)     [(None, 31)]              0         \n",
            "                                                                 \n",
            " Embedding (Embedding)       (None, 31, 256)           5120000   \n",
            "                                                                 \n",
            " separable_conv1d_10 (Separa  (None, 29, 16)           4880      \n",
            " bleConv1D)                                                      \n",
            "                                                                 \n",
            " max_pooling1d_10 (MaxPoolin  (None, 14, 16)           0         \n",
            " g1D)                                                            \n",
            "                                                                 \n",
            " flatten_10 (Flatten)        (None, 224)               0         \n",
            "                                                                 \n",
            " dropout_20 (Dropout)        (None, 224)               0         \n",
            "                                                                 \n",
            " dense_10 (Dense)            (None, 16)                3600      \n",
            "                                                                 \n",
            " dropout_21 (Dropout)        (None, 16)                0         \n",
            "                                                                 \n",
            " Binary_Classifier (Dense)   (None, 1)                 17        \n",
            "                                                                 \n",
            "=================================================================\n",
            "Total params: 5,128,497\n",
            "Trainable params: 5,128,497\n",
            "Non-trainable params: 0\n",
            "_________________________________________________________________\n"
          ]
        }
      ]
    },
    {
      "cell_type": "code",
      "source": [
        "tf.keras.utils.plot_model(model, show_shapes = True, show_layer_activations = True)"
      ],
      "metadata": {
        "colab": {
          "base_uri": "https://localhost:8080/",
          "height": 976
        },
        "id": "Nf_9eakEl_Mi",
        "outputId": "a406e839-b70c-4b51-8211-b8c45f3aef8c"
      },
      "execution_count": null,
      "outputs": [
        {
          "output_type": "execute_result",
          "data": {
            "image/png": "[encoded data removed]",
            "text/plain": [
              "<IPython.core.display.Image object>"
            ]
          },
          "metadata": {},
          "execution_count": 62
        }
      ]
    },
    {
      "cell_type": "code",
      "source": [
        "# tf.config.run_functions_eagerly(True)\n",
        "model_file_path = os.path.join(path, \"models\", \"dense_16_SepConv1D.keras\")\n",
        "\n",
        "callbacks = [tf.keras.callbacks.ModelCheckpoint(model_file_path,\n",
        "                                                save_best_only = True,\n",
        "                                                monitor = 'val_loss')]\n",
        "\n",
        "history = model.fit(int_train_df,\n",
        "                    validation_data = int_val_df,\n",
        "                    epochs = 10,\n",
        "                    callbacks = callbacks)"
      ],
      "metadata": {
        "colab": {
          "base_uri": "https://localhost:8080/"
        },
        "id": "LJoEsDRgTUTH",
        "outputId": "0d0546b5-8b59-4e8a-a87b-4a140258d1d6"
      },
      "execution_count": null,
      "outputs": [
        {
          "output_type": "stream",
          "name": "stdout",
          "text": [
            "Epoch 1/10\n",
            "48/48 [==============================] - 2s 28ms/step - loss: 0.6893 - accuracy: 0.5649 - auc: 0.4996 - val_loss: 0.6817 - val_accuracy: 0.5706 - val_auc: 0.6239\n",
            "Epoch 2/10\n",
            "48/48 [==============================] - 1s 20ms/step - loss: 0.6510 - accuracy: 0.6287 - auc: 0.6681 - val_loss: 0.5636 - val_accuracy: 0.7531 - val_auc: 0.8120\n",
            "Epoch 3/10\n",
            "48/48 [==============================] - 1s 19ms/step - loss: 0.4375 - accuracy: 0.8182 - auc: 0.8735 - val_loss: 0.4503 - val_accuracy: 0.7912 - val_auc: 0.8570\n",
            "Epoch 4/10\n",
            "48/48 [==============================] - 1s 17ms/step - loss: 0.2890 - accuracy: 0.8977 - auc: 0.9416 - val_loss: 0.4896 - val_accuracy: 0.8004 - val_auc: 0.8548\n",
            "Epoch 5/10\n",
            "48/48 [==============================] - 1s 17ms/step - loss: 0.1949 - accuracy: 0.9374 - auc: 0.9726 - val_loss: 0.5814 - val_accuracy: 0.7919 - val_auc: 0.8440\n",
            "Epoch 6/10\n",
            "48/48 [==============================] - 1s 17ms/step - loss: 0.1483 - accuracy: 0.9581 - auc: 0.9824 - val_loss: 0.6614 - val_accuracy: 0.7873 - val_auc: 0.8371\n",
            "Epoch 7/10\n",
            "48/48 [==============================] - 1s 18ms/step - loss: 0.1212 - accuracy: 0.9655 - auc: 0.9881 - val_loss: 0.7260 - val_accuracy: 0.7899 - val_auc: 0.8333\n",
            "Epoch 8/10\n",
            "48/48 [==============================] - 1s 18ms/step - loss: 0.0969 - accuracy: 0.9708 - auc: 0.9929 - val_loss: 0.8039 - val_accuracy: 0.7879 - val_auc: 0.8297\n",
            "Epoch 9/10\n",
            "48/48 [==============================] - 1s 18ms/step - loss: 0.0890 - accuracy: 0.9745 - auc: 0.9930 - val_loss: 0.8330 - val_accuracy: 0.7859 - val_auc: 0.8261\n",
            "Epoch 10/10\n",
            "48/48 [==============================] - 1s 17ms/step - loss: 0.0792 - accuracy: 0.9787 - auc: 0.9953 - val_loss: 0.8722 - val_accuracy: 0.7827 - val_auc: 0.8253\n"
          ]
        }
      ]
    },
    {
      "cell_type": "code",
      "source": [
        "accuracy = history.history[\"accuracy\"]\n",
        "val_accuracy = history.history[\"val_accuracy\"]\n",
        "loss = history.history[\"loss\"]\n",
        "val_loss = history.history[\"val_loss\"]\n",
        "auc = history.history[\"auc\"]\n",
        "val_auc = history.history[\"val_auc\"]\n",
        "epochs = range(1, len(accuracy) + 1)\n",
        "\n",
        "plt.plot(epochs, accuracy, \"r--\", label=\"Training accuracy\")\n",
        "plt.plot(epochs, val_accuracy, \"b-\", label=\"Validation accuracy\")\n",
        "plt.title(\"Training and validation accuracy\")\n",
        "plt.legend()\n",
        "plt.figure()\n",
        "plt.plot(epochs, loss, \"r--\", label=\"Training loss\")\n",
        "plt.plot(epochs, val_loss, \"b-\", label=\"Validation loss\")\n",
        "plt.title(\"Training and validation loss\")\n",
        "plt.legend()\n",
        "plt.figure()\n",
        "plt.plot(epochs, auc, \"r--\", label=\"Training ROC AUC\")\n",
        "plt.plot(epochs, val_auc, \"b-\", label=\"Validation ROC AUC\")\n",
        "plt.title(\"Training and validation ROC AUC\")\n",
        "plt.legend()\n",
        "plt.show()"
      ],
      "metadata": {
        "colab": {
          "base_uri": "https://localhost:8080/",
          "height": 809
        },
        "id": "sCSxSr3rga_M",
        "outputId": "dab3b6d2-8242-41de-bf6d-7d479c35776a"
      },
      "execution_count": null,
      "outputs": [
        {
          "output_type": "display_data",
          "data": {
            "text/plain": [
              "<Figure size 432x288 with 1 Axes>"
            ],
            "image/png": "[encoded data removed]"
          },
          "metadata": {
            "needs_background": "light"
          }
        },
        {
          "output_type": "display_data",
          "data": {
            "text/plain": [
              "<Figure size 432x288 with 1 Axes>"
            ],
            "image/png": "[encoded data removed]"
          },
          "metadata": {
            "needs_background": "light"
          }
        },
        {
          "output_type": "display_data",
          "data": {
            "text/plain": [
              "<Figure size 432x288 with 1 Axes>"
            ],
            "image/png": "[encoded data removed]"
          },
          "metadata": {
            "needs_background": "light"
          }
        }
      ]
    },
    {
      "cell_type": "code",
      "source": [
        "# Evaluating the model\n",
        "import numpy as np\n",
        "from sklearn.metrics import f1_score, classification_report\n",
        "\n",
        "model = tf.keras.models.load_model(model_file_path)\n",
        "y_pred = model.predict(int_val_df)"
      ],
      "metadata": {
        "id": "fFacHYj-HXxZ"
      },
      "execution_count": null,
      "outputs": []
    },
    {
      "cell_type": "code",
      "source": [
        "y_pred_hard = np.where(y_pred > 0.5, 1, 0)\n",
        "f1_score(y_val, y_pred_hard)"
      ],
      "metadata": {
        "colab": {
          "base_uri": "https://localhost:8080/"
        },
        "id": "E0kQK6AsHlnQ",
        "outputId": "a2ce1317-8b17-448c-a8dd-5a68eb630bc5"
      },
      "execution_count": null,
      "outputs": [
        {
          "output_type": "execute_result",
          "data": {
            "text/plain": [
              "0.7401960784313726"
            ]
          },
          "metadata": {},
          "execution_count": 91
        }
      ]
    },
    {
      "cell_type": "code",
      "source": [
        "print(classification_report(y_val, y_pred_hard))"
      ],
      "metadata": {
        "colab": {
          "base_uri": "https://localhost:8080/"
        },
        "id": "5tHOJxKHH2Tw",
        "outputId": "9fc2660d-c4f6-4ed3-a77c-cd50d001b4ab"
      },
      "execution_count": null,
      "outputs": [
        {
          "output_type": "stream",
          "name": "stdout",
          "text": [
            "              precision    recall  f1-score   support\n",
            "\n",
            "           0       0.79      0.87      0.83       869\n",
            "           1       0.79      0.69      0.74       654\n",
            "\n",
            "    accuracy                           0.79      1523\n",
            "   macro avg       0.79      0.78      0.78      1523\n",
            "weighted avg       0.79      0.79      0.79      1523\n",
            "\n"
          ]
        }
      ]
    },
    {
      "cell_type": "code",
      "source": [
        "# Preparing complete df for final training on complete train.csv\n",
        "X, y = raw_data['cleaned_text'], raw_data['target']\n",
        "\n",
        "complete_df = tf.data.Dataset.from_tensor_slices((X, y)).batch(batch_size = batch_size)\n",
        "\n",
        "# Text only tf.Datasets\n",
        "text_only_complete_df = complete_df.map(lambda x, y: x)\n",
        "text_vectorization.adapt(text_only_complete_df)\n",
        "\n",
        "int_complete_df = complete_df.map(\n",
        "    lambda x, y: (text_vectorization(x), y),\n",
        "    num_parallel_calls=4)"
      ],
      "metadata": {
        "id": "7filx95KIrfo"
      },
      "execution_count": null,
      "outputs": []
    },
    {
      "cell_type": "code",
      "source": [
        "# Fitting the model to the complete train.csv dataset\n",
        "model = get_model()\n",
        "\n",
        "history = model.fit(int_complete_df,\n",
        "                    epochs = 5)"
      ],
      "metadata": {
        "colab": {
          "base_uri": "https://localhost:8080/"
        },
        "id": "M0iEh6EaJ7kP",
        "outputId": "e16de756-eb47-4f38-f8b4-3772f6ae9666"
      },
      "execution_count": null,
      "outputs": [
        {
          "output_type": "stream",
          "name": "stdout",
          "text": [
            "Epoch 1/5\n",
            "60/60 [==============================] - 2s 18ms/step - loss: 0.6892 - accuracy: 0.5702 - auc: 0.4680\n",
            "Epoch 2/5\n",
            "60/60 [==============================] - 1s 14ms/step - loss: 0.6654 - accuracy: 0.5854 - auc: 0.6449\n",
            "Epoch 3/5\n",
            "60/60 [==============================] - 1s 15ms/step - loss: 0.5271 - accuracy: 0.7630 - auc: 0.8500\n",
            "Epoch 4/5\n",
            "60/60 [==============================] - 1s 15ms/step - loss: 0.3276 - accuracy: 0.8813 - auc: 0.9362\n",
            "Epoch 5/5\n",
            "60/60 [==============================] - 1s 15ms/step - loss: 0.1913 - accuracy: 0.9366 - auc: 0.9765\n"
          ]
        }
      ]
    },
    {
      "cell_type": "code",
      "source": [
        "# Processing test dataset\n",
        "test_data = pd.read_csv(test_data_path)\n",
        "test_text = test_data['text'].apply(tweet_clean,\n",
        "                                    replace_amper = True,\n",
        "                                    retrieve_hashtag = False)\n",
        "\n",
        "test_df = tf.data.Dataset.from_tensor_slices((test_text)).batch(batch_size = batch_size)\n",
        "\n",
        "int_test_df = test_df.map(\n",
        "    lambda x: text_vectorization(x),\n",
        "    num_parallel_calls=4)"
      ],
      "metadata": {
        "id": "pmAXpOLdKy8Q"
      },
      "execution_count": null,
      "outputs": []
    },
    {
      "cell_type": "code",
      "source": [
        "list(int_test_df.take(1).as_numpy_iterator())"
      ],
      "metadata": {
        "colab": {
          "base_uri": "https://localhost:8080/"
        },
        "id": "9uFbrASYLwYo",
        "outputId": "80882e08-85fa-4686-9f5c-6263100b4728"
      },
      "execution_count": null,
      "outputs": [
        {
          "output_type": "execute_result",
          "data": {
            "text/plain": [
              "[array([[ 29, 890,   3, ...,   0,   0,   0],\n",
              "        [456,  52, 249, ...,   0,   0,   0],\n",
              "        [ 74,   9,   3, ...,   0,   0,   0],\n",
              "        ...,\n",
              "        [  8, 290,   3, ...,   0,   0,   0],\n",
              "        [  8, 290,   3, ...,   0,   0,   0],\n",
              "        [ 29,  57,   6, ...,   0,   0,   0]], dtype=int64)]"
            ]
          },
          "metadata": {},
          "execution_count": 107
        }
      ]
    },
    {
      "cell_type": "code",
      "source": [
        "y_test = model.predict(int_test_df)\n",
        "y_test_hard = np.where(y_test > 0.5, 1, 0)\n",
        "y_test_hard"
      ],
      "metadata": {
        "colab": {
          "base_uri": "https://localhost:8080/"
        },
        "id": "pMuAkWwyKqk3",
        "outputId": "52c04979-3833-4350-f0b5-5a5ad59d1760"
      },
      "execution_count": null,
      "outputs": [
        {
          "output_type": "execute_result",
          "data": {
            "text/plain": [
              "array([[1],\n",
              "       [0],\n",
              "       [1],\n",
              "       ...,\n",
              "       [1],\n",
              "       [1],\n",
              "       [1]])"
            ]
          },
          "metadata": {},
          "execution_count": 109
        }
      ]
    },
    {
      "cell_type": "code",
      "source": [
        "sample_submission_data_path = os.path.join(path, \"data\", \"sample_submission.csv\")\n",
        "submission = pd.read_csv(sample_submission_data_path)\n",
        "submission['target'] = y_test_hard\n",
        "submission"
      ],
      "metadata": {
        "colab": {
          "base_uri": "https://localhost:8080/",
          "height": 424
        },
        "id": "O5vJkXgUMg-C",
        "outputId": "dbbeeccc-9fa6-41a6-d2dd-946f89132ef0"
      },
      "execution_count": null,
      "outputs": [
        {
          "output_type": "execute_result",
          "data": {
            "text/plain": [
              "         id  target\n",
              "0         0       1\n",
              "1         2       0\n",
              "2         3       1\n",
              "3         9       1\n",
              "4        11       1\n",
              "...     ...     ...\n",
              "3258  10861       0\n",
              "3259  10865       1\n",
              "3260  10868       1\n",
              "3261  10874       1\n",
              "3262  10875       1\n",
              "\n",
              "[3263 rows x 2 columns]"
            ],
            "text/html": [
              "<div>\n",
              "<style scoped>\n",
              "    .dataframe tbody tr th:only-of-type {\n",
              "        vertical-align: middle;\n",
              "    }\n",
              "\n",
              "    .dataframe tbody tr th {\n",
              "        vertical-align: top;\n",
              "    }\n",
              "\n",
              "    .dataframe thead th {\n",
              "        text-align: right;\n",
              "    }\n",
              "</style>\n",
              "<table border=\"1\" class=\"dataframe\">\n",
              "  <thead>\n",
              "    <tr style=\"text-align: right;\">\n",
              "      <th></th>\n",
              "      <th>id</th>\n",
              "      <th>target</th>\n",
              "    </tr>\n",
              "  </thead>\n",
              "  <tbody>\n",
              "    <tr>\n",
              "      <th>0</th>\n",
              "      <td>0</td>\n",
              "      <td>1</td>\n",
              "    </tr>\n",
              "    <tr>\n",
              "      <th>1</th>\n",
              "      <td>2</td>\n",
              "      <td>0</td>\n",
              "    </tr>\n",
              "    <tr>\n",
              "      <th>2</th>\n",
              "      <td>3</td>\n",
              "      <td>1</td>\n",
              "    </tr>\n",
              "    <tr>\n",
              "      <th>3</th>\n",
              "      <td>9</td>\n",
              "      <td>1</td>\n",
              "    </tr>\n",
              "    <tr>\n",
              "      <th>4</th>\n",
              "      <td>11</td>\n",
              "      <td>1</td>\n",
              "    </tr>\n",
              "    <tr>\n",
              "      <th>...</th>\n",
              "      <td>...</td>\n",
              "      <td>...</td>\n",
              "    </tr>\n",
              "    <tr>\n",
              "      <th>3258</th>\n",
              "      <td>10861</td>\n",
              "      <td>0</td>\n",
              "    </tr>\n",
              "    <tr>\n",
              "      <th>3259</th>\n",
              "      <td>10865</td>\n",
              "      <td>1</td>\n",
              "    </tr>\n",
              "    <tr>\n",
              "      <th>3260</th>\n",
              "      <td>10868</td>\n",
              "      <td>1</td>\n",
              "    </tr>\n",
              "    <tr>\n",
              "      <th>3261</th>\n",
              "      <td>10874</td>\n",
              "      <td>1</td>\n",
              "    </tr>\n",
              "    <tr>\n",
              "      <th>3262</th>\n",
              "      <td>10875</td>\n",
              "      <td>1</td>\n",
              "    </tr>\n",
              "  </tbody>\n",
              "</table>\n",
              "<p>3263 rows × 2 columns</p>\n",
              "</div>"
            ]
          },
          "metadata": {},
          "execution_count": 110
        }
      ]
    },
    {
      "cell_type": "code",
      "source": [
        "conv1D_submission_data_path = os.path.join(path, \"data\", \"conv1D_submission.csv\")\n",
        "submission.to_csv(conv1D_submission_data_path, index = False, header = True)"
      ],
      "metadata": {
        "id": "SKbBIPZmM52_"
      },
      "execution_count": null,
      "outputs": []
    }
  ]
}