{
  "nbformat": 4,
  "nbformat_minor": 0,
  "metadata": {
    "colab": {
      "name": "Twitter_Disaster_Keras-Sequential.ipynb",
      "provenance": [],
      "collapsed_sections": [
        "lA58lTI4wk_H"
      ]
    },
    "kernelspec": {
      "name": "python3",
      "display_name": "Python 3"
    },
    "language_info": {
      "name": "python"
    },
    "accelerator": "GPU"
  },
  "cells": [
    {
      "cell_type": "markdown",
      "source": [
        "## Dataset: Kaggle NLP with Disaster Tweets\n",
        "Predict which Tweets are about real disasters and which ones are not\n",
        "- https://www.kaggle.com/c/nlp-getting-started/overview\n",
        "\n",
        "Deep Learning Sequential Neural Network model with TensorFlow and Keras API"
      ],
      "metadata": {
        "id": "LXO9PY2bvbNc"
      }
    },
    {
      "cell_type": "code",
      "source": [
        "!pip install tokenization\n",
        "!pip install tweet-preprocessor"
      ],
      "metadata": {
        "colab": {
          "base_uri": "https://localhost:8080/"
        },
        "id": "DG3ha-U53Ar6",
        "outputId": "0ff5ea92-40a4-40ab-f63d-66c9940459c4"
      },
      "execution_count": null,
      "outputs": [
        {
          "output_type": "stream",
          "name": "stdout",
          "text": [
            "Collecting tokenization\n",
            "  Downloading tokenization-1.0.7-py3-none-any.whl (10 kB)\n",
            "Requirement already satisfied: regex in /usr/local/lib/python3.7/dist-packages (from tokenization) (2019.12.20)\n",
            "Installing collected packages: tokenization\n",
            "Successfully installed tokenization-1.0.7\n",
            "Collecting tweet-preprocessor\n",
            "  Downloading tweet_preprocessor-0.6.0-py3-none-any.whl (27 kB)\n",
            "Installing collected packages: tweet-preprocessor\n",
            "Successfully installed tweet-preprocessor-0.6.0\n"
          ]
        }
      ]
    },
    {
      "cell_type": "code",
      "source": [
        "# Import packages\n",
        "import numpy as np\n",
        "import matplotlib.pyplot as plt\n",
        "import pandas as pd\n",
        "import re\n",
        "import tokenization\n",
        "from sklearn import preprocessing\n",
        "import preprocessor as p\n",
        "import nltk\n",
        "from nltk.tokenize import TweetTokenizer\n",
        "from nltk.stem import WordNetLemmatizer\n",
        "from nltk.corpus import stopwords\n",
        "from nltk.stem import SnowballStemmer\n",
        "nltk.download\n",
        "nltk.download('wordnet')\n",
        "nltk.download('stopwords')\n",
        "from tensorflow.keras.preprocessing.text import Tokenizer\n",
        "from tensorflow.keras.preprocessing import sequence\n",
        "from tensorflow.keras.metrics import BinaryAccuracy\n",
        "import math\n",
        "\n",
        "%matplotlib inline"
      ],
      "metadata": {
        "id": "Bidhnv5HvTuW",
        "colab": {
          "base_uri": "https://localhost:8080/"
        },
        "outputId": "4f971d4a-668e-49fa-bb5e-cb68971da19f"
      },
      "execution_count": null,
      "outputs": [
        {
          "output_type": "stream",
          "name": "stdout",
          "text": [
            "[nltk_data] Downloading package wordnet to /root/nltk_data...\n",
            "[nltk_data]   Unzipping corpora/wordnet.zip.\n",
            "[nltk_data] Downloading package stopwords to /root/nltk_data...\n",
            "[nltk_data]   Unzipping corpora/stopwords.zip.\n"
          ]
        }
      ]
    },
    {
      "cell_type": "code",
      "source": [
        "# Load dataset\n",
        "train_set = pd.read_csv('data/train.csv')\n",
        "test_set = pd.read_csv('data/test.csv')\n",
        "sample_submission = pd.read_csv('data/sample_submission.csv')"
      ],
      "metadata": {
        "id": "xJhsfdZbwJlt"
      },
      "execution_count": null,
      "outputs": []
    },
    {
      "cell_type": "code",
      "source": [
        "print(train_set.head(), '\\n', 'Train set shape: ', train_set.shape)"
      ],
      "metadata": {
        "colab": {
          "base_uri": "https://localhost:8080/"
        },
        "id": "PfGiMD_gy_aQ",
        "outputId": "c7da9645-5912-4a8e-c707-b53becf887b3"
      },
      "execution_count": null,
      "outputs": [
        {
          "output_type": "stream",
          "name": "stdout",
          "text": [
            "   id keyword  ...                                               text target\n",
            "0   1     NaN  ...  Our Deeds are the Reason of this #earthquake M...      1\n",
            "1   4     NaN  ...             Forest fire near La Ronge Sask. Canada      1\n",
            "2   5     NaN  ...  All residents asked to 'shelter in place' are ...      1\n",
            "3   6     NaN  ...  13,000 people receive #wildfires evacuation or...      1\n",
            "4   7     NaN  ...  Just got sent this photo from Ruby #Alaska as ...      1\n",
            "\n",
            "[5 rows x 5 columns] \n",
            " Train set shape:  (7613, 5)\n"
          ]
        }
      ]
    },
    {
      "cell_type": "code",
      "source": [
        "train_set.drop_duplicates('text', keep = 'last', inplace = True)\n",
        "print('Train set shape without duplicates: ', train_set.shape)\n",
        "\n",
        "train_set.reset_index(inplace = True)"
      ],
      "metadata": {
        "colab": {
          "base_uri": "https://localhost:8080/"
        },
        "id": "zlYEOTcT4-S5",
        "outputId": "fef2e467-7d9a-4e0d-f208-13c2ebdc46b9"
      },
      "execution_count": null,
      "outputs": [
        {
          "output_type": "stream",
          "name": "stdout",
          "text": [
            "Train set shape without duplicates:  (7503, 5)\n"
          ]
        }
      ]
    },
    {
      "cell_type": "code",
      "source": [
        "print(test_set.head(), '\\n', 'test set shape: ', test_set.shape)"
      ],
      "metadata": {
        "colab": {
          "base_uri": "https://localhost:8080/"
        },
        "id": "zLte2pzCzQFW",
        "outputId": "30d16f19-3466-4081-b42d-90303c319239"
      },
      "execution_count": null,
      "outputs": [
        {
          "output_type": "stream",
          "name": "stdout",
          "text": [
            "   id keyword location                                               text\n",
            "0   0     NaN      NaN                 Just happened a terrible car crash\n",
            "1   2     NaN      NaN  Heard about #earthquake is different cities, s...\n",
            "2   3     NaN      NaN  there is a forest fire at spot pond, geese are...\n",
            "3   9     NaN      NaN           Apocalypse lighting. #Spokane #wildfires\n",
            "4  11     NaN      NaN      Typhoon Soudelor kills 28 in China and Taiwan \n",
            " test set shape:  (3263, 4)\n"
          ]
        }
      ]
    },
    {
      "cell_type": "code",
      "source": [
        "# Encoding labels\n",
        "label = preprocessing.LabelEncoder()\n",
        "train_y = label.fit_transform(train_set['target'])\n",
        "\n",
        "print('Train set shape: ', train_y.shape, train_y.dtype)\n",
        "print('Disaster tweets on training set: ', np.count_nonzero(train_y == 1))\n",
        "print('Non-disaster tweets on training set: ', np.count_nonzero(train_y == 0))"
      ],
      "metadata": {
        "colab": {
          "base_uri": "https://localhost:8080/"
        },
        "id": "Hm-hx34YzdrW",
        "outputId": "177d291c-7835-4537-9257-d2a622839b0b"
      },
      "execution_count": null,
      "outputs": [
        {
          "output_type": "stream",
          "name": "stdout",
          "text": [
            "Train set shape:  (7503,) int64\n",
            "Disaster tweets on training set:  3196\n",
            "Non-disaster tweets on training set:  4307\n"
          ]
        }
      ]
    },
    {
      "cell_type": "markdown",
      "source": [
        "### Tweets Preprocessing"
      ],
      "metadata": {
        "id": "l4JgWstl_rEU"
      }
    },
    {
      "cell_type": "code",
      "source": [
        "# Analyzing unique keywords on original datasets\n",
        "train_set['keyword'].value_counts()"
      ],
      "metadata": {
        "colab": {
          "base_uri": "https://localhost:8080/"
        },
        "id": "YF_bib1r_vBk",
        "outputId": "e1f72937-e511-4da2-f27c-f95dc5b664f6"
      },
      "execution_count": null,
      "outputs": [
        {
          "output_type": "execute_result",
          "data": {
            "text/plain": [
              "fatalities               45\n",
              "armageddon               42\n",
              "deluge                   42\n",
              "harm                     41\n",
              "body%20bags              41\n",
              "                         ..\n",
              "forest%20fire            19\n",
              "epicentre                12\n",
              "threat                   11\n",
              "inundation               10\n",
              "radiation%20emergency     9\n",
              "Name: keyword, Length: 221, dtype: int64"
            ]
          },
          "metadata": {},
          "execution_count": 9
        }
      ]
    },
    {
      "cell_type": "code",
      "source": [
        "test_set['keyword'].value_counts()"
      ],
      "metadata": {
        "colab": {
          "base_uri": "https://localhost:8080/"
        },
        "id": "mj1hkWMKAj2W",
        "outputId": "550d8098-88c6-40c5-e9e4-88b4713d7970"
      },
      "execution_count": null,
      "outputs": [
        {
          "output_type": "execute_result",
          "data": {
            "text/plain": [
              "deluged                  23\n",
              "rubble                   22\n",
              "demolished               22\n",
              "snowstorm                21\n",
              "sirens                   21\n",
              "                         ..\n",
              "radiation%20emergency     5\n",
              "forest%20fire             5\n",
              "threat                    5\n",
              "inundation                4\n",
              "epicentre                 1\n",
              "Name: keyword, Length: 221, dtype: int64"
            ]
          },
          "metadata": {},
          "execution_count": 10
        }
      ]
    },
    {
      "cell_type": "code",
      "source": [
        "unique_keys = set(np.concatenate((test_set['keyword'].unique(), train_set['keyword'].unique())))\n",
        "len(unique_keys) -1 # Removing nan\n",
        "# Distribution of unique keys are the same within training and test datasets"
      ],
      "metadata": {
        "colab": {
          "base_uri": "https://localhost:8080/"
        },
        "id": "MX3RQ50pApu0",
        "outputId": "60fcf4a1-3b6e-48a5-8ca2-c79a2ee0ca10"
      },
      "execution_count": null,
      "outputs": [
        {
          "output_type": "execute_result",
          "data": {
            "text/plain": [
              "221"
            ]
          },
          "metadata": {},
          "execution_count": 11
        }
      ]
    },
    {
      "cell_type": "code",
      "source": [
        "# Capturing new keywords with Hashtag Extraction using Regex\n",
        "def hashtag_extract(tweet):\n",
        "  \"\"\"\n",
        "  Extract hashtag from text strings within individual tweets.\n",
        "  \n",
        "  Argument: tweet -- String.\n",
        "  Returns: hashtag -- List of lowercase strings. Hashtags contained on tweet.\n",
        "  \"\"\"\n",
        "  hashtag = re.findall(r\"#(\\w+)\", tweet)\n",
        "  hashtag = list(map(str.lower, hashtag))\n",
        "  return hashtag\n",
        "\n",
        "train_set['hashtags'] = train_set['text'].apply(hashtag_extract)\n",
        "train_set.head()"
      ],
      "metadata": {
        "colab": {
          "base_uri": "https://localhost:8080/",
          "height": 206
        },
        "id": "jKNy5VUKCWeV",
        "outputId": "c091b3d7-99ea-49ef-895d-86c9f5517730"
      },
      "execution_count": null,
      "outputs": [
        {
          "output_type": "execute_result",
          "data": {
            "text/html": [
              "\n",
              "  <div id=\"df-38df46c1-75e7-4426-acbf-f00ad5e002cb\">\n",
              "    <div class=\"colab-df-container\">\n",
              "      <div>\n",
              "<style scoped>\n",
              "    .dataframe tbody tr th:only-of-type {\n",
              "        vertical-align: middle;\n",
              "    }\n",
              "\n",
              "    .dataframe tbody tr th {\n",
              "        vertical-align: top;\n",
              "    }\n",
              "\n",
              "    .dataframe thead th {\n",
              "        text-align: right;\n",
              "    }\n",
              "</style>\n",
              "<table border=\"1\" class=\"dataframe\">\n",
              "  <thead>\n",
              "    <tr style=\"text-align: right;\">\n",
              "      <th></th>\n",
              "      <th>index</th>\n",
              "      <th>id</th>\n",
              "      <th>keyword</th>\n",
              "      <th>location</th>\n",
              "      <th>text</th>\n",
              "      <th>target</th>\n",
              "      <th>hashtags</th>\n",
              "    </tr>\n",
              "  </thead>\n",
              "  <tbody>\n",
              "    <tr>\n",
              "      <th>0</th>\n",
              "      <td>0</td>\n",
              "      <td>1</td>\n",
              "      <td>NaN</td>\n",
              "      <td>NaN</td>\n",
              "      <td>Our Deeds are the Reason of this #earthquake M...</td>\n",
              "      <td>1</td>\n",
              "      <td>[earthquake]</td>\n",
              "    </tr>\n",
              "    <tr>\n",
              "      <th>1</th>\n",
              "      <td>1</td>\n",
              "      <td>4</td>\n",
              "      <td>NaN</td>\n",
              "      <td>NaN</td>\n",
              "      <td>Forest fire near La Ronge Sask. Canada</td>\n",
              "      <td>1</td>\n",
              "      <td>[]</td>\n",
              "    </tr>\n",
              "    <tr>\n",
              "      <th>2</th>\n",
              "      <td>2</td>\n",
              "      <td>5</td>\n",
              "      <td>NaN</td>\n",
              "      <td>NaN</td>\n",
              "      <td>All residents asked to 'shelter in place' are ...</td>\n",
              "      <td>1</td>\n",
              "      <td>[]</td>\n",
              "    </tr>\n",
              "    <tr>\n",
              "      <th>3</th>\n",
              "      <td>3</td>\n",
              "      <td>6</td>\n",
              "      <td>NaN</td>\n",
              "      <td>NaN</td>\n",
              "      <td>13,000 people receive #wildfires evacuation or...</td>\n",
              "      <td>1</td>\n",
              "      <td>[wildfires]</td>\n",
              "    </tr>\n",
              "    <tr>\n",
              "      <th>4</th>\n",
              "      <td>4</td>\n",
              "      <td>7</td>\n",
              "      <td>NaN</td>\n",
              "      <td>NaN</td>\n",
              "      <td>Just got sent this photo from Ruby #Alaska as ...</td>\n",
              "      <td>1</td>\n",
              "      <td>[alaska, wildfires]</td>\n",
              "    </tr>\n",
              "  </tbody>\n",
              "</table>\n",
              "</div>\n",
              "      <button class=\"colab-df-convert\" onclick=\"convertToInteractive('df-38df46c1-75e7-4426-acbf-f00ad5e002cb')\"\n",
              "              title=\"Convert this dataframe to an interactive table.\"\n",
              "              style=\"display:none;\">\n",
              "        \n",
              "  <svg xmlns=\"http://www.w3.org/2000/svg\" height=\"24px\"viewBox=\"0 0 24 24\"\n",
              "       width=\"24px\">\n",
              "    <path d=\"M0 0h24v24H0V0z\" fill=\"none\"/>\n",
              "    <path d=\"M18.56 5.44l.94 2.06.94-2.06 2.06-.94-2.06-.94-.94-2.06-.94 2.06-2.06.94zm-11 1L8.5 8.5l.94-2.06 2.06-.94-2.06-.94L8.5 2.5l-.94 2.06-2.06.94zm10 10l.94 2.06.94-2.06 2.06-.94-2.06-.94-.94-2.06-.94 2.06-2.06.94z\"/><path d=\"M17.41 7.96l-1.37-1.37c-.4-.4-.92-.59-1.43-.59-.52 0-1.04.2-1.43.59L10.3 9.45l-7.72 7.72c-.78.78-.78 2.05 0 2.83L4 21.41c.39.39.9.59 1.41.59.51 0 1.02-.2 1.41-.59l7.78-7.78 2.81-2.81c.8-.78.8-2.07 0-2.86zM5.41 20L4 18.59l7.72-7.72 1.47 1.35L5.41 20z\"/>\n",
              "  </svg>\n",
              "      </button>\n",
              "      \n",
              "  <style>\n",
              "    .colab-df-container {\n",
              "      display:flex;\n",
              "      flex-wrap:wrap;\n",
              "      gap: 12px;\n",
              "    }\n",
              "\n",
              "    .colab-df-convert {\n",
              "      background-color: #E8F0FE;\n",
              "      border: none;\n",
              "      border-radius: 50%;\n",
              "      cursor: pointer;\n",
              "      display: none;\n",
              "      fill: #1967D2;\n",
              "      height: 32px;\n",
              "      padding: 0 0 0 0;\n",
              "      width: 32px;\n",
              "    }\n",
              "\n",
              "    .colab-df-convert:hover {\n",
              "      background-color: #E2EBFA;\n",
              "      box-shadow: 0px 1px 2px rgba(60, 64, 67, 0.3), 0px 1px 3px 1px rgba(60, 64, 67, 0.15);\n",
              "      fill: #174EA6;\n",
              "    }\n",
              "\n",
              "    [theme=dark] .colab-df-convert {\n",
              "      background-color: #3B4455;\n",
              "      fill: #D2E3FC;\n",
              "    }\n",
              "\n",
              "    [theme=dark] .colab-df-convert:hover {\n",
              "      background-color: #434B5C;\n",
              "      box-shadow: 0px 1px 3px 1px rgba(0, 0, 0, 0.15);\n",
              "      filter: drop-shadow(0px 1px 2px rgba(0, 0, 0, 0.3));\n",
              "      fill: #FFFFFF;\n",
              "    }\n",
              "  </style>\n",
              "\n",
              "      <script>\n",
              "        const buttonEl =\n",
              "          document.querySelector('#df-38df46c1-75e7-4426-acbf-f00ad5e002cb button.colab-df-convert');\n",
              "        buttonEl.style.display =\n",
              "          google.colab.kernel.accessAllowed ? 'block' : 'none';\n",
              "\n",
              "        async function convertToInteractive(key) {\n",
              "          const element = document.querySelector('#df-38df46c1-75e7-4426-acbf-f00ad5e002cb');\n",
              "          const dataTable =\n",
              "            await google.colab.kernel.invokeFunction('convertToInteractive',\n",
              "                                                     [key], {});\n",
              "          if (!dataTable) return;\n",
              "\n",
              "          const docLinkHtml = 'Like what you see? Visit the ' +\n",
              "            '<a target=\"_blank\" href=https://colab.research.google.com/notebooks/data_table.ipynb>data table notebook</a>'\n",
              "            + ' to learn more about interactive tables.';\n",
              "          element.innerHTML = '';\n",
              "          dataTable['output_type'] = 'display_data';\n",
              "          await google.colab.output.renderOutput(dataTable, element);\n",
              "          const docLink = document.createElement('div');\n",
              "          docLink.innerHTML = docLinkHtml;\n",
              "          element.appendChild(docLink);\n",
              "        }\n",
              "      </script>\n",
              "    </div>\n",
              "  </div>\n",
              "  "
            ],
            "text/plain": [
              "   index  id  ... target             hashtags\n",
              "0      0   1  ...      1         [earthquake]\n",
              "1      1   4  ...      1                   []\n",
              "2      2   5  ...      1                   []\n",
              "3      3   6  ...      1          [wildfires]\n",
              "4      4   7  ...      1  [alaska, wildfires]\n",
              "\n",
              "[5 rows x 7 columns]"
            ]
          },
          "metadata": {},
          "execution_count": 12
        }
      ]
    },
    {
      "cell_type": "code",
      "source": [
        "# Analyzing hashtag counts per tweet\n",
        "lengths = []\n",
        "for hashtags in train_set['hashtags']:\n",
        "  lengths.append(len(hashtags))\n",
        "\n",
        "plt.hist(lengths)\n",
        "plt.title('Hashtags per Tweet - Training Set')\n",
        "plt.xlabel('Hashtag count')\n",
        "plt.ylabel('Tweets');"
      ],
      "metadata": {
        "colab": {
          "base_uri": "https://localhost:8080/",
          "height": 295
        },
        "id": "B1KA3WO8Gndf",
        "outputId": "f41c9139-744a-4675-93c8-8ecde83332ef"
      },
      "execution_count": null,
      "outputs": [
        {
          "output_type": "display_data",
          "data": {
            "image/png": "[encoded data removed]",
            "text/plain": [
              "<Figure size 432x288 with 1 Axes>"
            ]
          },
          "metadata": {
            "needs_background": "light"
          }
        }
      ]
    },
    {
      "cell_type": "code",
      "source": [
        "# Capturing Hashtags on test dataset\n",
        "test_set['hashtags'] = test_set['text'].apply(hashtag_extract)\n",
        "test_set.head()"
      ],
      "metadata": {
        "colab": {
          "base_uri": "https://localhost:8080/",
          "height": 206
        },
        "id": "rYeqRXYBLEVo",
        "outputId": "0ac440a7-bb9a-4d4e-d24e-32229bfaad04"
      },
      "execution_count": null,
      "outputs": [
        {
          "output_type": "execute_result",
          "data": {
            "text/html": [
              "\n",
              "  <div id=\"df-1f278831-bb7d-44d3-8935-e50a981d3aba\">\n",
              "    <div class=\"colab-df-container\">\n",
              "      <div>\n",
              "<style scoped>\n",
              "    .dataframe tbody tr th:only-of-type {\n",
              "        vertical-align: middle;\n",
              "    }\n",
              "\n",
              "    .dataframe tbody tr th {\n",
              "        vertical-align: top;\n",
              "    }\n",
              "\n",
              "    .dataframe thead th {\n",
              "        text-align: right;\n",
              "    }\n",
              "</style>\n",
              "<table border=\"1\" class=\"dataframe\">\n",
              "  <thead>\n",
              "    <tr style=\"text-align: right;\">\n",
              "      <th></th>\n",
              "      <th>id</th>\n",
              "      <th>keyword</th>\n",
              "      <th>location</th>\n",
              "      <th>text</th>\n",
              "      <th>hashtags</th>\n",
              "    </tr>\n",
              "  </thead>\n",
              "  <tbody>\n",
              "    <tr>\n",
              "      <th>0</th>\n",
              "      <td>0</td>\n",
              "      <td>NaN</td>\n",
              "      <td>NaN</td>\n",
              "      <td>Just happened a terrible car crash</td>\n",
              "      <td>[]</td>\n",
              "    </tr>\n",
              "    <tr>\n",
              "      <th>1</th>\n",
              "      <td>2</td>\n",
              "      <td>NaN</td>\n",
              "      <td>NaN</td>\n",
              "      <td>Heard about #earthquake is different cities, s...</td>\n",
              "      <td>[earthquake]</td>\n",
              "    </tr>\n",
              "    <tr>\n",
              "      <th>2</th>\n",
              "      <td>3</td>\n",
              "      <td>NaN</td>\n",
              "      <td>NaN</td>\n",
              "      <td>there is a forest fire at spot pond, geese are...</td>\n",
              "      <td>[]</td>\n",
              "    </tr>\n",
              "    <tr>\n",
              "      <th>3</th>\n",
              "      <td>9</td>\n",
              "      <td>NaN</td>\n",
              "      <td>NaN</td>\n",
              "      <td>Apocalypse lighting. #Spokane #wildfires</td>\n",
              "      <td>[spokane, wildfires]</td>\n",
              "    </tr>\n",
              "    <tr>\n",
              "      <th>4</th>\n",
              "      <td>11</td>\n",
              "      <td>NaN</td>\n",
              "      <td>NaN</td>\n",
              "      <td>Typhoon Soudelor kills 28 in China and Taiwan</td>\n",
              "      <td>[]</td>\n",
              "    </tr>\n",
              "  </tbody>\n",
              "</table>\n",
              "</div>\n",
              "      <button class=\"colab-df-convert\" onclick=\"convertToInteractive('df-1f278831-bb7d-44d3-8935-e50a981d3aba')\"\n",
              "              title=\"Convert this dataframe to an interactive table.\"\n",
              "              style=\"display:none;\">\n",
              "        \n",
              "  <svg xmlns=\"http://www.w3.org/2000/svg\" height=\"24px\"viewBox=\"0 0 24 24\"\n",
              "       width=\"24px\">\n",
              "    <path d=\"M0 0h24v24H0V0z\" fill=\"none\"/>\n",
              "    <path d=\"M18.56 5.44l.94 2.06.94-2.06 2.06-.94-2.06-.94-.94-2.06-.94 2.06-2.06.94zm-11 1L8.5 8.5l.94-2.06 2.06-.94-2.06-.94L8.5 2.5l-.94 2.06-2.06.94zm10 10l.94 2.06.94-2.06 2.06-.94-2.06-.94-.94-2.06-.94 2.06-2.06.94z\"/><path d=\"M17.41 7.96l-1.37-1.37c-.4-.4-.92-.59-1.43-.59-.52 0-1.04.2-1.43.59L10.3 9.45l-7.72 7.72c-.78.78-.78 2.05 0 2.83L4 21.41c.39.39.9.59 1.41.59.51 0 1.02-.2 1.41-.59l7.78-7.78 2.81-2.81c.8-.78.8-2.07 0-2.86zM5.41 20L4 18.59l7.72-7.72 1.47 1.35L5.41 20z\"/>\n",
              "  </svg>\n",
              "      </button>\n",
              "      \n",
              "  <style>\n",
              "    .colab-df-container {\n",
              "      display:flex;\n",
              "      flex-wrap:wrap;\n",
              "      gap: 12px;\n",
              "    }\n",
              "\n",
              "    .colab-df-convert {\n",
              "      background-color: #E8F0FE;\n",
              "      border: none;\n",
              "      border-radius: 50%;\n",
              "      cursor: pointer;\n",
              "      display: none;\n",
              "      fill: #1967D2;\n",
              "      height: 32px;\n",
              "      padding: 0 0 0 0;\n",
              "      width: 32px;\n",
              "    }\n",
              "\n",
              "    .colab-df-convert:hover {\n",
              "      background-color: #E2EBFA;\n",
              "      box-shadow: 0px 1px 2px rgba(60, 64, 67, 0.3), 0px 1px 3px 1px rgba(60, 64, 67, 0.15);\n",
              "      fill: #174EA6;\n",
              "    }\n",
              "\n",
              "    [theme=dark] .colab-df-convert {\n",
              "      background-color: #3B4455;\n",
              "      fill: #D2E3FC;\n",
              "    }\n",
              "\n",
              "    [theme=dark] .colab-df-convert:hover {\n",
              "      background-color: #434B5C;\n",
              "      box-shadow: 0px 1px 3px 1px rgba(0, 0, 0, 0.15);\n",
              "      filter: drop-shadow(0px 1px 2px rgba(0, 0, 0, 0.3));\n",
              "      fill: #FFFFFF;\n",
              "    }\n",
              "  </style>\n",
              "\n",
              "      <script>\n",
              "        const buttonEl =\n",
              "          document.querySelector('#df-1f278831-bb7d-44d3-8935-e50a981d3aba button.colab-df-convert');\n",
              "        buttonEl.style.display =\n",
              "          google.colab.kernel.accessAllowed ? 'block' : 'none';\n",
              "\n",
              "        async function convertToInteractive(key) {\n",
              "          const element = document.querySelector('#df-1f278831-bb7d-44d3-8935-e50a981d3aba');\n",
              "          const dataTable =\n",
              "            await google.colab.kernel.invokeFunction('convertToInteractive',\n",
              "                                                     [key], {});\n",
              "          if (!dataTable) return;\n",
              "\n",
              "          const docLinkHtml = 'Like what you see? Visit the ' +\n",
              "            '<a target=\"_blank\" href=https://colab.research.google.com/notebooks/data_table.ipynb>data table notebook</a>'\n",
              "            + ' to learn more about interactive tables.';\n",
              "          element.innerHTML = '';\n",
              "          dataTable['output_type'] = 'display_data';\n",
              "          await google.colab.output.renderOutput(dataTable, element);\n",
              "          const docLink = document.createElement('div');\n",
              "          docLink.innerHTML = docLinkHtml;\n",
              "          element.appendChild(docLink);\n",
              "        }\n",
              "      </script>\n",
              "    </div>\n",
              "  </div>\n",
              "  "
            ],
            "text/plain": [
              "   id  ...              hashtags\n",
              "0   0  ...                    []\n",
              "1   2  ...          [earthquake]\n",
              "2   3  ...                    []\n",
              "3   9  ...  [spokane, wildfires]\n",
              "4  11  ...                    []\n",
              "\n",
              "[5 rows x 5 columns]"
            ]
          },
          "metadata": {},
          "execution_count": 14
        }
      ]
    },
    {
      "cell_type": "code",
      "source": [
        "lengths = []\n",
        "for hashtags in test_set['hashtags']:\n",
        "  lengths.append(len(hashtags))\n",
        "\n",
        "plt.hist(lengths)\n",
        "plt.title('Hashtags per Tweet - Test Set')\n",
        "plt.xlabel('Hashtag count')\n",
        "plt.ylabel('Tweets');\n",
        "\n",
        "# Distribution of hashtag counts is compatible within test and training datasets"
      ],
      "metadata": {
        "colab": {
          "base_uri": "https://localhost:8080/",
          "height": 295
        },
        "id": "nshLMk3bLS9I",
        "outputId": "2a494a88-aeaa-4d1d-ead0-1c107d7eb46c"
      },
      "execution_count": null,
      "outputs": [
        {
          "output_type": "display_data",
          "data": {
            "image/png": "[encoded data removed]",
            "text/plain": [
              "<Figure size 432x288 with 1 Axes>"
            ]
          },
          "metadata": {
            "needs_background": "light"
          }
        }
      ]
    },
    {
      "cell_type": "code",
      "source": [
        "# Text cleaning - Removing URLs, mentions, etc using tweet-preprocessor package\n",
        "def tweet_clean(tweet):\n",
        "  \"\"\"\n",
        "  Clean tweet with tweet-preprocessor p.clean() removing unwanted characters,\n",
        "  user mentions, punctuations and setting to lower case text.\n",
        "\n",
        "  Argument: tweet -- Ttext string.\n",
        "  Returns: cleaned_tweet -- Cleaned tweet text string.\n",
        "  \"\"\"\n",
        "  # Remove user mentions, symbols and unwanted characters\n",
        "  tweet = p.clean(tweet)\n",
        "\n",
        "  # Remove digits and setting lower case text\n",
        "  tweet = tweet.replace('\\d+', '').lower()\n",
        "\n",
        "  # Remove punctuations\n",
        "  cleaned_tweet = re.sub(r'[^\\w\\s]', '', tweet)\n",
        "\n",
        "  return cleaned_tweet\n",
        "\n",
        "train_set['text'] = train_set['text'].apply(tweet_clean)\n",
        "test_set['text'] = test_set['text'].apply(tweet_clean)\n",
        "\n",
        "print('First 5 cleaned train_set tweets :\\n', train_set['text'].head(), '\\n')\n",
        "print('First 5 cleaned test_set tweets :\\n', test_set['text'].head())"
      ],
      "metadata": {
        "colab": {
          "base_uri": "https://localhost:8080/"
        },
        "id": "sNNW7OEDLhy4",
        "outputId": "d56911f2-f70d-48e2-eb24-cca1e4ebf54e"
      },
      "execution_count": null,
      "outputs": [
        {
          "output_type": "stream",
          "name": "stdout",
          "text": [
            "First 5 cleaned train_set tweets :\n",
            " 0    our deeds are the reason of this may allah for...\n",
            "1                forest fire near la ronge sask canada\n",
            "2    all residents asked to shelter in place are be...\n",
            "3       people receive evacuation orders in california\n",
            "4    just got sent this photo from ruby as smoke fr...\n",
            "Name: text, dtype: object \n",
            "\n",
            "First 5 cleaned test_set tweets :\n",
            " 0                   just happened a terrible car crash\n",
            "1    heard about is different cities stay safe ever...\n",
            "2    there is a forest fire at spot pond geese are ...\n",
            "3                                  apocalypse lighting\n",
            "4           typhoon soudelor kills in china and taiwan\n",
            "Name: text, dtype: object\n"
          ]
        }
      ]
    },
    {
      "cell_type": "code",
      "source": [
        "# Stemming, Lemmatization and Tokenization using nltk package\n",
        "def tweet_preprocess(tweet):\n",
        "  \"\"\"\n",
        "  Process tweets with stemming, lemmatization, tokenization, and removing stopwords.\n",
        "  Stopwords dictionary = English\n",
        "\n",
        "  Arguments: tweet -- String.\n",
        "  Returns: processed_tweed -- List of strings with stemmed lemmatized tokenized\n",
        "  words contained in tweet, without stopwords.\n",
        "  \"\"\"\n",
        "  stemmer = nltk.SnowballStemmer('english')\n",
        "  lemmatizer = nltk.stem.WordNetLemmatizer()\n",
        "  tokenizer = TweetTokenizer()\n",
        "  stop_words = set(stopwords.words('english')) # Create stopwords set\n",
        "\n",
        "  # Stemming (having -> have)\n",
        "  tweet = stemmer.stem(tweet)\n",
        "\n",
        "  # Lemmatization ('dogs' -> 'dog') and \n",
        "  # Tokenization ('good muffins cost $10' -> ['good', 'muffins', 'cost', '$', '10'])\n",
        "  tweet = [lemmatizer.lemmatize(w) for w in tokenizer.tokenize(tweet)]\n",
        "\n",
        "  # Removing stop words (a, an, our, etc.)\n",
        "  processed_tweet = []\n",
        "  for word in tweet:\n",
        "    if word not in stop_words:\n",
        "      processed_tweet.append(word)\n",
        "\n",
        "  return processed_tweet\n",
        "\n",
        "train_set['text'] = train_set['text'].apply(tweet_preprocess)\n",
        "test_set['text'] = test_set['text'].apply(tweet_preprocess)\n",
        "\n",
        "print('First 5 processed train_set tweets :\\n', train_set['text'].head(), '\\n')\n",
        "print('First 5 processed test_set tweets :\\n', test_set['text'].head())"
      ],
      "metadata": {
        "colab": {
          "base_uri": "https://localhost:8080/"
        },
        "id": "267GEkabRjqr",
        "outputId": "dcf59ea7-a576-459b-bc14-145dd0132d84"
      },
      "execution_count": null,
      "outputs": [
        {
          "output_type": "stream",
          "name": "stdout",
          "text": [
            "First 5 processed train_set tweets :\n",
            " 0           [deed, reason, may, allah, forgive, u, al]\n",
            "1        [forest, fire, near, la, ronge, sask, canada]\n",
            "2    [resident, asked, shelter, place, notified, of...\n",
            "3     [people, receive, evacuation, order, california]\n",
            "4       [got, sent, photo, ruby, smoke, pours, school]\n",
            "Name: text, dtype: object \n",
            "\n",
            "First 5 processed test_set tweets :\n",
            " 0                     [happened, terrible, car, crash]\n",
            "1        [heard, different, city, stay, safe, everyon]\n",
            "2    [forest, fire, spot, pond, goose, fleeing, acr...\n",
            "3                                  [apocalypse, light]\n",
            "4             [typhoon, soudelor, kill, china, taiwan]\n",
            "Name: text, dtype: object\n"
          ]
        }
      ]
    },
    {
      "cell_type": "code",
      "source": [
        "# Adding hashtag to tweets\n",
        "for i, hashtag in enumerate(train_set['hashtags']):\n",
        "  for hashtag in train_set.loc[i, 'hashtags']:\n",
        "    train_set.loc[i, 'text'].append(hashtag)\n",
        "\n",
        "train_set"
      ],
      "metadata": {
        "colab": {
          "base_uri": "https://localhost:8080/",
          "height": 424
        },
        "id": "GDbuERxCg4Cl",
        "outputId": "711bf413-8bb5-4e97-a5f4-597d53dca34c"
      },
      "execution_count": null,
      "outputs": [
        {
          "output_type": "execute_result",
          "data": {
            "text/html": [
              "\n",
              "  <div id=\"df-51dec10a-2718-490b-b7e6-341e1a7dfd33\">\n",
              "    <div class=\"colab-df-container\">\n",
              "      <div>\n",
              "<style scoped>\n",
              "    .dataframe tbody tr th:only-of-type {\n",
              "        vertical-align: middle;\n",
              "    }\n",
              "\n",
              "    .dataframe tbody tr th {\n",
              "        vertical-align: top;\n",
              "    }\n",
              "\n",
              "    .dataframe thead th {\n",
              "        text-align: right;\n",
              "    }\n",
              "</style>\n",
              "<table border=\"1\" class=\"dataframe\">\n",
              "  <thead>\n",
              "    <tr style=\"text-align: right;\">\n",
              "      <th></th>\n",
              "      <th>index</th>\n",
              "      <th>id</th>\n",
              "      <th>keyword</th>\n",
              "      <th>location</th>\n",
              "      <th>text</th>\n",
              "      <th>target</th>\n",
              "      <th>hashtags</th>\n",
              "    </tr>\n",
              "  </thead>\n",
              "  <tbody>\n",
              "    <tr>\n",
              "      <th>0</th>\n",
              "      <td>0</td>\n",
              "      <td>1</td>\n",
              "      <td>NaN</td>\n",
              "      <td>NaN</td>\n",
              "      <td>[deed, reason, may, allah, forgive, u, al, ear...</td>\n",
              "      <td>1</td>\n",
              "      <td>[earthquake]</td>\n",
              "    </tr>\n",
              "    <tr>\n",
              "      <th>1</th>\n",
              "      <td>1</td>\n",
              "      <td>4</td>\n",
              "      <td>NaN</td>\n",
              "      <td>NaN</td>\n",
              "      <td>[forest, fire, near, la, ronge, sask, canada]</td>\n",
              "      <td>1</td>\n",
              "      <td>[]</td>\n",
              "    </tr>\n",
              "    <tr>\n",
              "      <th>2</th>\n",
              "      <td>2</td>\n",
              "      <td>5</td>\n",
              "      <td>NaN</td>\n",
              "      <td>NaN</td>\n",
              "      <td>[resident, asked, shelter, place, notified, of...</td>\n",
              "      <td>1</td>\n",
              "      <td>[]</td>\n",
              "    </tr>\n",
              "    <tr>\n",
              "      <th>3</th>\n",
              "      <td>3</td>\n",
              "      <td>6</td>\n",
              "      <td>NaN</td>\n",
              "      <td>NaN</td>\n",
              "      <td>[people, receive, evacuation, order, californi...</td>\n",
              "      <td>1</td>\n",
              "      <td>[wildfires]</td>\n",
              "    </tr>\n",
              "    <tr>\n",
              "      <th>4</th>\n",
              "      <td>4</td>\n",
              "      <td>7</td>\n",
              "      <td>NaN</td>\n",
              "      <td>NaN</td>\n",
              "      <td>[got, sent, photo, ruby, smoke, pours, school,...</td>\n",
              "      <td>1</td>\n",
              "      <td>[alaska, wildfires]</td>\n",
              "    </tr>\n",
              "    <tr>\n",
              "      <th>...</th>\n",
              "      <td>...</td>\n",
              "      <td>...</td>\n",
              "      <td>...</td>\n",
              "      <td>...</td>\n",
              "      <td>...</td>\n",
              "      <td>...</td>\n",
              "      <td>...</td>\n",
              "    </tr>\n",
              "    <tr>\n",
              "      <th>7498</th>\n",
              "      <td>7608</td>\n",
              "      <td>10869</td>\n",
              "      <td>NaN</td>\n",
              "      <td>NaN</td>\n",
              "      <td>[two, giant, crane, holding, bridge, collapse,...</td>\n",
              "      <td>1</td>\n",
              "      <td>[]</td>\n",
              "    </tr>\n",
              "    <tr>\n",
              "      <th>7499</th>\n",
              "      <td>7609</td>\n",
              "      <td>10870</td>\n",
              "      <td>NaN</td>\n",
              "      <td>NaN</td>\n",
              "      <td>[control, wild, fire, california, even, northe...</td>\n",
              "      <td>1</td>\n",
              "      <td>[]</td>\n",
              "    </tr>\n",
              "    <tr>\n",
              "      <th>7500</th>\n",
              "      <td>7610</td>\n",
              "      <td>10871</td>\n",
              "      <td>NaN</td>\n",
              "      <td>NaN</td>\n",
              "      <td>[m194, 0104, utc, 5km, volcano, hawaii]</td>\n",
              "      <td>1</td>\n",
              "      <td>[]</td>\n",
              "    </tr>\n",
              "    <tr>\n",
              "      <th>7501</th>\n",
              "      <td>7611</td>\n",
              "      <td>10872</td>\n",
              "      <td>NaN</td>\n",
              "      <td>NaN</td>\n",
              "      <td>[police, investigating, ebike, collided, car, ...</td>\n",
              "      <td>1</td>\n",
              "      <td>[]</td>\n",
              "    </tr>\n",
              "    <tr>\n",
              "      <th>7502</th>\n",
              "      <td>7612</td>\n",
              "      <td>10873</td>\n",
              "      <td>NaN</td>\n",
              "      <td>NaN</td>\n",
              "      <td>[latest, home, razed, northern, california, wi...</td>\n",
              "      <td>1</td>\n",
              "      <td>[]</td>\n",
              "    </tr>\n",
              "  </tbody>\n",
              "</table>\n",
              "<p>7503 rows × 7 columns</p>\n",
              "</div>\n",
              "      <button class=\"colab-df-convert\" onclick=\"convertToInteractive('df-51dec10a-2718-490b-b7e6-341e1a7dfd33')\"\n",
              "              title=\"Convert this dataframe to an interactive table.\"\n",
              "              style=\"display:none;\">\n",
              "        \n",
              "  <svg xmlns=\"http://www.w3.org/2000/svg\" height=\"24px\"viewBox=\"0 0 24 24\"\n",
              "       width=\"24px\">\n",
              "    <path d=\"M0 0h24v24H0V0z\" fill=\"none\"/>\n",
              "    <path d=\"M18.56 5.44l.94 2.06.94-2.06 2.06-.94-2.06-.94-.94-2.06-.94 2.06-2.06.94zm-11 1L8.5 8.5l.94-2.06 2.06-.94-2.06-.94L8.5 2.5l-.94 2.06-2.06.94zm10 10l.94 2.06.94-2.06 2.06-.94-2.06-.94-.94-2.06-.94 2.06-2.06.94z\"/><path d=\"M17.41 7.96l-1.37-1.37c-.4-.4-.92-.59-1.43-.59-.52 0-1.04.2-1.43.59L10.3 9.45l-7.72 7.72c-.78.78-.78 2.05 0 2.83L4 21.41c.39.39.9.59 1.41.59.51 0 1.02-.2 1.41-.59l7.78-7.78 2.81-2.81c.8-.78.8-2.07 0-2.86zM5.41 20L4 18.59l7.72-7.72 1.47 1.35L5.41 20z\"/>\n",
              "  </svg>\n",
              "      </button>\n",
              "      \n",
              "  <style>\n",
              "    .colab-df-container {\n",
              "      display:flex;\n",
              "      flex-wrap:wrap;\n",
              "      gap: 12px;\n",
              "    }\n",
              "\n",
              "    .colab-df-convert {\n",
              "      background-color: #E8F0FE;\n",
              "      border: none;\n",
              "      border-radius: 50%;\n",
              "      cursor: pointer;\n",
              "      display: none;\n",
              "      fill: #1967D2;\n",
              "      height: 32px;\n",
              "      padding: 0 0 0 0;\n",
              "      width: 32px;\n",
              "    }\n",
              "\n",
              "    .colab-df-convert:hover {\n",
              "      background-color: #E2EBFA;\n",
              "      box-shadow: 0px 1px 2px rgba(60, 64, 67, 0.3), 0px 1px 3px 1px rgba(60, 64, 67, 0.15);\n",
              "      fill: #174EA6;\n",
              "    }\n",
              "\n",
              "    [theme=dark] .colab-df-convert {\n",
              "      background-color: #3B4455;\n",
              "      fill: #D2E3FC;\n",
              "    }\n",
              "\n",
              "    [theme=dark] .colab-df-convert:hover {\n",
              "      background-color: #434B5C;\n",
              "      box-shadow: 0px 1px 3px 1px rgba(0, 0, 0, 0.15);\n",
              "      filter: drop-shadow(0px 1px 2px rgba(0, 0, 0, 0.3));\n",
              "      fill: #FFFFFF;\n",
              "    }\n",
              "  </style>\n",
              "\n",
              "      <script>\n",
              "        const buttonEl =\n",
              "          document.querySelector('#df-51dec10a-2718-490b-b7e6-341e1a7dfd33 button.colab-df-convert');\n",
              "        buttonEl.style.display =\n",
              "          google.colab.kernel.accessAllowed ? 'block' : 'none';\n",
              "\n",
              "        async function convertToInteractive(key) {\n",
              "          const element = document.querySelector('#df-51dec10a-2718-490b-b7e6-341e1a7dfd33');\n",
              "          const dataTable =\n",
              "            await google.colab.kernel.invokeFunction('convertToInteractive',\n",
              "                                                     [key], {});\n",
              "          if (!dataTable) return;\n",
              "\n",
              "          const docLinkHtml = 'Like what you see? Visit the ' +\n",
              "            '<a target=\"_blank\" href=https://colab.research.google.com/notebooks/data_table.ipynb>data table notebook</a>'\n",
              "            + ' to learn more about interactive tables.';\n",
              "          element.innerHTML = '';\n",
              "          dataTable['output_type'] = 'display_data';\n",
              "          await google.colab.output.renderOutput(dataTable, element);\n",
              "          const docLink = document.createElement('div');\n",
              "          docLink.innerHTML = docLinkHtml;\n",
              "          element.appendChild(docLink);\n",
              "        }\n",
              "      </script>\n",
              "    </div>\n",
              "  </div>\n",
              "  "
            ],
            "text/plain": [
              "      index     id  ... target             hashtags\n",
              "0         0      1  ...      1         [earthquake]\n",
              "1         1      4  ...      1                   []\n",
              "2         2      5  ...      1                   []\n",
              "3         3      6  ...      1          [wildfires]\n",
              "4         4      7  ...      1  [alaska, wildfires]\n",
              "...     ...    ...  ...    ...                  ...\n",
              "7498   7608  10869  ...      1                   []\n",
              "7499   7609  10870  ...      1                   []\n",
              "7500   7610  10871  ...      1                   []\n",
              "7501   7611  10872  ...      1                   []\n",
              "7502   7612  10873  ...      1                   []\n",
              "\n",
              "[7503 rows x 7 columns]"
            ]
          },
          "metadata": {},
          "execution_count": 18
        }
      ]
    },
    {
      "cell_type": "code",
      "source": [
        "# Tokenizing text data into matrix form using Keras text preprocessing\n",
        "def sequentialize(tweets, max_words = 5000, words_per_element = 50, enforce_words_per_element = False):\n",
        "  \"\"\"\n",
        "  Sequentialize tweets into an (m, x) matrix, where:\n",
        "  m = number of tweet samples\n",
        "  x = dimension of individual tweet object, after tokenized\n",
        "\n",
        "  Arguments:\n",
        "  tweets -- preprocessed tweets. Each individual element should be contained into a list.\n",
        "            Use tweet_preprocess() function before sequentialize()\n",
        "  max_words -- Int. Hyperparameter where only the most common (max_words - 1) will be kept,\n",
        "            based on word frequency\n",
        "  words_per_element -- Int. Default = 50. Maximum dimension of individual tweet vectors,\n",
        "            padded with zeros. Also seen as number of features per training/testing element.\n",
        "            Automatically set to the maximum number needed per individual tweet, after a\n",
        "            first sequentialize iteration.\n",
        "  enforce_words_per_element -- Boolean. Default = False. When 'True', enforces the inputed\n",
        "            words_per_element value into the final tweet vector.\n",
        "\n",
        "  Returns:\n",
        "  sequences_matrix -- Numpy array of shape (m, x).\n",
        "  \"\"\"\n",
        "  # max_words = 5000\n",
        "  # Hyperparameter: Only the most common (max_words - 1) will be kept, based on word frequency\n",
        "\n",
        "  global max_len\n",
        "  max_len = words_per_element\n",
        "  # max_len = 5\n",
        "  # Number of words to pad and fit into feature X matrix\n",
        "\n",
        "  tok = Tokenizer(num_words = max_words)\n",
        "  X = tweets\n",
        "\n",
        "  tok.fit_on_texts(X) # Updates internal vocabulary based on list of texts\n",
        "  sequences = tok.texts_to_sequences(X) # Tokenize word sequences\n",
        "  sequences_matrix = sequence.pad_sequences(sequences, maxlen = max_len)\n",
        "\n",
        "  # Checking token counts per tweet\n",
        "  word_counts = []\n",
        "  for i in range(0, sequences_matrix.shape[0]):\n",
        "    word_counts.append(np.count_nonzero(sequences_matrix[i, :]))\n",
        "\n",
        "  if (max(word_counts) < max_len) and not enforce_words_per_element:\n",
        "    max_len = max(word_counts)\n",
        "    sequences_matrix = sequence.pad_sequences(sequences, maxlen = max_len)\n",
        "    print('max_words_per_element value updated:', max_len)\n",
        "\n",
        "  global highest_word_token\n",
        "  highest_word_token = max(list(max(i) for i in sequences_matrix[:, ]))\n",
        "\n",
        "  print(f'Highest word token: {highest_word_token}')\n",
        "\n",
        "  return sequences_matrix\n",
        "\n",
        "sequences_matrix = sequentialize(train_set['text'], max_words = 10000)\n",
        "\n",
        "print(sequences_matrix.shape, sequences_matrix.dtype)\n",
        "print(sequences_matrix[0, :])\n",
        "print(sequences_matrix[0, :].shape)"
      ],
      "metadata": {
        "colab": {
          "base_uri": "https://localhost:8080/"
        },
        "id": "nGEK5ed7mET0",
        "outputId": "d816c5cc-775c-4920-f075-646462f60140"
      },
      "execution_count": null,
      "outputs": [
        {
          "output_type": "stream",
          "name": "stdout",
          "text": [
            "max_words_per_element value updated: 23\n",
            "Highest word token: 9999\n",
            "(7503, 23) int32\n",
            "[   0    0    0    0    0    0    0    0    0    0    0    0    0    0\n",
            "    0 5897  417   69 1665 3978    9  622  182]\n",
            "(23,)\n"
          ]
        }
      ]
    },
    {
      "cell_type": "code",
      "source": [
        "# Analyzing word counts after tokenizing into matrices\n",
        "word_counts = []\n",
        "for i in range(0, sequences_matrix.shape[0]):\n",
        "  word_counts.append(np.count_nonzero(sequences_matrix[i, :]))\n",
        "\n",
        "print(f'Maximum token count per tweet:', max(word_counts), '\\n')\n",
        "\n",
        "plt.hist(word_counts)\n",
        "plt.title('Distribution of word tokens per tweet')\n",
        "plt.xlabel('Word tokens count')\n",
        "plt.ylabel('Tweets');"
      ],
      "metadata": {
        "colab": {
          "base_uri": "https://localhost:8080/",
          "height": 330
        },
        "id": "93Kd4Kz2omBd",
        "outputId": "cc9dbb38-3890-44fa-824c-a553de7daa82"
      },
      "execution_count": null,
      "outputs": [
        {
          "output_type": "stream",
          "name": "stdout",
          "text": [
            "Maximum token count per tweet: 23 \n",
            "\n"
          ]
        },
        {
          "output_type": "display_data",
          "data": {
            "image/png": "[encoded data removed]",
            "text/plain": [
              "<Figure size 432x288 with 1 Axes>"
            ]
          },
          "metadata": {
            "needs_background": "light"
          }
        }
      ]
    },
    {
      "cell_type": "code",
      "source": [
        "# Defining train_X and train_Y vectors\n",
        "train_X = (sequences_matrix/highest_word_token) # Scaled sequences_matrix with shape (m, x_i)\n",
        "train_Y = train_set['target'].values.reshape((train_set['target'].shape[0], -1)) # Y vector flattened from train_set['target']\n",
        "\n",
        "print('First element (example) of training set: ', train_X[0, :], '\\n')\n",
        "print('Training set train_X shape: ', train_X.shape, '\\n-------------------\\n')\n",
        "print('Y_1: ', train_Y[0, :], '\\n')\n",
        "print('Training set train_Y shape: ', train_Y.shape)"
      ],
      "metadata": {
        "colab": {
          "base_uri": "https://localhost:8080/"
        },
        "id": "XLz2ce4_7PSu",
        "outputId": "133ca340-4a44-48bc-c72d-823e0744edff"
      },
      "execution_count": null,
      "outputs": [
        {
          "output_type": "stream",
          "name": "stdout",
          "text": [
            "First element (example) of training set:  [0.         0.         0.         0.         0.         0.\n",
            " 0.         0.         0.         0.         0.         0.\n",
            " 0.         0.         0.         0.58975898 0.04170417 0.00690069\n",
            " 0.16651665 0.39783978 0.00090009 0.06220622 0.01820182] \n",
            "\n",
            "Training set train_X shape:  (7503, 23) \n",
            "-------------------\n",
            "\n",
            "Y_1:  [1] \n",
            "\n",
            "Training set train_Y shape:  (7503, 1)\n"
          ]
        }
      ]
    },
    {
      "cell_type": "markdown",
      "source": [
        "### Neural Network\n",
        "Sequential Neural Network implementation with TensorFlow and Keras API."
      ],
      "metadata": {
        "id": "fnAms3wwpZbj"
      }
    },
    {
      "cell_type": "code",
      "source": [
        "from tensorflow import keras"
      ],
      "metadata": {
        "id": "H_tv6-9fpfpQ"
      },
      "execution_count": null,
      "outputs": []
    },
    {
      "cell_type": "code",
      "source": [
        "model = keras.Sequential([keras.layers.Dense(16, activation = \"ReLU\"),\n",
        "                          keras.layers.Dense(16, activation = \"ReLU\"),\n",
        "                          keras.layers.Dense(1, activation = \"sigmoid\")])\n",
        "\n",
        "model.compile(optimizer = keras.optimizers.RMSprop(learning_rate= 1e-3),\n",
        "              loss = keras.losses.BinaryCrossentropy(),\n",
        "              metrics = [keras.metrics.BinaryAccuracy()])"
      ],
      "metadata": {
        "id": "NORIIxc1qDGy"
      },
      "execution_count": null,
      "outputs": []
    },
    {
      "cell_type": "code",
      "source": [
        "# Shuffling inputs and targets using a random indice permutation\n",
        "# This avoid having only one class in the validation data\n",
        "indices_permutation = np.random.permutation(len(train_X))\n",
        "shuffled_inputs = train_X[indices_permutation]\n",
        "shuffled_targets = train_Y[indices_permutation]\n",
        "\n",
        "# Validation set with 30% of training inputs\n",
        "num_validation_samples = int(0.25 * len(train_X))\n",
        "val_inputs = shuffled_inputs[:num_validation_samples]\n",
        "val_targets = shuffled_targets[:num_validation_samples]\n",
        "training_inputs = shuffled_inputs[num_validation_samples:]\n",
        "training_targets = shuffled_targets[num_validation_samples:]"
      ],
      "metadata": {
        "id": "GmtSHc7OjsrX"
      },
      "execution_count": null,
      "outputs": []
    },
    {
      "cell_type": "code",
      "source": [
        "print(f'Training set: {training_inputs.shape}, with labels: {training_targets.shape}\\n')\n",
        "print(f'Validation set: {val_inputs.shape}, with labels: {val_targets.shape}')"
      ],
      "metadata": {
        "colab": {
          "base_uri": "https://localhost:8080/"
        },
        "id": "QHTawu0bj9fV",
        "outputId": "ccfa0f1c-2164-4c73-c2ab-8c427915377a"
      },
      "execution_count": null,
      "outputs": [
        {
          "output_type": "stream",
          "name": "stdout",
          "text": [
            "Training set: (5628, 23), with labels: (5628, 1)\n",
            "\n",
            "Validation set: (1875, 23), with labels: (1875, 1)\n"
          ]
        }
      ]
    },
    {
      "cell_type": "markdown",
      "source": [
        "### Running Model"
      ],
      "metadata": {
        "id": "ZiaGZ8xo3wIp"
      }
    },
    {
      "cell_type": "code",
      "source": [
        "# Training\n",
        "history = model.fit(training_inputs,\n",
        "                    training_targets,\n",
        "                    epochs = 250,\n",
        "                    batch_size = 16,\n",
        "                    validation_data = (val_inputs, val_targets))"
      ],
      "metadata": {
        "colab": {
          "base_uri": "https://localhost:8080/"
        },
        "id": "czdfzdZ6yiU9",
        "outputId": "77c06d18-1eef-406e-b13b-4495a8d40e38"
      },
      "execution_count": null,
      "outputs": [
        {
          "output_type": "stream",
          "name": "stdout",
          "text": [
            "Epoch 1/250\n",
            "352/352 [==============================] - 2s 5ms/step - loss: 0.6340 - binary_accuracy: 0.6434 - val_loss: 0.6813 - val_binary_accuracy: 0.5867\n",
            "Epoch 2/250\n",
            "352/352 [==============================] - 2s 5ms/step - loss: 0.6336 - binary_accuracy: 0.6423 - val_loss: 0.6831 - val_binary_accuracy: 0.5904\n",
            "Epoch 3/250\n",
            "352/352 [==============================] - 2s 5ms/step - loss: 0.6323 - binary_accuracy: 0.6484 - val_loss: 0.6868 - val_binary_accuracy: 0.5957\n",
            "Epoch 4/250\n",
            "352/352 [==============================] - 2s 5ms/step - loss: 0.6327 - binary_accuracy: 0.6464 - val_loss: 0.6848 - val_binary_accuracy: 0.5883\n",
            "Epoch 5/250\n",
            "352/352 [==============================] - 2s 5ms/step - loss: 0.6321 - binary_accuracy: 0.6414 - val_loss: 0.6836 - val_binary_accuracy: 0.5829\n",
            "Epoch 6/250\n",
            "352/352 [==============================] - 2s 5ms/step - loss: 0.6317 - binary_accuracy: 0.6478 - val_loss: 0.6829 - val_binary_accuracy: 0.5920\n",
            "Epoch 7/250\n",
            "352/352 [==============================] - 2s 5ms/step - loss: 0.6314 - binary_accuracy: 0.6445 - val_loss: 0.6810 - val_binary_accuracy: 0.5851\n",
            "Epoch 8/250\n",
            "352/352 [==============================] - 2s 5ms/step - loss: 0.6310 - binary_accuracy: 0.6427 - val_loss: 0.6866 - val_binary_accuracy: 0.5904\n",
            "Epoch 9/250\n",
            "352/352 [==============================] - 2s 5ms/step - loss: 0.6311 - binary_accuracy: 0.6493 - val_loss: 0.6813 - val_binary_accuracy: 0.5851\n",
            "Epoch 10/250\n",
            "352/352 [==============================] - 2s 5ms/step - loss: 0.6308 - binary_accuracy: 0.6491 - val_loss: 0.6831 - val_binary_accuracy: 0.5883\n",
            "Epoch 11/250\n",
            "352/352 [==============================] - 2s 5ms/step - loss: 0.6299 - binary_accuracy: 0.6507 - val_loss: 0.6829 - val_binary_accuracy: 0.5840\n",
            "Epoch 12/250\n",
            "352/352 [==============================] - 2s 5ms/step - loss: 0.6293 - binary_accuracy: 0.6523 - val_loss: 0.6889 - val_binary_accuracy: 0.5947\n",
            "Epoch 13/250\n",
            "352/352 [==============================] - 2s 5ms/step - loss: 0.6290 - binary_accuracy: 0.6491 - val_loss: 0.6881 - val_binary_accuracy: 0.5845\n",
            "Epoch 14/250\n",
            "352/352 [==============================] - 2s 5ms/step - loss: 0.6287 - binary_accuracy: 0.6509 - val_loss: 0.6846 - val_binary_accuracy: 0.5936\n",
            "Epoch 15/250\n",
            "352/352 [==============================] - 2s 5ms/step - loss: 0.6285 - binary_accuracy: 0.6477 - val_loss: 0.6873 - val_binary_accuracy: 0.5872\n",
            "Epoch 16/250\n",
            "352/352 [==============================] - 2s 5ms/step - loss: 0.6286 - binary_accuracy: 0.6505 - val_loss: 0.6905 - val_binary_accuracy: 0.5861\n",
            "Epoch 17/250\n",
            "352/352 [==============================] - 2s 5ms/step - loss: 0.6282 - binary_accuracy: 0.6510 - val_loss: 0.6894 - val_binary_accuracy: 0.5877\n",
            "Epoch 18/250\n",
            "352/352 [==============================] - 2s 5ms/step - loss: 0.6273 - binary_accuracy: 0.6485 - val_loss: 0.6940 - val_binary_accuracy: 0.5883\n",
            "Epoch 19/250\n",
            "352/352 [==============================] - 2s 5ms/step - loss: 0.6279 - binary_accuracy: 0.6489 - val_loss: 0.6842 - val_binary_accuracy: 0.5957\n",
            "Epoch 20/250\n",
            "352/352 [==============================] - 2s 5ms/step - loss: 0.6270 - binary_accuracy: 0.6514 - val_loss: 0.6890 - val_binary_accuracy: 0.5867\n",
            "Epoch 21/250\n",
            "352/352 [==============================] - 2s 5ms/step - loss: 0.6274 - binary_accuracy: 0.6539 - val_loss: 0.6867 - val_binary_accuracy: 0.5861\n",
            "Epoch 22/250\n",
            "352/352 [==============================] - 2s 5ms/step - loss: 0.6266 - binary_accuracy: 0.6491 - val_loss: 0.6914 - val_binary_accuracy: 0.5899\n",
            "Epoch 23/250\n",
            "352/352 [==============================] - 2s 5ms/step - loss: 0.6259 - binary_accuracy: 0.6505 - val_loss: 0.6933 - val_binary_accuracy: 0.5861\n",
            "Epoch 24/250\n",
            "352/352 [==============================] - 2s 5ms/step - loss: 0.6262 - binary_accuracy: 0.6541 - val_loss: 0.6938 - val_binary_accuracy: 0.5856\n",
            "Epoch 25/250\n",
            "352/352 [==============================] - 2s 5ms/step - loss: 0.6258 - binary_accuracy: 0.6530 - val_loss: 0.6885 - val_binary_accuracy: 0.5835\n",
            "Epoch 26/250\n",
            "352/352 [==============================] - 2s 5ms/step - loss: 0.6258 - binary_accuracy: 0.6533 - val_loss: 0.6892 - val_binary_accuracy: 0.5824\n",
            "Epoch 27/250\n",
            "352/352 [==============================] - 2s 5ms/step - loss: 0.6256 - binary_accuracy: 0.6514 - val_loss: 0.6897 - val_binary_accuracy: 0.5835\n",
            "Epoch 28/250\n",
            "352/352 [==============================] - 2s 5ms/step - loss: 0.6250 - binary_accuracy: 0.6528 - val_loss: 0.6910 - val_binary_accuracy: 0.5920\n",
            "Epoch 29/250\n",
            "352/352 [==============================] - 2s 5ms/step - loss: 0.6251 - binary_accuracy: 0.6553 - val_loss: 0.6884 - val_binary_accuracy: 0.5861\n",
            "Epoch 30/250\n",
            "352/352 [==============================] - 2s 5ms/step - loss: 0.6245 - binary_accuracy: 0.6557 - val_loss: 0.6880 - val_binary_accuracy: 0.5893\n",
            "Epoch 31/250\n",
            "352/352 [==============================] - 2s 5ms/step - loss: 0.6247 - binary_accuracy: 0.6510 - val_loss: 0.6910 - val_binary_accuracy: 0.5840\n",
            "Epoch 32/250\n",
            "352/352 [==============================] - 2s 5ms/step - loss: 0.6241 - binary_accuracy: 0.6541 - val_loss: 0.6938 - val_binary_accuracy: 0.5861\n",
            "Epoch 33/250\n",
            "352/352 [==============================] - 2s 5ms/step - loss: 0.6242 - binary_accuracy: 0.6541 - val_loss: 0.6913 - val_binary_accuracy: 0.5883\n",
            "Epoch 34/250\n",
            "352/352 [==============================] - 2s 5ms/step - loss: 0.6234 - binary_accuracy: 0.6549 - val_loss: 0.6923 - val_binary_accuracy: 0.5883\n",
            "Epoch 35/250\n",
            "352/352 [==============================] - 2s 5ms/step - loss: 0.6232 - binary_accuracy: 0.6514 - val_loss: 0.6930 - val_binary_accuracy: 0.5829\n",
            "Epoch 36/250\n",
            "352/352 [==============================] - 2s 5ms/step - loss: 0.6225 - binary_accuracy: 0.6581 - val_loss: 0.6910 - val_binary_accuracy: 0.5877\n",
            "Epoch 37/250\n",
            "352/352 [==============================] - 2s 5ms/step - loss: 0.6224 - binary_accuracy: 0.6594 - val_loss: 0.6924 - val_binary_accuracy: 0.5888\n",
            "Epoch 38/250\n",
            "352/352 [==============================] - 2s 5ms/step - loss: 0.6226 - binary_accuracy: 0.6580 - val_loss: 0.6912 - val_binary_accuracy: 0.5893\n",
            "Epoch 39/250\n",
            "352/352 [==============================] - 2s 5ms/step - loss: 0.6227 - binary_accuracy: 0.6569 - val_loss: 0.6907 - val_binary_accuracy: 0.5883\n",
            "Epoch 40/250\n",
            "352/352 [==============================] - 2s 5ms/step - loss: 0.6220 - binary_accuracy: 0.6557 - val_loss: 0.6912 - val_binary_accuracy: 0.5867\n",
            "Epoch 41/250\n",
            "352/352 [==============================] - 2s 5ms/step - loss: 0.6219 - binary_accuracy: 0.6542 - val_loss: 0.6921 - val_binary_accuracy: 0.5877\n",
            "Epoch 42/250\n",
            "352/352 [==============================] - 2s 5ms/step - loss: 0.6223 - binary_accuracy: 0.6548 - val_loss: 0.6920 - val_binary_accuracy: 0.5952\n",
            "Epoch 43/250\n",
            "352/352 [==============================] - 2s 5ms/step - loss: 0.6216 - binary_accuracy: 0.6532 - val_loss: 0.6928 - val_binary_accuracy: 0.5893\n",
            "Epoch 44/250\n",
            "352/352 [==============================] - 2s 5ms/step - loss: 0.6220 - binary_accuracy: 0.6578 - val_loss: 0.6924 - val_binary_accuracy: 0.5899\n",
            "Epoch 45/250\n",
            "352/352 [==============================] - 2s 5ms/step - loss: 0.6208 - binary_accuracy: 0.6562 - val_loss: 0.6985 - val_binary_accuracy: 0.5808\n",
            "Epoch 46/250\n",
            "352/352 [==============================] - 2s 5ms/step - loss: 0.6209 - binary_accuracy: 0.6562 - val_loss: 0.6923 - val_binary_accuracy: 0.5931\n",
            "Epoch 47/250\n",
            "352/352 [==============================] - 2s 5ms/step - loss: 0.6210 - binary_accuracy: 0.6541 - val_loss: 0.6918 - val_binary_accuracy: 0.5899\n",
            "Epoch 48/250\n",
            "352/352 [==============================] - 2s 5ms/step - loss: 0.6206 - binary_accuracy: 0.6574 - val_loss: 0.6955 - val_binary_accuracy: 0.5824\n",
            "Epoch 49/250\n",
            "352/352 [==============================] - 2s 5ms/step - loss: 0.6198 - binary_accuracy: 0.6551 - val_loss: 0.6969 - val_binary_accuracy: 0.5845\n",
            "Epoch 50/250\n",
            "352/352 [==============================] - 2s 5ms/step - loss: 0.6200 - binary_accuracy: 0.6565 - val_loss: 0.6979 - val_binary_accuracy: 0.5824\n",
            "Epoch 51/250\n",
            "352/352 [==============================] - 2s 5ms/step - loss: 0.6204 - binary_accuracy: 0.6574 - val_loss: 0.6957 - val_binary_accuracy: 0.5861\n",
            "Epoch 52/250\n",
            "352/352 [==============================] - 2s 5ms/step - loss: 0.6197 - binary_accuracy: 0.6581 - val_loss: 0.6961 - val_binary_accuracy: 0.5899\n",
            "Epoch 53/250\n",
            "352/352 [==============================] - 2s 5ms/step - loss: 0.6198 - binary_accuracy: 0.6576 - val_loss: 0.6926 - val_binary_accuracy: 0.5936\n",
            "Epoch 54/250\n",
            "352/352 [==============================] - 2s 5ms/step - loss: 0.6191 - binary_accuracy: 0.6558 - val_loss: 0.6929 - val_binary_accuracy: 0.5904\n",
            "Epoch 55/250\n",
            "352/352 [==============================] - 2s 5ms/step - loss: 0.6192 - binary_accuracy: 0.6576 - val_loss: 0.6947 - val_binary_accuracy: 0.5851\n",
            "Epoch 56/250\n",
            "352/352 [==============================] - 2s 5ms/step - loss: 0.6191 - binary_accuracy: 0.6576 - val_loss: 0.6952 - val_binary_accuracy: 0.5845\n",
            "Epoch 57/250\n",
            "352/352 [==============================] - 2s 5ms/step - loss: 0.6181 - binary_accuracy: 0.6603 - val_loss: 0.7000 - val_binary_accuracy: 0.5872\n",
            "Epoch 58/250\n",
            "352/352 [==============================] - 2s 5ms/step - loss: 0.6191 - binary_accuracy: 0.6592 - val_loss: 0.6927 - val_binary_accuracy: 0.5904\n",
            "Epoch 59/250\n",
            "352/352 [==============================] - 2s 5ms/step - loss: 0.6185 - binary_accuracy: 0.6619 - val_loss: 0.6932 - val_binary_accuracy: 0.5947\n",
            "Epoch 60/250\n",
            "352/352 [==============================] - 2s 5ms/step - loss: 0.6178 - binary_accuracy: 0.6599 - val_loss: 0.7001 - val_binary_accuracy: 0.5813\n",
            "Epoch 61/250\n",
            "352/352 [==============================] - 2s 5ms/step - loss: 0.6180 - binary_accuracy: 0.6608 - val_loss: 0.6944 - val_binary_accuracy: 0.5867\n",
            "Epoch 62/250\n",
            "352/352 [==============================] - 2s 5ms/step - loss: 0.6179 - binary_accuracy: 0.6612 - val_loss: 0.7002 - val_binary_accuracy: 0.5856\n",
            "Epoch 63/250\n",
            "352/352 [==============================] - 2s 5ms/step - loss: 0.6173 - binary_accuracy: 0.6594 - val_loss: 0.6969 - val_binary_accuracy: 0.5883\n",
            "Epoch 64/250\n",
            "352/352 [==============================] - 2s 5ms/step - loss: 0.6173 - binary_accuracy: 0.6604 - val_loss: 0.6966 - val_binary_accuracy: 0.5899\n",
            "Epoch 65/250\n",
            "352/352 [==============================] - 2s 5ms/step - loss: 0.6175 - binary_accuracy: 0.6601 - val_loss: 0.6965 - val_binary_accuracy: 0.5808\n",
            "Epoch 66/250\n",
            "352/352 [==============================] - 2s 5ms/step - loss: 0.6171 - binary_accuracy: 0.6633 - val_loss: 0.6942 - val_binary_accuracy: 0.5925\n",
            "Epoch 67/250\n",
            "352/352 [==============================] - 2s 5ms/step - loss: 0.6164 - binary_accuracy: 0.6677 - val_loss: 0.7053 - val_binary_accuracy: 0.5824\n",
            "Epoch 68/250\n",
            "352/352 [==============================] - 2s 5ms/step - loss: 0.6167 - binary_accuracy: 0.6622 - val_loss: 0.6965 - val_binary_accuracy: 0.5867\n",
            "Epoch 69/250\n",
            "352/352 [==============================] - 2s 5ms/step - loss: 0.6169 - binary_accuracy: 0.6638 - val_loss: 0.6965 - val_binary_accuracy: 0.5899\n",
            "Epoch 70/250\n",
            "352/352 [==============================] - 2s 5ms/step - loss: 0.6157 - binary_accuracy: 0.6649 - val_loss: 0.6996 - val_binary_accuracy: 0.5856\n",
            "Epoch 71/250\n",
            "352/352 [==============================] - 2s 5ms/step - loss: 0.6156 - binary_accuracy: 0.6674 - val_loss: 0.7002 - val_binary_accuracy: 0.5851\n",
            "Epoch 72/250\n",
            "352/352 [==============================] - 2s 5ms/step - loss: 0.6144 - binary_accuracy: 0.6674 - val_loss: 0.7080 - val_binary_accuracy: 0.5819\n",
            "Epoch 73/250\n",
            "352/352 [==============================] - 2s 5ms/step - loss: 0.6151 - binary_accuracy: 0.6636 - val_loss: 0.6967 - val_binary_accuracy: 0.5888\n",
            "Epoch 74/250\n",
            "352/352 [==============================] - 2s 5ms/step - loss: 0.6159 - binary_accuracy: 0.6688 - val_loss: 0.6985 - val_binary_accuracy: 0.5888\n",
            "Epoch 75/250\n",
            "352/352 [==============================] - 2s 5ms/step - loss: 0.6152 - binary_accuracy: 0.6638 - val_loss: 0.7002 - val_binary_accuracy: 0.5904\n",
            "Epoch 76/250\n",
            "352/352 [==============================] - 2s 5ms/step - loss: 0.6155 - binary_accuracy: 0.6670 - val_loss: 0.7018 - val_binary_accuracy: 0.5840\n",
            "Epoch 77/250\n",
            "352/352 [==============================] - 2s 5ms/step - loss: 0.6141 - binary_accuracy: 0.6683 - val_loss: 0.7040 - val_binary_accuracy: 0.5845\n",
            "Epoch 78/250\n",
            "352/352 [==============================] - 2s 5ms/step - loss: 0.6148 - binary_accuracy: 0.6663 - val_loss: 0.7054 - val_binary_accuracy: 0.5877\n",
            "Epoch 79/250\n",
            "352/352 [==============================] - 2s 5ms/step - loss: 0.6145 - binary_accuracy: 0.6674 - val_loss: 0.7004 - val_binary_accuracy: 0.5845\n",
            "Epoch 80/250\n",
            "352/352 [==============================] - 2s 5ms/step - loss: 0.6144 - binary_accuracy: 0.6658 - val_loss: 0.7032 - val_binary_accuracy: 0.5840\n",
            "Epoch 81/250\n",
            "352/352 [==============================] - 2s 5ms/step - loss: 0.6148 - binary_accuracy: 0.6652 - val_loss: 0.6999 - val_binary_accuracy: 0.5856\n",
            "Epoch 82/250\n",
            "352/352 [==============================] - 2s 5ms/step - loss: 0.6133 - binary_accuracy: 0.6665 - val_loss: 0.7027 - val_binary_accuracy: 0.5877\n",
            "Epoch 83/250\n",
            "352/352 [==============================] - 2s 5ms/step - loss: 0.6136 - binary_accuracy: 0.6668 - val_loss: 0.7028 - val_binary_accuracy: 0.5824\n",
            "Epoch 84/250\n",
            "352/352 [==============================] - 2s 5ms/step - loss: 0.6133 - binary_accuracy: 0.6654 - val_loss: 0.7028 - val_binary_accuracy: 0.5931\n",
            "Epoch 85/250\n",
            "352/352 [==============================] - 2s 5ms/step - loss: 0.6132 - binary_accuracy: 0.6695 - val_loss: 0.7035 - val_binary_accuracy: 0.5856\n",
            "Epoch 86/250\n",
            "352/352 [==============================] - 2s 5ms/step - loss: 0.6120 - binary_accuracy: 0.6667 - val_loss: 0.7099 - val_binary_accuracy: 0.5744\n",
            "Epoch 87/250\n",
            "352/352 [==============================] - 2s 5ms/step - loss: 0.6131 - binary_accuracy: 0.6665 - val_loss: 0.7040 - val_binary_accuracy: 0.5845\n",
            "Epoch 88/250\n",
            "352/352 [==============================] - 2s 5ms/step - loss: 0.6130 - binary_accuracy: 0.6674 - val_loss: 0.7034 - val_binary_accuracy: 0.5899\n",
            "Epoch 89/250\n",
            "352/352 [==============================] - 2s 5ms/step - loss: 0.6132 - binary_accuracy: 0.6681 - val_loss: 0.7015 - val_binary_accuracy: 0.5952\n",
            "Epoch 90/250\n",
            "352/352 [==============================] - 2s 5ms/step - loss: 0.6122 - binary_accuracy: 0.6711 - val_loss: 0.7032 - val_binary_accuracy: 0.5829\n",
            "Epoch 91/250\n",
            "352/352 [==============================] - 2s 5ms/step - loss: 0.6125 - binary_accuracy: 0.6697 - val_loss: 0.7014 - val_binary_accuracy: 0.5845\n",
            "Epoch 92/250\n",
            "352/352 [==============================] - 2s 5ms/step - loss: 0.6123 - binary_accuracy: 0.6676 - val_loss: 0.7060 - val_binary_accuracy: 0.5856\n",
            "Epoch 93/250\n",
            "352/352 [==============================] - 2s 5ms/step - loss: 0.6122 - binary_accuracy: 0.6704 - val_loss: 0.7033 - val_binary_accuracy: 0.5840\n",
            "Epoch 94/250\n",
            "352/352 [==============================] - 2s 5ms/step - loss: 0.6124 - binary_accuracy: 0.6740 - val_loss: 0.7048 - val_binary_accuracy: 0.5856\n",
            "Epoch 95/250\n",
            "352/352 [==============================] - 2s 5ms/step - loss: 0.6121 - binary_accuracy: 0.6704 - val_loss: 0.7054 - val_binary_accuracy: 0.5883\n",
            "Epoch 96/250\n",
            "352/352 [==============================] - 2s 5ms/step - loss: 0.6123 - binary_accuracy: 0.6690 - val_loss: 0.7053 - val_binary_accuracy: 0.5861\n",
            "Epoch 97/250\n",
            "352/352 [==============================] - 2s 5ms/step - loss: 0.6116 - binary_accuracy: 0.6695 - val_loss: 0.7060 - val_binary_accuracy: 0.5829\n",
            "Epoch 98/250\n",
            "352/352 [==============================] - 2s 5ms/step - loss: 0.6114 - binary_accuracy: 0.6704 - val_loss: 0.7066 - val_binary_accuracy: 0.5867\n",
            "Epoch 99/250\n",
            "352/352 [==============================] - 2s 5ms/step - loss: 0.6115 - binary_accuracy: 0.6727 - val_loss: 0.7008 - val_binary_accuracy: 0.5877\n",
            "Epoch 100/250\n",
            "352/352 [==============================] - 2s 5ms/step - loss: 0.6109 - binary_accuracy: 0.6684 - val_loss: 0.7114 - val_binary_accuracy: 0.5829\n",
            "Epoch 101/250\n",
            "352/352 [==============================] - 2s 5ms/step - loss: 0.6101 - binary_accuracy: 0.6697 - val_loss: 0.7119 - val_binary_accuracy: 0.5797\n",
            "Epoch 102/250\n",
            "352/352 [==============================] - 2s 5ms/step - loss: 0.6099 - binary_accuracy: 0.6702 - val_loss: 0.7054 - val_binary_accuracy: 0.5787\n",
            "Epoch 103/250\n",
            "352/352 [==============================] - 2s 5ms/step - loss: 0.6110 - binary_accuracy: 0.6695 - val_loss: 0.7057 - val_binary_accuracy: 0.5867\n",
            "Epoch 104/250\n",
            "352/352 [==============================] - 2s 5ms/step - loss: 0.6099 - binary_accuracy: 0.6715 - val_loss: 0.7039 - val_binary_accuracy: 0.5893\n",
            "Epoch 105/250\n",
            "352/352 [==============================] - 2s 5ms/step - loss: 0.6104 - binary_accuracy: 0.6663 - val_loss: 0.7026 - val_binary_accuracy: 0.5861\n",
            "Epoch 106/250\n",
            "352/352 [==============================] - 2s 5ms/step - loss: 0.6095 - binary_accuracy: 0.6708 - val_loss: 0.7035 - val_binary_accuracy: 0.5835\n",
            "Epoch 107/250\n",
            "352/352 [==============================] - 2s 5ms/step - loss: 0.6095 - binary_accuracy: 0.6720 - val_loss: 0.7123 - val_binary_accuracy: 0.5861\n",
            "Epoch 108/250\n",
            "352/352 [==============================] - 2s 5ms/step - loss: 0.6100 - binary_accuracy: 0.6716 - val_loss: 0.7106 - val_binary_accuracy: 0.5829\n",
            "Epoch 109/250\n",
            "352/352 [==============================] - 2s 5ms/step - loss: 0.6096 - binary_accuracy: 0.6720 - val_loss: 0.7053 - val_binary_accuracy: 0.5861\n",
            "Epoch 110/250\n",
            "352/352 [==============================] - 2s 5ms/step - loss: 0.6091 - binary_accuracy: 0.6761 - val_loss: 0.7067 - val_binary_accuracy: 0.5829\n",
            "Epoch 111/250\n",
            "352/352 [==============================] - 2s 5ms/step - loss: 0.6089 - binary_accuracy: 0.6727 - val_loss: 0.7093 - val_binary_accuracy: 0.5824\n",
            "Epoch 112/250\n",
            "352/352 [==============================] - 2s 5ms/step - loss: 0.6082 - binary_accuracy: 0.6747 - val_loss: 0.7132 - val_binary_accuracy: 0.5872\n",
            "Epoch 113/250\n",
            "352/352 [==============================] - 2s 5ms/step - loss: 0.6087 - binary_accuracy: 0.6718 - val_loss: 0.7071 - val_binary_accuracy: 0.5899\n",
            "Epoch 114/250\n",
            "352/352 [==============================] - 2s 5ms/step - loss: 0.6085 - binary_accuracy: 0.6736 - val_loss: 0.7077 - val_binary_accuracy: 0.5877\n",
            "Epoch 115/250\n",
            "352/352 [==============================] - 2s 5ms/step - loss: 0.6084 - binary_accuracy: 0.6787 - val_loss: 0.7150 - val_binary_accuracy: 0.5851\n",
            "Epoch 116/250\n",
            "352/352 [==============================] - 2s 5ms/step - loss: 0.6081 - binary_accuracy: 0.6724 - val_loss: 0.7111 - val_binary_accuracy: 0.5813\n",
            "Epoch 117/250\n",
            "352/352 [==============================] - 2s 5ms/step - loss: 0.6082 - binary_accuracy: 0.6740 - val_loss: 0.7092 - val_binary_accuracy: 0.5797\n",
            "Epoch 118/250\n",
            "352/352 [==============================] - 2s 5ms/step - loss: 0.6077 - binary_accuracy: 0.6759 - val_loss: 0.7121 - val_binary_accuracy: 0.5840\n",
            "Epoch 119/250\n",
            "352/352 [==============================] - 2s 5ms/step - loss: 0.6066 - binary_accuracy: 0.6759 - val_loss: 0.7107 - val_binary_accuracy: 0.5829\n",
            "Epoch 120/250\n",
            "352/352 [==============================] - 2s 5ms/step - loss: 0.6069 - binary_accuracy: 0.6764 - val_loss: 0.7112 - val_binary_accuracy: 0.5787\n",
            "Epoch 121/250\n",
            "352/352 [==============================] - 2s 5ms/step - loss: 0.6070 - binary_accuracy: 0.6713 - val_loss: 0.7095 - val_binary_accuracy: 0.5781\n",
            "Epoch 122/250\n",
            "352/352 [==============================] - 2s 5ms/step - loss: 0.6066 - binary_accuracy: 0.6748 - val_loss: 0.7111 - val_binary_accuracy: 0.5803\n",
            "Epoch 123/250\n",
            "352/352 [==============================] - 2s 5ms/step - loss: 0.6065 - binary_accuracy: 0.6745 - val_loss: 0.7071 - val_binary_accuracy: 0.5851\n",
            "Epoch 124/250\n",
            "352/352 [==============================] - 2s 5ms/step - loss: 0.6068 - binary_accuracy: 0.6770 - val_loss: 0.7079 - val_binary_accuracy: 0.5803\n",
            "Epoch 125/250\n",
            "352/352 [==============================] - 2s 5ms/step - loss: 0.6064 - binary_accuracy: 0.6768 - val_loss: 0.7120 - val_binary_accuracy: 0.5867\n",
            "Epoch 126/250\n",
            "352/352 [==============================] - 2s 5ms/step - loss: 0.6060 - binary_accuracy: 0.6734 - val_loss: 0.7081 - val_binary_accuracy: 0.5840\n",
            "Epoch 127/250\n",
            "352/352 [==============================] - 2s 5ms/step - loss: 0.6060 - binary_accuracy: 0.6748 - val_loss: 0.7084 - val_binary_accuracy: 0.5760\n",
            "Epoch 128/250\n",
            "352/352 [==============================] - 2s 5ms/step - loss: 0.6058 - binary_accuracy: 0.6759 - val_loss: 0.7095 - val_binary_accuracy: 0.5867\n",
            "Epoch 129/250\n",
            "352/352 [==============================] - 2s 5ms/step - loss: 0.6050 - binary_accuracy: 0.6791 - val_loss: 0.7135 - val_binary_accuracy: 0.5856\n",
            "Epoch 130/250\n",
            "352/352 [==============================] - 2s 5ms/step - loss: 0.6047 - binary_accuracy: 0.6771 - val_loss: 0.7124 - val_binary_accuracy: 0.5840\n",
            "Epoch 131/250\n",
            "352/352 [==============================] - 2s 5ms/step - loss: 0.6055 - binary_accuracy: 0.6756 - val_loss: 0.7097 - val_binary_accuracy: 0.5845\n",
            "Epoch 132/250\n",
            "352/352 [==============================] - 2s 5ms/step - loss: 0.6052 - binary_accuracy: 0.6754 - val_loss: 0.7125 - val_binary_accuracy: 0.5765\n",
            "Epoch 133/250\n",
            "352/352 [==============================] - 2s 5ms/step - loss: 0.6046 - binary_accuracy: 0.6734 - val_loss: 0.7093 - val_binary_accuracy: 0.5840\n",
            "Epoch 134/250\n",
            "352/352 [==============================] - 2s 5ms/step - loss: 0.6048 - binary_accuracy: 0.6754 - val_loss: 0.7133 - val_binary_accuracy: 0.5845\n",
            "Epoch 135/250\n",
            "352/352 [==============================] - 2s 5ms/step - loss: 0.6042 - binary_accuracy: 0.6802 - val_loss: 0.7149 - val_binary_accuracy: 0.5877\n",
            "Epoch 136/250\n",
            "352/352 [==============================] - 2s 5ms/step - loss: 0.6049 - binary_accuracy: 0.6732 - val_loss: 0.7121 - val_binary_accuracy: 0.5909\n",
            "Epoch 137/250\n",
            "352/352 [==============================] - 2s 5ms/step - loss: 0.6045 - binary_accuracy: 0.6805 - val_loss: 0.7075 - val_binary_accuracy: 0.5920\n",
            "Epoch 138/250\n",
            "352/352 [==============================] - 2s 5ms/step - loss: 0.6045 - binary_accuracy: 0.6784 - val_loss: 0.7090 - val_binary_accuracy: 0.5845\n",
            "Epoch 139/250\n",
            "352/352 [==============================] - 2s 5ms/step - loss: 0.6044 - binary_accuracy: 0.6773 - val_loss: 0.7178 - val_binary_accuracy: 0.5861\n",
            "Epoch 140/250\n",
            "352/352 [==============================] - 2s 5ms/step - loss: 0.6042 - binary_accuracy: 0.6748 - val_loss: 0.7142 - val_binary_accuracy: 0.5867\n",
            "Epoch 141/250\n",
            "352/352 [==============================] - 2s 5ms/step - loss: 0.6036 - binary_accuracy: 0.6732 - val_loss: 0.7150 - val_binary_accuracy: 0.5904\n",
            "Epoch 142/250\n",
            "352/352 [==============================] - 2s 5ms/step - loss: 0.6037 - binary_accuracy: 0.6796 - val_loss: 0.7109 - val_binary_accuracy: 0.5829\n",
            "Epoch 143/250\n",
            "352/352 [==============================] - 2s 5ms/step - loss: 0.6028 - binary_accuracy: 0.6780 - val_loss: 0.7155 - val_binary_accuracy: 0.5899\n",
            "Epoch 144/250\n",
            "352/352 [==============================] - 2s 5ms/step - loss: 0.6039 - binary_accuracy: 0.6768 - val_loss: 0.7098 - val_binary_accuracy: 0.5824\n",
            "Epoch 145/250\n",
            "352/352 [==============================] - 2s 5ms/step - loss: 0.6023 - binary_accuracy: 0.6784 - val_loss: 0.7156 - val_binary_accuracy: 0.5840\n",
            "Epoch 146/250\n",
            "352/352 [==============================] - 2s 5ms/step - loss: 0.6028 - binary_accuracy: 0.6777 - val_loss: 0.7173 - val_binary_accuracy: 0.5824\n",
            "Epoch 147/250\n",
            "352/352 [==============================] - 2s 5ms/step - loss: 0.6028 - binary_accuracy: 0.6773 - val_loss: 0.7256 - val_binary_accuracy: 0.5840\n",
            "Epoch 148/250\n",
            "352/352 [==============================] - 2s 5ms/step - loss: 0.6030 - binary_accuracy: 0.6786 - val_loss: 0.7175 - val_binary_accuracy: 0.5813\n",
            "Epoch 149/250\n",
            "352/352 [==============================] - 2s 5ms/step - loss: 0.6030 - binary_accuracy: 0.6766 - val_loss: 0.7135 - val_binary_accuracy: 0.5883\n",
            "Epoch 150/250\n",
            "352/352 [==============================] - 2s 5ms/step - loss: 0.6028 - binary_accuracy: 0.6748 - val_loss: 0.7173 - val_binary_accuracy: 0.5851\n",
            "Epoch 151/250\n",
            "352/352 [==============================] - 2s 5ms/step - loss: 0.6028 - binary_accuracy: 0.6789 - val_loss: 0.7172 - val_binary_accuracy: 0.5888\n",
            "Epoch 152/250\n",
            "352/352 [==============================] - 2s 5ms/step - loss: 0.6029 - binary_accuracy: 0.6782 - val_loss: 0.7183 - val_binary_accuracy: 0.5819\n",
            "Epoch 153/250\n",
            "352/352 [==============================] - 2s 5ms/step - loss: 0.6016 - binary_accuracy: 0.6841 - val_loss: 0.7315 - val_binary_accuracy: 0.5851\n",
            "Epoch 154/250\n",
            "352/352 [==============================] - 2s 5ms/step - loss: 0.6031 - binary_accuracy: 0.6807 - val_loss: 0.7153 - val_binary_accuracy: 0.5883\n",
            "Epoch 155/250\n",
            "352/352 [==============================] - 2s 5ms/step - loss: 0.6015 - binary_accuracy: 0.6779 - val_loss: 0.7180 - val_binary_accuracy: 0.5920\n",
            "Epoch 156/250\n",
            "352/352 [==============================] - 2s 5ms/step - loss: 0.6018 - binary_accuracy: 0.6798 - val_loss: 0.7179 - val_binary_accuracy: 0.5920\n",
            "Epoch 157/250\n",
            "352/352 [==============================] - 2s 5ms/step - loss: 0.6019 - binary_accuracy: 0.6782 - val_loss: 0.7171 - val_binary_accuracy: 0.5872\n",
            "Epoch 158/250\n",
            "352/352 [==============================] - 2s 5ms/step - loss: 0.6017 - binary_accuracy: 0.6780 - val_loss: 0.7104 - val_binary_accuracy: 0.5909\n",
            "Epoch 159/250\n",
            "352/352 [==============================] - 2s 5ms/step - loss: 0.6009 - binary_accuracy: 0.6786 - val_loss: 0.7175 - val_binary_accuracy: 0.5883\n",
            "Epoch 160/250\n",
            "352/352 [==============================] - 2s 5ms/step - loss: 0.6009 - binary_accuracy: 0.6786 - val_loss: 0.7191 - val_binary_accuracy: 0.5899\n",
            "Epoch 161/250\n",
            "352/352 [==============================] - 2s 5ms/step - loss: 0.6017 - binary_accuracy: 0.6780 - val_loss: 0.7247 - val_binary_accuracy: 0.5856\n",
            "Epoch 162/250\n",
            "352/352 [==============================] - 2s 5ms/step - loss: 0.6011 - binary_accuracy: 0.6825 - val_loss: 0.7244 - val_binary_accuracy: 0.5829\n",
            "Epoch 163/250\n",
            "352/352 [==============================] - 2s 5ms/step - loss: 0.6009 - binary_accuracy: 0.6843 - val_loss: 0.7186 - val_binary_accuracy: 0.5877\n",
            "Epoch 164/250\n",
            "352/352 [==============================] - 2s 5ms/step - loss: 0.5999 - binary_accuracy: 0.6807 - val_loss: 0.7242 - val_binary_accuracy: 0.5829\n",
            "Epoch 165/250\n",
            "352/352 [==============================] - 2s 5ms/step - loss: 0.6007 - binary_accuracy: 0.6816 - val_loss: 0.7226 - val_binary_accuracy: 0.5861\n",
            "Epoch 166/250\n",
            "352/352 [==============================] - 2s 5ms/step - loss: 0.6004 - binary_accuracy: 0.6816 - val_loss: 0.7313 - val_binary_accuracy: 0.5824\n",
            "Epoch 167/250\n",
            "352/352 [==============================] - 2s 5ms/step - loss: 0.6007 - binary_accuracy: 0.6818 - val_loss: 0.7149 - val_binary_accuracy: 0.5915\n",
            "Epoch 168/250\n",
            "352/352 [==============================] - 2s 5ms/step - loss: 0.5993 - binary_accuracy: 0.6784 - val_loss: 0.7157 - val_binary_accuracy: 0.5845\n",
            "Epoch 169/250\n",
            "352/352 [==============================] - 2s 5ms/step - loss: 0.5996 - binary_accuracy: 0.6809 - val_loss: 0.7130 - val_binary_accuracy: 0.5899\n",
            "Epoch 170/250\n",
            "352/352 [==============================] - 2s 5ms/step - loss: 0.5995 - binary_accuracy: 0.6803 - val_loss: 0.7212 - val_binary_accuracy: 0.5861\n",
            "Epoch 171/250\n",
            "352/352 [==============================] - 2s 5ms/step - loss: 0.5993 - binary_accuracy: 0.6809 - val_loss: 0.7171 - val_binary_accuracy: 0.5904\n",
            "Epoch 172/250\n",
            "352/352 [==============================] - 2s 5ms/step - loss: 0.5992 - binary_accuracy: 0.6809 - val_loss: 0.7162 - val_binary_accuracy: 0.5840\n",
            "Epoch 173/250\n",
            "352/352 [==============================] - 2s 5ms/step - loss: 0.5992 - binary_accuracy: 0.6839 - val_loss: 0.7213 - val_binary_accuracy: 0.5893\n",
            "Epoch 174/250\n",
            "352/352 [==============================] - 2s 5ms/step - loss: 0.5992 - binary_accuracy: 0.6787 - val_loss: 0.7179 - val_binary_accuracy: 0.5909\n",
            "Epoch 175/250\n",
            "352/352 [==============================] - 2s 5ms/step - loss: 0.5987 - binary_accuracy: 0.6848 - val_loss: 0.7219 - val_binary_accuracy: 0.5856\n",
            "Epoch 176/250\n",
            "352/352 [==============================] - 2s 5ms/step - loss: 0.5985 - binary_accuracy: 0.6876 - val_loss: 0.7242 - val_binary_accuracy: 0.5840\n",
            "Epoch 177/250\n",
            "352/352 [==============================] - 2s 5ms/step - loss: 0.5972 - binary_accuracy: 0.6839 - val_loss: 0.7244 - val_binary_accuracy: 0.5899\n",
            "Epoch 178/250\n",
            "352/352 [==============================] - 2s 5ms/step - loss: 0.5992 - binary_accuracy: 0.6844 - val_loss: 0.7195 - val_binary_accuracy: 0.5915\n",
            "Epoch 179/250\n",
            "352/352 [==============================] - 2s 5ms/step - loss: 0.5986 - binary_accuracy: 0.6786 - val_loss: 0.7225 - val_binary_accuracy: 0.5835\n",
            "Epoch 180/250\n",
            "352/352 [==============================] - 2s 5ms/step - loss: 0.5986 - binary_accuracy: 0.6796 - val_loss: 0.7198 - val_binary_accuracy: 0.5899\n",
            "Epoch 181/250\n",
            "352/352 [==============================] - 2s 5ms/step - loss: 0.5974 - binary_accuracy: 0.6841 - val_loss: 0.7264 - val_binary_accuracy: 0.5893\n",
            "Epoch 182/250\n",
            "352/352 [==============================] - 2s 5ms/step - loss: 0.5977 - binary_accuracy: 0.6816 - val_loss: 0.7205 - val_binary_accuracy: 0.5915\n",
            "Epoch 183/250\n",
            "352/352 [==============================] - 2s 5ms/step - loss: 0.5980 - binary_accuracy: 0.6835 - val_loss: 0.7153 - val_binary_accuracy: 0.5877\n",
            "Epoch 184/250\n",
            "352/352 [==============================] - 2s 5ms/step - loss: 0.5974 - binary_accuracy: 0.6828 - val_loss: 0.7190 - val_binary_accuracy: 0.5893\n",
            "Epoch 185/250\n",
            "352/352 [==============================] - 2s 5ms/step - loss: 0.5964 - binary_accuracy: 0.6839 - val_loss: 0.7172 - val_binary_accuracy: 0.5851\n",
            "Epoch 186/250\n",
            "352/352 [==============================] - 2s 5ms/step - loss: 0.5976 - binary_accuracy: 0.6867 - val_loss: 0.7183 - val_binary_accuracy: 0.5845\n",
            "Epoch 187/250\n",
            "352/352 [==============================] - 2s 5ms/step - loss: 0.5965 - binary_accuracy: 0.6850 - val_loss: 0.7118 - val_binary_accuracy: 0.5867\n",
            "Epoch 188/250\n",
            "352/352 [==============================] - 2s 5ms/step - loss: 0.5966 - binary_accuracy: 0.6830 - val_loss: 0.7189 - val_binary_accuracy: 0.5904\n",
            "Epoch 189/250\n",
            "352/352 [==============================] - 2s 5ms/step - loss: 0.5966 - binary_accuracy: 0.6885 - val_loss: 0.7226 - val_binary_accuracy: 0.5819\n",
            "Epoch 190/250\n",
            "352/352 [==============================] - 2s 5ms/step - loss: 0.5955 - binary_accuracy: 0.6859 - val_loss: 0.7171 - val_binary_accuracy: 0.5829\n",
            "Epoch 191/250\n",
            "352/352 [==============================] - 2s 5ms/step - loss: 0.5965 - binary_accuracy: 0.6903 - val_loss: 0.7158 - val_binary_accuracy: 0.5829\n",
            "Epoch 192/250\n",
            "352/352 [==============================] - 2s 5ms/step - loss: 0.5964 - binary_accuracy: 0.6832 - val_loss: 0.7214 - val_binary_accuracy: 0.5840\n",
            "Epoch 193/250\n",
            "352/352 [==============================] - 2s 5ms/step - loss: 0.5962 - binary_accuracy: 0.6871 - val_loss: 0.7154 - val_binary_accuracy: 0.5893\n",
            "Epoch 194/250\n",
            "352/352 [==============================] - 2s 5ms/step - loss: 0.5952 - binary_accuracy: 0.6860 - val_loss: 0.7196 - val_binary_accuracy: 0.5893\n",
            "Epoch 195/250\n",
            "352/352 [==============================] - 2s 5ms/step - loss: 0.5946 - binary_accuracy: 0.6850 - val_loss: 0.7320 - val_binary_accuracy: 0.5861\n",
            "Epoch 196/250\n",
            "352/352 [==============================] - 2s 5ms/step - loss: 0.5960 - binary_accuracy: 0.6853 - val_loss: 0.7166 - val_binary_accuracy: 0.5952\n",
            "Epoch 197/250\n",
            "352/352 [==============================] - 2s 5ms/step - loss: 0.5955 - binary_accuracy: 0.6867 - val_loss: 0.7210 - val_binary_accuracy: 0.5877\n",
            "Epoch 198/250\n",
            "352/352 [==============================] - 2s 5ms/step - loss: 0.5955 - binary_accuracy: 0.6876 - val_loss: 0.7287 - val_binary_accuracy: 0.5824\n",
            "Epoch 199/250\n",
            "352/352 [==============================] - 2s 5ms/step - loss: 0.5950 - binary_accuracy: 0.6832 - val_loss: 0.7273 - val_binary_accuracy: 0.5824\n",
            "Epoch 200/250\n",
            "352/352 [==============================] - 2s 5ms/step - loss: 0.5951 - binary_accuracy: 0.6860 - val_loss: 0.7237 - val_binary_accuracy: 0.5856\n",
            "Epoch 201/250\n",
            "352/352 [==============================] - 2s 5ms/step - loss: 0.5938 - binary_accuracy: 0.6896 - val_loss: 0.7420 - val_binary_accuracy: 0.5803\n",
            "Epoch 202/250\n",
            "352/352 [==============================] - 2s 5ms/step - loss: 0.5947 - binary_accuracy: 0.6875 - val_loss: 0.7190 - val_binary_accuracy: 0.5835\n",
            "Epoch 203/250\n",
            "352/352 [==============================] - 2s 5ms/step - loss: 0.5945 - binary_accuracy: 0.6889 - val_loss: 0.7320 - val_binary_accuracy: 0.5813\n",
            "Epoch 204/250\n",
            "352/352 [==============================] - 2s 5ms/step - loss: 0.5953 - binary_accuracy: 0.6853 - val_loss: 0.7223 - val_binary_accuracy: 0.5936\n",
            "Epoch 205/250\n",
            "352/352 [==============================] - 2s 5ms/step - loss: 0.5947 - binary_accuracy: 0.6867 - val_loss: 0.7241 - val_binary_accuracy: 0.5909\n",
            "Epoch 206/250\n",
            "352/352 [==============================] - 2s 5ms/step - loss: 0.5935 - binary_accuracy: 0.6885 - val_loss: 0.7201 - val_binary_accuracy: 0.5915\n",
            "Epoch 207/250\n",
            "352/352 [==============================] - 2s 5ms/step - loss: 0.5941 - binary_accuracy: 0.6892 - val_loss: 0.7271 - val_binary_accuracy: 0.5851\n",
            "Epoch 208/250\n",
            "352/352 [==============================] - 2s 5ms/step - loss: 0.5941 - binary_accuracy: 0.6846 - val_loss: 0.7268 - val_binary_accuracy: 0.5835\n",
            "Epoch 209/250\n",
            "352/352 [==============================] - 2s 5ms/step - loss: 0.5940 - binary_accuracy: 0.6892 - val_loss: 0.7324 - val_binary_accuracy: 0.5904\n",
            "Epoch 210/250\n",
            "352/352 [==============================] - 2s 5ms/step - loss: 0.5940 - binary_accuracy: 0.6875 - val_loss: 0.7266 - val_binary_accuracy: 0.5909\n",
            "Epoch 211/250\n",
            "352/352 [==============================] - 2s 5ms/step - loss: 0.5935 - binary_accuracy: 0.6857 - val_loss: 0.7293 - val_binary_accuracy: 0.5925\n",
            "Epoch 212/250\n",
            "352/352 [==============================] - 2s 5ms/step - loss: 0.5936 - binary_accuracy: 0.6864 - val_loss: 0.7186 - val_binary_accuracy: 0.5888\n",
            "Epoch 213/250\n",
            "352/352 [==============================] - 2s 5ms/step - loss: 0.5941 - binary_accuracy: 0.6869 - val_loss: 0.7213 - val_binary_accuracy: 0.5856\n",
            "Epoch 214/250\n",
            "352/352 [==============================] - 2s 5ms/step - loss: 0.5932 - binary_accuracy: 0.6892 - val_loss: 0.7239 - val_binary_accuracy: 0.5941\n",
            "Epoch 215/250\n",
            "352/352 [==============================] - 2s 5ms/step - loss: 0.5935 - binary_accuracy: 0.6857 - val_loss: 0.7258 - val_binary_accuracy: 0.5952\n",
            "Epoch 216/250\n",
            "352/352 [==============================] - 2s 5ms/step - loss: 0.5914 - binary_accuracy: 0.6889 - val_loss: 0.7260 - val_binary_accuracy: 0.5733\n",
            "Epoch 217/250\n",
            "352/352 [==============================] - 2s 5ms/step - loss: 0.5932 - binary_accuracy: 0.6860 - val_loss: 0.7267 - val_binary_accuracy: 0.5952\n",
            "Epoch 218/250\n",
            "352/352 [==============================] - 2s 5ms/step - loss: 0.5935 - binary_accuracy: 0.6862 - val_loss: 0.7224 - val_binary_accuracy: 0.5893\n",
            "Epoch 219/250\n",
            "352/352 [==============================] - 2s 5ms/step - loss: 0.5934 - binary_accuracy: 0.6875 - val_loss: 0.7257 - val_binary_accuracy: 0.5909\n",
            "Epoch 220/250\n",
            "352/352 [==============================] - 2s 5ms/step - loss: 0.5922 - binary_accuracy: 0.6907 - val_loss: 0.7255 - val_binary_accuracy: 0.5851\n",
            "Epoch 221/250\n",
            "352/352 [==============================] - 2s 5ms/step - loss: 0.5932 - binary_accuracy: 0.6857 - val_loss: 0.7217 - val_binary_accuracy: 0.5909\n",
            "Epoch 222/250\n",
            "352/352 [==============================] - 2s 5ms/step - loss: 0.5916 - binary_accuracy: 0.6885 - val_loss: 0.7224 - val_binary_accuracy: 0.5813\n",
            "Epoch 223/250\n",
            "352/352 [==============================] - 2s 5ms/step - loss: 0.5926 - binary_accuracy: 0.6864 - val_loss: 0.7292 - val_binary_accuracy: 0.5899\n",
            "Epoch 224/250\n",
            "352/352 [==============================] - 2s 5ms/step - loss: 0.5926 - binary_accuracy: 0.6887 - val_loss: 0.7261 - val_binary_accuracy: 0.5904\n",
            "Epoch 225/250\n",
            "352/352 [==============================] - 2s 5ms/step - loss: 0.5923 - binary_accuracy: 0.6908 - val_loss: 0.7299 - val_binary_accuracy: 0.5883\n",
            "Epoch 226/250\n",
            "352/352 [==============================] - 2s 5ms/step - loss: 0.5925 - binary_accuracy: 0.6882 - val_loss: 0.7261 - val_binary_accuracy: 0.5899\n",
            "Epoch 227/250\n",
            "352/352 [==============================] - 2s 5ms/step - loss: 0.5919 - binary_accuracy: 0.6873 - val_loss: 0.7300 - val_binary_accuracy: 0.5899\n",
            "Epoch 228/250\n",
            "352/352 [==============================] - 2s 5ms/step - loss: 0.5926 - binary_accuracy: 0.6887 - val_loss: 0.7330 - val_binary_accuracy: 0.5899\n",
            "Epoch 229/250\n",
            "352/352 [==============================] - 2s 5ms/step - loss: 0.5926 - binary_accuracy: 0.6892 - val_loss: 0.7293 - val_binary_accuracy: 0.5947\n",
            "Epoch 230/250\n",
            "352/352 [==============================] - 2s 5ms/step - loss: 0.5921 - binary_accuracy: 0.6819 - val_loss: 0.7325 - val_binary_accuracy: 0.5909\n",
            "Epoch 231/250\n",
            "352/352 [==============================] - 2s 5ms/step - loss: 0.5913 - binary_accuracy: 0.6869 - val_loss: 0.7347 - val_binary_accuracy: 0.5888\n",
            "Epoch 232/250\n",
            "352/352 [==============================] - 2s 5ms/step - loss: 0.5919 - binary_accuracy: 0.6850 - val_loss: 0.7299 - val_binary_accuracy: 0.5861\n",
            "Epoch 233/250\n",
            "352/352 [==============================] - 2s 5ms/step - loss: 0.5921 - binary_accuracy: 0.6878 - val_loss: 0.7326 - val_binary_accuracy: 0.5888\n",
            "Epoch 234/250\n",
            "352/352 [==============================] - 2s 5ms/step - loss: 0.5916 - binary_accuracy: 0.6875 - val_loss: 0.7326 - val_binary_accuracy: 0.5952\n",
            "Epoch 235/250\n",
            "352/352 [==============================] - 2s 5ms/step - loss: 0.5906 - binary_accuracy: 0.6914 - val_loss: 0.7340 - val_binary_accuracy: 0.5904\n",
            "Epoch 236/250\n",
            "352/352 [==============================] - 2s 5ms/step - loss: 0.5913 - binary_accuracy: 0.6866 - val_loss: 0.7347 - val_binary_accuracy: 0.5941\n",
            "Epoch 237/250\n",
            "352/352 [==============================] - 2s 5ms/step - loss: 0.5914 - binary_accuracy: 0.6859 - val_loss: 0.7341 - val_binary_accuracy: 0.5888\n",
            "Epoch 238/250\n",
            "352/352 [==============================] - 2s 5ms/step - loss: 0.5910 - binary_accuracy: 0.6876 - val_loss: 0.7333 - val_binary_accuracy: 0.5888\n",
            "Epoch 239/250\n",
            "352/352 [==============================] - 2s 5ms/step - loss: 0.5915 - binary_accuracy: 0.6919 - val_loss: 0.7291 - val_binary_accuracy: 0.5915\n",
            "Epoch 240/250\n",
            "352/352 [==============================] - 2s 5ms/step - loss: 0.5909 - binary_accuracy: 0.6928 - val_loss: 0.7388 - val_binary_accuracy: 0.5925\n",
            "Epoch 241/250\n",
            "352/352 [==============================] - 2s 6ms/step - loss: 0.5906 - binary_accuracy: 0.6862 - val_loss: 0.7337 - val_binary_accuracy: 0.5872\n",
            "Epoch 242/250\n",
            "352/352 [==============================] - 2s 5ms/step - loss: 0.5908 - binary_accuracy: 0.6899 - val_loss: 0.7345 - val_binary_accuracy: 0.5867\n",
            "Epoch 243/250\n",
            "352/352 [==============================] - 2s 5ms/step - loss: 0.5899 - binary_accuracy: 0.6864 - val_loss: 0.7384 - val_binary_accuracy: 0.5925\n",
            "Epoch 244/250\n",
            "352/352 [==============================] - 2s 5ms/step - loss: 0.5896 - binary_accuracy: 0.6914 - val_loss: 0.7318 - val_binary_accuracy: 0.5909\n",
            "Epoch 245/250\n",
            "352/352 [==============================] - 2s 5ms/step - loss: 0.5896 - binary_accuracy: 0.6892 - val_loss: 0.7367 - val_binary_accuracy: 0.5909\n",
            "Epoch 246/250\n",
            "352/352 [==============================] - 2s 5ms/step - loss: 0.5908 - binary_accuracy: 0.6850 - val_loss: 0.7322 - val_binary_accuracy: 0.5931\n",
            "Epoch 247/250\n",
            "352/352 [==============================] - 2s 5ms/step - loss: 0.5896 - binary_accuracy: 0.6864 - val_loss: 0.7313 - val_binary_accuracy: 0.5877\n",
            "Epoch 248/250\n",
            "352/352 [==============================] - 2s 5ms/step - loss: 0.5896 - binary_accuracy: 0.6923 - val_loss: 0.7363 - val_binary_accuracy: 0.5931\n",
            "Epoch 249/250\n",
            "352/352 [==============================] - 2s 5ms/step - loss: 0.5899 - binary_accuracy: 0.6855 - val_loss: 0.7308 - val_binary_accuracy: 0.5931\n",
            "Epoch 250/250\n",
            "352/352 [==============================] - 2s 5ms/step - loss: 0.5900 - binary_accuracy: 0.6875 - val_loss: 0.7400 - val_binary_accuracy: 0.5840\n"
          ]
        }
      ]
    },
    {
      "cell_type": "code",
      "source": [
        "plt.plot(history.history['loss'], 'b-', label = \"Training loss\")\n",
        "plt.plot(history.history['val_loss'], 'r--', label = \"Validation loss\")\n",
        "plt.xlabel('Epochs')\n",
        "plt.ylabel('Binary Crossentropy Loss')\n",
        "plt.title('Crossentropy Loss')\n",
        "plt.legend();"
      ],
      "metadata": {
        "colab": {
          "base_uri": "https://localhost:8080/",
          "height": 295
        },
        "id": "eLK5VMxZnjjv",
        "outputId": "c4e4805d-860a-4f1b-f02b-441ff6e8be79"
      },
      "execution_count": null,
      "outputs": [
        {
          "output_type": "display_data",
          "data": {
            "image/png": "[encoded data removed]",
            "text/plain": [
              "<Figure size 432x288 with 1 Axes>"
            ]
          },
          "metadata": {
            "needs_background": "light"
          }
        }
      ]
    },
    {
      "cell_type": "code",
      "source": [
        "plt.plot(history.history['binary_accuracy'], 'b-', label = \"Training accuracy\")\n",
        "plt.plot(history.history['val_binary_accuracy'], 'r--', label = \"Validation accuracy\")\n",
        "plt.xlabel('Epochs')\n",
        "plt.ylabel('Binary Accuracy')\n",
        "plt.title('Accuracy')\n",
        "plt.legend();"
      ],
      "metadata": {
        "colab": {
          "base_uri": "https://localhost:8080/",
          "height": 295
        },
        "id": "0B4vr20CoL7d",
        "outputId": "e1b097a4-b496-46ab-804e-8e2d8da19d0e"
      },
      "execution_count": null,
      "outputs": [
        {
          "output_type": "display_data",
          "data": {
            "image/png": "[encoded data removed]",
            "text/plain": [
              "<Figure size 432x288 with 1 Axes>"
            ]
          },
          "metadata": {
            "needs_background": "light"
          }
        }
      ]
    },
    {
      "cell_type": "code",
      "source": [
        "# Predictions\n",
        "predictions = model(train_X)"
      ],
      "metadata": {
        "id": "-t87BUGe2rqT"
      },
      "execution_count": null,
      "outputs": []
    },
    {
      "cell_type": "code",
      "source": [
        "model.evaluate(train_X, train_Y, batch_size = 128)"
      ],
      "metadata": {
        "colab": {
          "base_uri": "https://localhost:8080/"
        },
        "id": "Nv1dgSVfHUK0",
        "outputId": "044d9159-68b4-4e43-c7c8-23cd7de3cee8"
      },
      "execution_count": null,
      "outputs": [
        {
          "output_type": "stream",
          "name": "stdout",
          "text": [
            "59/59 [==============================] - 0s 2ms/step - loss: 0.3512 - binary_accuracy: 0.8381\n"
          ]
        },
        {
          "output_type": "execute_result",
          "data": {
            "text/plain": [
              "[0.35116514563560486, 0.8380647897720337]"
            ]
          },
          "metadata": {},
          "execution_count": 93
        }
      ]
    },
    {
      "cell_type": "code",
      "source": [
        "test_set['hashtags']"
      ],
      "metadata": {
        "colab": {
          "base_uri": "https://localhost:8080/"
        },
        "id": "L6-6x8R9JII8",
        "outputId": "be47e3fa-2ecb-4aa4-e492-1d2e524fa2e4"
      },
      "execution_count": null,
      "outputs": [
        {
          "output_type": "execute_result",
          "data": {
            "text/plain": [
              "0                              []\n",
              "1                    [earthquake]\n",
              "2                              []\n",
              "3            [spokane, wildfires]\n",
              "4                              []\n",
              "                  ...            \n",
              "3258                           []\n",
              "3259                           []\n",
              "3260                           []\n",
              "3261                           []\n",
              "3262    [cityofcalgary, yycstorm]\n",
              "Name: hashtags, Length: 3263, dtype: object"
            ]
          },
          "metadata": {},
          "execution_count": 94
        }
      ]
    },
    {
      "cell_type": "markdown",
      "source": [
        "### Fitting Test Set"
      ],
      "metadata": {
        "id": "IpbqwHWyJivm"
      }
    },
    {
      "cell_type": "code",
      "source": [
        "# Adding hashtag to tweets at test data\n",
        "for i, hashtag in enumerate(test_set['hashtags']):\n",
        "  for hashtag in test_set.loc[i, 'hashtags']:\n",
        "    test_set.loc[i, 'text'].append(hashtag)\n",
        "\n",
        "test_set"
      ],
      "metadata": {
        "colab": {
          "base_uri": "https://localhost:8080/",
          "height": 424
        },
        "id": "D7ofrAYUIxa1",
        "outputId": "bf4a9d85-94ec-4376-a819-4343b141800a"
      },
      "execution_count": null,
      "outputs": [
        {
          "output_type": "execute_result",
          "data": {
            "text/html": [
              "\n",
              "  <div id=\"df-50a81905-ed7b-4a7c-afe0-2e07132ac51d\">\n",
              "    <div class=\"colab-df-container\">\n",
              "      <div>\n",
              "<style scoped>\n",
              "    .dataframe tbody tr th:only-of-type {\n",
              "        vertical-align: middle;\n",
              "    }\n",
              "\n",
              "    .dataframe tbody tr th {\n",
              "        vertical-align: top;\n",
              "    }\n",
              "\n",
              "    .dataframe thead th {\n",
              "        text-align: right;\n",
              "    }\n",
              "</style>\n",
              "<table border=\"1\" class=\"dataframe\">\n",
              "  <thead>\n",
              "    <tr style=\"text-align: right;\">\n",
              "      <th></th>\n",
              "      <th>id</th>\n",
              "      <th>keyword</th>\n",
              "      <th>location</th>\n",
              "      <th>text</th>\n",
              "      <th>hashtags</th>\n",
              "    </tr>\n",
              "  </thead>\n",
              "  <tbody>\n",
              "    <tr>\n",
              "      <th>0</th>\n",
              "      <td>0</td>\n",
              "      <td>NaN</td>\n",
              "      <td>NaN</td>\n",
              "      <td>[happened, terrible, car, crash]</td>\n",
              "      <td>[]</td>\n",
              "    </tr>\n",
              "    <tr>\n",
              "      <th>1</th>\n",
              "      <td>2</td>\n",
              "      <td>NaN</td>\n",
              "      <td>NaN</td>\n",
              "      <td>[heard, different, city, stay, safe, everyon, ...</td>\n",
              "      <td>[earthquake]</td>\n",
              "    </tr>\n",
              "    <tr>\n",
              "      <th>2</th>\n",
              "      <td>3</td>\n",
              "      <td>NaN</td>\n",
              "      <td>NaN</td>\n",
              "      <td>[forest, fire, spot, pond, goose, fleeing, acr...</td>\n",
              "      <td>[]</td>\n",
              "    </tr>\n",
              "    <tr>\n",
              "      <th>3</th>\n",
              "      <td>9</td>\n",
              "      <td>NaN</td>\n",
              "      <td>NaN</td>\n",
              "      <td>[apocalypse, light, spokane, wildfires]</td>\n",
              "      <td>[spokane, wildfires]</td>\n",
              "    </tr>\n",
              "    <tr>\n",
              "      <th>4</th>\n",
              "      <td>11</td>\n",
              "      <td>NaN</td>\n",
              "      <td>NaN</td>\n",
              "      <td>[typhoon, soudelor, kill, china, taiwan]</td>\n",
              "      <td>[]</td>\n",
              "    </tr>\n",
              "    <tr>\n",
              "      <th>...</th>\n",
              "      <td>...</td>\n",
              "      <td>...</td>\n",
              "      <td>...</td>\n",
              "      <td>...</td>\n",
              "      <td>...</td>\n",
              "    </tr>\n",
              "    <tr>\n",
              "      <th>3258</th>\n",
              "      <td>10861</td>\n",
              "      <td>NaN</td>\n",
              "      <td>NaN</td>\n",
              "      <td>[earthquake, safety, los, angeles, safety, fas...</td>\n",
              "      <td>[]</td>\n",
              "    </tr>\n",
              "    <tr>\n",
              "      <th>3259</th>\n",
              "      <td>10865</td>\n",
              "      <td>NaN</td>\n",
              "      <td>NaN</td>\n",
              "      <td>[storm, ri, worse, last, hurricane, cityamp, 3...</td>\n",
              "      <td>[]</td>\n",
              "    </tr>\n",
              "    <tr>\n",
              "      <th>3260</th>\n",
              "      <td>10868</td>\n",
              "      <td>NaN</td>\n",
              "      <td>NaN</td>\n",
              "      <td>[green, line, derailment, chicago]</td>\n",
              "      <td>[]</td>\n",
              "    </tr>\n",
              "    <tr>\n",
              "      <th>3261</th>\n",
              "      <td>10874</td>\n",
              "      <td>NaN</td>\n",
              "      <td>NaN</td>\n",
              "      <td>[meg, issue, hazardous, weather, outlook, hwo]</td>\n",
              "      <td>[]</td>\n",
              "    </tr>\n",
              "    <tr>\n",
              "      <th>3262</th>\n",
              "      <td>10875</td>\n",
              "      <td>NaN</td>\n",
              "      <td>NaN</td>\n",
              "      <td>[ha, activated, municipal, emergency, plan, ci...</td>\n",
              "      <td>[cityofcalgary, yycstorm]</td>\n",
              "    </tr>\n",
              "  </tbody>\n",
              "</table>\n",
              "<p>3263 rows × 5 columns</p>\n",
              "</div>\n",
              "      <button class=\"colab-df-convert\" onclick=\"convertToInteractive('df-50a81905-ed7b-4a7c-afe0-2e07132ac51d')\"\n",
              "              title=\"Convert this dataframe to an interactive table.\"\n",
              "              style=\"display:none;\">\n",
              "        \n",
              "  <svg xmlns=\"http://www.w3.org/2000/svg\" height=\"24px\"viewBox=\"0 0 24 24\"\n",
              "       width=\"24px\">\n",
              "    <path d=\"M0 0h24v24H0V0z\" fill=\"none\"/>\n",
              "    <path d=\"M18.56 5.44l.94 2.06.94-2.06 2.06-.94-2.06-.94-.94-2.06-.94 2.06-2.06.94zm-11 1L8.5 8.5l.94-2.06 2.06-.94-2.06-.94L8.5 2.5l-.94 2.06-2.06.94zm10 10l.94 2.06.94-2.06 2.06-.94-2.06-.94-.94-2.06-.94 2.06-2.06.94z\"/><path d=\"M17.41 7.96l-1.37-1.37c-.4-.4-.92-.59-1.43-.59-.52 0-1.04.2-1.43.59L10.3 9.45l-7.72 7.72c-.78.78-.78 2.05 0 2.83L4 21.41c.39.39.9.59 1.41.59.51 0 1.02-.2 1.41-.59l7.78-7.78 2.81-2.81c.8-.78.8-2.07 0-2.86zM5.41 20L4 18.59l7.72-7.72 1.47 1.35L5.41 20z\"/>\n",
              "  </svg>\n",
              "      </button>\n",
              "      \n",
              "  <style>\n",
              "    .colab-df-container {\n",
              "      display:flex;\n",
              "      flex-wrap:wrap;\n",
              "      gap: 12px;\n",
              "    }\n",
              "\n",
              "    .colab-df-convert {\n",
              "      background-color: #E8F0FE;\n",
              "      border: none;\n",
              "      border-radius: 50%;\n",
              "      cursor: pointer;\n",
              "      display: none;\n",
              "      fill: #1967D2;\n",
              "      height: 32px;\n",
              "      padding: 0 0 0 0;\n",
              "      width: 32px;\n",
              "    }\n",
              "\n",
              "    .colab-df-convert:hover {\n",
              "      background-color: #E2EBFA;\n",
              "      box-shadow: 0px 1px 2px rgba(60, 64, 67, 0.3), 0px 1px 3px 1px rgba(60, 64, 67, 0.15);\n",
              "      fill: #174EA6;\n",
              "    }\n",
              "\n",
              "    [theme=dark] .colab-df-convert {\n",
              "      background-color: #3B4455;\n",
              "      fill: #D2E3FC;\n",
              "    }\n",
              "\n",
              "    [theme=dark] .colab-df-convert:hover {\n",
              "      background-color: #434B5C;\n",
              "      box-shadow: 0px 1px 3px 1px rgba(0, 0, 0, 0.15);\n",
              "      filter: drop-shadow(0px 1px 2px rgba(0, 0, 0, 0.3));\n",
              "      fill: #FFFFFF;\n",
              "    }\n",
              "  </style>\n",
              "\n",
              "      <script>\n",
              "        const buttonEl =\n",
              "          document.querySelector('#df-50a81905-ed7b-4a7c-afe0-2e07132ac51d button.colab-df-convert');\n",
              "        buttonEl.style.display =\n",
              "          google.colab.kernel.accessAllowed ? 'block' : 'none';\n",
              "\n",
              "        async function convertToInteractive(key) {\n",
              "          const element = document.querySelector('#df-50a81905-ed7b-4a7c-afe0-2e07132ac51d');\n",
              "          const dataTable =\n",
              "            await google.colab.kernel.invokeFunction('convertToInteractive',\n",
              "                                                     [key], {});\n",
              "          if (!dataTable) return;\n",
              "\n",
              "          const docLinkHtml = 'Like what you see? Visit the ' +\n",
              "            '<a target=\"_blank\" href=https://colab.research.google.com/notebooks/data_table.ipynb>data table notebook</a>'\n",
              "            + ' to learn more about interactive tables.';\n",
              "          element.innerHTML = '';\n",
              "          dataTable['output_type'] = 'display_data';\n",
              "          await google.colab.output.renderOutput(dataTable, element);\n",
              "          const docLink = document.createElement('div');\n",
              "          docLink.innerHTML = docLinkHtml;\n",
              "          element.appendChild(docLink);\n",
              "        }\n",
              "      </script>\n",
              "    </div>\n",
              "  </div>\n",
              "  "
            ],
            "text/plain": [
              "         id  ...                   hashtags\n",
              "0         0  ...                         []\n",
              "1         2  ...               [earthquake]\n",
              "2         3  ...                         []\n",
              "3         9  ...       [spokane, wildfires]\n",
              "4        11  ...                         []\n",
              "...     ...  ...                        ...\n",
              "3258  10861  ...                         []\n",
              "3259  10865  ...                         []\n",
              "3260  10868  ...                         []\n",
              "3261  10874  ...                         []\n",
              "3262  10875  ...  [cityofcalgary, yycstorm]\n",
              "\n",
              "[3263 rows x 5 columns]"
            ]
          },
          "metadata": {},
          "execution_count": 95
        }
      ]
    },
    {
      "cell_type": "code",
      "source": [
        "# Sequentialize test dataset\n",
        "test_sequences_matrix = sequentialize(test_set['text'], max_words = 10000,\n",
        "                                      words_per_element = 23, enforce_words_per_element = True)\n",
        "\n",
        "print(test_sequences_matrix.shape, test_sequences_matrix.dtype)\n",
        "print(test_sequences_matrix[0, :])\n",
        "print(test_sequences_matrix[0, :].shape)"
      ],
      "metadata": {
        "colab": {
          "base_uri": "https://localhost:8080/"
        },
        "id": "Vt1Wn64SJl_i",
        "outputId": "cb08efc0-6068-45e3-bf55-10626758b1d4"
      },
      "execution_count": null,
      "outputs": [
        {
          "output_type": "stream",
          "name": "stdout",
          "text": [
            "Highest word token: 8742\n",
            "(3263, 23) int32\n",
            "[  0   0   0   0   0   0   0   0   0   0   0   0   0   0   0   0   0   0\n",
            "   0 668 958  52  36]\n",
            "(23,)\n"
          ]
        }
      ]
    },
    {
      "cell_type": "code",
      "source": [
        "# Analyzing word counts after tokenizing into matrices\n",
        "word_counts = []\n",
        "for i in range(0, test_sequences_matrix.shape[0]):\n",
        "  word_counts.append(np.count_nonzero(test_sequences_matrix[i, :]))\n",
        "\n",
        "print(f'Maximum token count per tweet:', max(word_counts), '\\n')\n",
        "\n",
        "plt.hist(word_counts)\n",
        "plt.title('Distribution of word tokens per tweet')\n",
        "plt.xlabel('Word tokens count')\n",
        "plt.ylabel('Tweets');"
      ],
      "metadata": {
        "colab": {
          "base_uri": "https://localhost:8080/",
          "height": 330
        },
        "id": "GDAwlGcMK3v-",
        "outputId": "00ffe5a2-43c1-4ff2-b13c-06374cba1725"
      },
      "execution_count": null,
      "outputs": [
        {
          "output_type": "stream",
          "name": "stdout",
          "text": [
            "Maximum token count per tweet: 22 \n",
            "\n"
          ]
        },
        {
          "output_type": "display_data",
          "data": {
            "image/png": "[encoded data removed]",
            "text/plain": [
              "<Figure size 432x288 with 1 Axes>"
            ]
          },
          "metadata": {
            "needs_background": "light"
          }
        }
      ]
    },
    {
      "cell_type": "code",
      "source": [
        "# Defining test_X vector\n",
        "test_X = (test_sequences_matrix/highest_word_token) # Scaled test_sequences_matrix with shape (x_i, m)\n",
        "\n",
        "print('First element on test set: ', test_X[:, 0], '\\n')\n",
        "print('Training set test_X shape: ', test_X.shape)"
      ],
      "metadata": {
        "colab": {
          "base_uri": "https://localhost:8080/"
        },
        "id": "J98BgCGaLB81",
        "outputId": "776a23d4-fa34-4fd8-d64e-51b243c00a35"
      },
      "execution_count": null,
      "outputs": [
        {
          "output_type": "stream",
          "name": "stdout",
          "text": [
            "First element on test set:  [0. 0. 0. ... 0. 0. 0.] \n",
            "\n",
            "Training set test_X shape:  (3263, 23)\n"
          ]
        }
      ]
    },
    {
      "cell_type": "code",
      "source": [
        "# Fitting test data\n",
        "test_predictions = model(test_X)"
      ],
      "metadata": {
        "id": "V9XXH1S_Lfx2"
      },
      "execution_count": null,
      "outputs": []
    },
    {
      "cell_type": "code",
      "source": [
        "test_predictions"
      ],
      "metadata": {
        "colab": {
          "base_uri": "https://localhost:8080/"
        },
        "id": "vgd9mHDtMQbl",
        "outputId": "fdbca68b-3868-4b59-9080-1cbf2d02b251"
      },
      "execution_count": null,
      "outputs": [
        {
          "output_type": "execute_result",
          "data": {
            "text/plain": [
              "<tf.Tensor: shape=(3263, 1), dtype=float32, numpy=\n",
              "array([[ 0.40473047],\n",
              "       [ 0.63498986],\n",
              "       [ 0.3774104 ],\n",
              "       ...,\n",
              "       [ 0.26415262],\n",
              "       [ 0.47545317],\n",
              "       [-0.03571688]], dtype=float32)>"
            ]
          },
          "metadata": {},
          "execution_count": 109
        }
      ]
    },
    {
      "cell_type": "code",
      "source": [
        "predicted = []\n",
        "for i in test_predictions.numpy():\n",
        "  if i > 0.5:\n",
        "    predicted.append(1)\n",
        "  else:\n",
        "    predicted.append(0)"
      ],
      "metadata": {
        "id": "OIKOo6Zk6Bl-"
      },
      "execution_count": null,
      "outputs": []
    },
    {
      "cell_type": "code",
      "source": [
        "# Creating submission dataset\n",
        "submission = pd.read_csv('data/sample_submission.csv')\n",
        "submission['target'] = predicted\n",
        "submission"
      ],
      "metadata": {
        "colab": {
          "base_uri": "https://localhost:8080/",
          "height": 424
        },
        "id": "1OTlGLdYMqmX",
        "outputId": "994040b6-1951-4c35-96b2-70d309282cab"
      },
      "execution_count": null,
      "outputs": [
        {
          "output_type": "execute_result",
          "data": {
            "text/html": [
              "\n",
              "  <div id=\"df-5a13d146-3bd6-45b6-a1d9-0403661d4e01\">\n",
              "    <div class=\"colab-df-container\">\n",
              "      <div>\n",
              "<style scoped>\n",
              "    .dataframe tbody tr th:only-of-type {\n",
              "        vertical-align: middle;\n",
              "    }\n",
              "\n",
              "    .dataframe tbody tr th {\n",
              "        vertical-align: top;\n",
              "    }\n",
              "\n",
              "    .dataframe thead th {\n",
              "        text-align: right;\n",
              "    }\n",
              "</style>\n",
              "<table border=\"1\" class=\"dataframe\">\n",
              "  <thead>\n",
              "    <tr style=\"text-align: right;\">\n",
              "      <th></th>\n",
              "      <th>id</th>\n",
              "      <th>target</th>\n",
              "    </tr>\n",
              "  </thead>\n",
              "  <tbody>\n",
              "    <tr>\n",
              "      <th>0</th>\n",
              "      <td>0</td>\n",
              "      <td>0</td>\n",
              "    </tr>\n",
              "    <tr>\n",
              "      <th>1</th>\n",
              "      <td>2</td>\n",
              "      <td>1</td>\n",
              "    </tr>\n",
              "    <tr>\n",
              "      <th>2</th>\n",
              "      <td>3</td>\n",
              "      <td>0</td>\n",
              "    </tr>\n",
              "    <tr>\n",
              "      <th>3</th>\n",
              "      <td>9</td>\n",
              "      <td>0</td>\n",
              "    </tr>\n",
              "    <tr>\n",
              "      <th>4</th>\n",
              "      <td>11</td>\n",
              "      <td>0</td>\n",
              "    </tr>\n",
              "    <tr>\n",
              "      <th>...</th>\n",
              "      <td>...</td>\n",
              "      <td>...</td>\n",
              "    </tr>\n",
              "    <tr>\n",
              "      <th>3258</th>\n",
              "      <td>10861</td>\n",
              "      <td>1</td>\n",
              "    </tr>\n",
              "    <tr>\n",
              "      <th>3259</th>\n",
              "      <td>10865</td>\n",
              "      <td>1</td>\n",
              "    </tr>\n",
              "    <tr>\n",
              "      <th>3260</th>\n",
              "      <td>10868</td>\n",
              "      <td>0</td>\n",
              "    </tr>\n",
              "    <tr>\n",
              "      <th>3261</th>\n",
              "      <td>10874</td>\n",
              "      <td>0</td>\n",
              "    </tr>\n",
              "    <tr>\n",
              "      <th>3262</th>\n",
              "      <td>10875</td>\n",
              "      <td>0</td>\n",
              "    </tr>\n",
              "  </tbody>\n",
              "</table>\n",
              "<p>3263 rows × 2 columns</p>\n",
              "</div>\n",
              "      <button class=\"colab-df-convert\" onclick=\"convertToInteractive('df-5a13d146-3bd6-45b6-a1d9-0403661d4e01')\"\n",
              "              title=\"Convert this dataframe to an interactive table.\"\n",
              "              style=\"display:none;\">\n",
              "        \n",
              "  <svg xmlns=\"http://www.w3.org/2000/svg\" height=\"24px\"viewBox=\"0 0 24 24\"\n",
              "       width=\"24px\">\n",
              "    <path d=\"M0 0h24v24H0V0z\" fill=\"none\"/>\n",
              "    <path d=\"M18.56 5.44l.94 2.06.94-2.06 2.06-.94-2.06-.94-.94-2.06-.94 2.06-2.06.94zm-11 1L8.5 8.5l.94-2.06 2.06-.94-2.06-.94L8.5 2.5l-.94 2.06-2.06.94zm10 10l.94 2.06.94-2.06 2.06-.94-2.06-.94-.94-2.06-.94 2.06-2.06.94z\"/><path d=\"M17.41 7.96l-1.37-1.37c-.4-.4-.92-.59-1.43-.59-.52 0-1.04.2-1.43.59L10.3 9.45l-7.72 7.72c-.78.78-.78 2.05 0 2.83L4 21.41c.39.39.9.59 1.41.59.51 0 1.02-.2 1.41-.59l7.78-7.78 2.81-2.81c.8-.78.8-2.07 0-2.86zM5.41 20L4 18.59l7.72-7.72 1.47 1.35L5.41 20z\"/>\n",
              "  </svg>\n",
              "      </button>\n",
              "      \n",
              "  <style>\n",
              "    .colab-df-container {\n",
              "      display:flex;\n",
              "      flex-wrap:wrap;\n",
              "      gap: 12px;\n",
              "    }\n",
              "\n",
              "    .colab-df-convert {\n",
              "      background-color: #E8F0FE;\n",
              "      border: none;\n",
              "      border-radius: 50%;\n",
              "      cursor: pointer;\n",
              "      display: none;\n",
              "      fill: #1967D2;\n",
              "      height: 32px;\n",
              "      padding: 0 0 0 0;\n",
              "      width: 32px;\n",
              "    }\n",
              "\n",
              "    .colab-df-convert:hover {\n",
              "      background-color: #E2EBFA;\n",
              "      box-shadow: 0px 1px 2px rgba(60, 64, 67, 0.3), 0px 1px 3px 1px rgba(60, 64, 67, 0.15);\n",
              "      fill: #174EA6;\n",
              "    }\n",
              "\n",
              "    [theme=dark] .colab-df-convert {\n",
              "      background-color: #3B4455;\n",
              "      fill: #D2E3FC;\n",
              "    }\n",
              "\n",
              "    [theme=dark] .colab-df-convert:hover {\n",
              "      background-color: #434B5C;\n",
              "      box-shadow: 0px 1px 3px 1px rgba(0, 0, 0, 0.15);\n",
              "      filter: drop-shadow(0px 1px 2px rgba(0, 0, 0, 0.3));\n",
              "      fill: #FFFFFF;\n",
              "    }\n",
              "  </style>\n",
              "\n",
              "      <script>\n",
              "        const buttonEl =\n",
              "          document.querySelector('#df-5a13d146-3bd6-45b6-a1d9-0403661d4e01 button.colab-df-convert');\n",
              "        buttonEl.style.display =\n",
              "          google.colab.kernel.accessAllowed ? 'block' : 'none';\n",
              "\n",
              "        async function convertToInteractive(key) {\n",
              "          const element = document.querySelector('#df-5a13d146-3bd6-45b6-a1d9-0403661d4e01');\n",
              "          const dataTable =\n",
              "            await google.colab.kernel.invokeFunction('convertToInteractive',\n",
              "                                                     [key], {});\n",
              "          if (!dataTable) return;\n",
              "\n",
              "          const docLinkHtml = 'Like what you see? Visit the ' +\n",
              "            '<a target=\"_blank\" href=https://colab.research.google.com/notebooks/data_table.ipynb>data table notebook</a>'\n",
              "            + ' to learn more about interactive tables.';\n",
              "          element.innerHTML = '';\n",
              "          dataTable['output_type'] = 'display_data';\n",
              "          await google.colab.output.renderOutput(dataTable, element);\n",
              "          const docLink = document.createElement('div');\n",
              "          docLink.innerHTML = docLinkHtml;\n",
              "          element.appendChild(docLink);\n",
              "        }\n",
              "      </script>\n",
              "    </div>\n",
              "  </div>\n",
              "  "
            ],
            "text/plain": [
              "         id  target\n",
              "0         0       0\n",
              "1         2       1\n",
              "2         3       0\n",
              "3         9       0\n",
              "4        11       0\n",
              "...     ...     ...\n",
              "3258  10861       1\n",
              "3259  10865       1\n",
              "3260  10868       0\n",
              "3261  10874       0\n",
              "3262  10875       0\n",
              "\n",
              "[3263 rows x 2 columns]"
            ]
          },
          "metadata": {},
          "execution_count": 115
        }
      ]
    },
    {
      "cell_type": "code",
      "source": [
        "submission.to_csv('data/submission.csv', index = False, header = True)"
      ],
      "metadata": {
        "id": "dLUFLCn5NrcO"
      },
      "execution_count": null,
      "outputs": []
    }
  ]
}