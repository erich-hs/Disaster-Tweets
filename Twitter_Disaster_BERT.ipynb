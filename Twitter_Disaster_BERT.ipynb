{
  "nbformat": 4,
  "nbformat_minor": 0,
  "metadata": {
    "colab": {
      "name": "Twitter_Disaster_BERT.ipynb",
      "provenance": []
    },
    "kernelspec": {
      "name": "python3",
      "display_name": "Python 3"
    },
    "language_info": {
      "name": "python"
    },
    "accelerator": "GPU"
  },
  "cells": [
    {
      "cell_type": "markdown",
      "source": [
        "## Dataset: Kaggle NLP with Disaster Tweets\n",
        "Predict which Tweets are about real disasters and which ones are not\n",
        "- https://www.kaggle.com/c/nlp-getting-started/overview\n",
        "\n",
        "Deep Learning Dense Classifier with a small BERT_L-10_H-256 encoder using TensorFlow and Keras API"
      ],
      "metadata": {
        "id": "acobhwehS-45"
      }
    },
    {
      "cell_type": "code",
      "source": [
        "!pip -qq install tweet-preprocessor\n",
        "!pip -qq install tensorflow_hub\n",
        "!pip -qq install tensorflow_text\n",
        "!pip -qq install pydot"
      ],
      "metadata": {
        "id": "-EFBspC9hFL9",
        "colab": {
          "base_uri": "https://localhost:8080/"
        },
        "outputId": "0391f8ed-a432-4ebf-aa95-af32ef3ba6a9"
      },
      "execution_count": null,
      "outputs": [
        {
          "output_type": "stream",
          "name": "stdout",
          "text": [
            "\u001b[K     |████████████████████████████████| 4.9 MB 5.3 MB/s \n",
            "\u001b[K     |████████████████████████████████| 462 kB 46.8 MB/s \n",
            "\u001b[?25h"
          ]
        }
      ]
    },
    {
      "cell_type": "code",
      "source": [
        "import os\n",
        "import re\n",
        "import pandas as pd\n",
        "import matplotlib.pyplot as plt\n",
        "import tensorflow as tf\n",
        "import tensorflow_hub as hub\n",
        "import tensorflow_text as text\n",
        "import preprocessor as p\n",
        "from sklearn.model_selection import train_test_split"
      ],
      "metadata": {
        "id": "9HZGEsK7V9C2"
      },
      "execution_count": null,
      "outputs": []
    },
    {
      "cell_type": "code",
      "source": [
        "!nvidia-smi"
      ],
      "metadata": {
        "colab": {
          "base_uri": "https://localhost:8080/"
        },
        "id": "jBT_1KlVV4VX",
        "outputId": "80e08b55-c631-4db4-ab7b-4ddba7dbe0c3"
      },
      "execution_count": null,
      "outputs": [
        {
          "output_type": "stream",
          "name": "stdout",
          "text": [
            "Thu Mar 17 20:37:09 2022       \n",
            "+-----------------------------------------------------------------------------+\n",
            "| NVIDIA-SMI 511.65       Driver Version: 511.65       CUDA Version: 11.6     |\n",
            "|-------------------------------+----------------------+----------------------+\n",
            "| GPU  Name            TCC/WDDM | Bus-Id        Disp.A | Volatile Uncorr. ECC |\n",
            "| Fan  Temp  Perf  Pwr:Usage/Cap|         Memory-Usage | GPU-Util  Compute M. |\n",
            "|                               |                      |               MIG M. |\n",
            "|===============================+======================+======================|\n",
            "|   0  NVIDIA GeForce ... WDDM  | 00000000:01:00.0  On |                  N/A |\n",
            "| N/A   58C    P3    21W /  N/A |   4684MiB /  6144MiB |     66%      Default |\n",
            "|                               |                      |                  N/A |\n",
            "+-------------------------------+----------------------+----------------------+\n",
            "                                                                               \n",
            "+-----------------------------------------------------------------------------+\n",
            "| Processes:                                                                  |\n",
            "|  GPU   GI   CI        PID   Type   Process name                  GPU Memory |\n",
            "|        ID   ID                                                   Usage      |\n",
            "|=============================================================================|\n",
            "|    0   N/A  N/A      6924    C+G                                   N/A      |\n",
            "|    0   N/A  N/A     11576    C+G   ...ser\\Application\\brave.exe    N/A      |\n",
            "|    0   N/A  N/A     13180      C   ...rich\\anaconda3\\python.exe    N/A      |\n",
            "|    0   N/A  N/A     18344    C+G   ...e\\Current\\LogiOverlay.exe    N/A      |\n",
            "+-----------------------------------------------------------------------------+\n"
          ]
        }
      ]
    },
    {
      "cell_type": "code",
      "source": [
        "# path = \"C:/Users/erich/OneDrive/Erich/02_Studies/Data_Science/Machine_Learning/Deep_Learning/Disaster_Tweets_NLP\"\n",
        "path = \"\"\n",
        "train_data_path = os.path.join(path, \"data\", \"train.csv\")\n",
        "test_data_path = os.path.join(path, \"data\", \"test.csv\")"
      ],
      "metadata": {
        "id": "bioZQf0eX3nm"
      },
      "execution_count": null,
      "outputs": []
    },
    {
      "cell_type": "code",
      "source": [
        "raw_data = pd.read_csv(train_data_path)\n",
        "raw_data"
      ],
      "metadata": {
        "colab": {
          "base_uri": "https://localhost:8080/",
          "height": 424
        },
        "id": "ZWOJKcjab0Mt",
        "outputId": "adb3cb09-98e3-448b-e1c2-f38bde32de40"
      },
      "execution_count": null,
      "outputs": [
        {
          "output_type": "execute_result",
          "data": {
            "text/plain": [
              "         id keyword location  \\\n",
              "0         1     NaN      NaN   \n",
              "1         4     NaN      NaN   \n",
              "2         5     NaN      NaN   \n",
              "3         6     NaN      NaN   \n",
              "4         7     NaN      NaN   \n",
              "...     ...     ...      ...   \n",
              "7608  10869     NaN      NaN   \n",
              "7609  10870     NaN      NaN   \n",
              "7610  10871     NaN      NaN   \n",
              "7611  10872     NaN      NaN   \n",
              "7612  10873     NaN      NaN   \n",
              "\n",
              "                                                   text  target  \n",
              "0     Our Deeds are the Reason of this #earthquake M...       1  \n",
              "1                Forest fire near La Ronge Sask. Canada       1  \n",
              "2     All residents asked to 'shelter in place' are ...       1  \n",
              "3     13,000 people receive #wildfires evacuation or...       1  \n",
              "4     Just got sent this photo from Ruby #Alaska as ...       1  \n",
              "...                                                 ...     ...  \n",
              "7608  Two giant cranes holding a bridge collapse int...       1  \n",
              "7609  @aria_ahrary @TheTawniest The out of control w...       1  \n",
              "7610  M1.94 [01:04 UTC]?5km S of Volcano Hawaii. htt...       1  \n",
              "7611  Police investigating after an e-bike collided ...       1  \n",
              "7612  The Latest: More Homes Razed by Northern Calif...       1  \n",
              "\n",
              "[7613 rows x 5 columns]"
            ],
            "text/html": [
              "<div>\n",
              "<style scoped>\n",
              "    .dataframe tbody tr th:only-of-type {\n",
              "        vertical-align: middle;\n",
              "    }\n",
              "\n",
              "    .dataframe tbody tr th {\n",
              "        vertical-align: top;\n",
              "    }\n",
              "\n",
              "    .dataframe thead th {\n",
              "        text-align: right;\n",
              "    }\n",
              "</style>\n",
              "<table border=\"1\" class=\"dataframe\">\n",
              "  <thead>\n",
              "    <tr style=\"text-align: right;\">\n",
              "      <th></th>\n",
              "      <th>id</th>\n",
              "      <th>keyword</th>\n",
              "      <th>location</th>\n",
              "      <th>text</th>\n",
              "      <th>target</th>\n",
              "    </tr>\n",
              "  </thead>\n",
              "  <tbody>\n",
              "    <tr>\n",
              "      <th>0</th>\n",
              "      <td>1</td>\n",
              "      <td>NaN</td>\n",
              "      <td>NaN</td>\n",
              "      <td>Our Deeds are the Reason of this #earthquake M...</td>\n",
              "      <td>1</td>\n",
              "    </tr>\n",
              "    <tr>\n",
              "      <th>1</th>\n",
              "      <td>4</td>\n",
              "      <td>NaN</td>\n",
              "      <td>NaN</td>\n",
              "      <td>Forest fire near La Ronge Sask. Canada</td>\n",
              "      <td>1</td>\n",
              "    </tr>\n",
              "    <tr>\n",
              "      <th>2</th>\n",
              "      <td>5</td>\n",
              "      <td>NaN</td>\n",
              "      <td>NaN</td>\n",
              "      <td>All residents asked to 'shelter in place' are ...</td>\n",
              "      <td>1</td>\n",
              "    </tr>\n",
              "    <tr>\n",
              "      <th>3</th>\n",
              "      <td>6</td>\n",
              "      <td>NaN</td>\n",
              "      <td>NaN</td>\n",
              "      <td>13,000 people receive #wildfires evacuation or...</td>\n",
              "      <td>1</td>\n",
              "    </tr>\n",
              "    <tr>\n",
              "      <th>4</th>\n",
              "      <td>7</td>\n",
              "      <td>NaN</td>\n",
              "      <td>NaN</td>\n",
              "      <td>Just got sent this photo from Ruby #Alaska as ...</td>\n",
              "      <td>1</td>\n",
              "    </tr>\n",
              "    <tr>\n",
              "      <th>...</th>\n",
              "      <td>...</td>\n",
              "      <td>...</td>\n",
              "      <td>...</td>\n",
              "      <td>...</td>\n",
              "      <td>...</td>\n",
              "    </tr>\n",
              "    <tr>\n",
              "      <th>7608</th>\n",
              "      <td>10869</td>\n",
              "      <td>NaN</td>\n",
              "      <td>NaN</td>\n",
              "      <td>Two giant cranes holding a bridge collapse int...</td>\n",
              "      <td>1</td>\n",
              "    </tr>\n",
              "    <tr>\n",
              "      <th>7609</th>\n",
              "      <td>10870</td>\n",
              "      <td>NaN</td>\n",
              "      <td>NaN</td>\n",
              "      <td>@aria_ahrary @TheTawniest The out of control w...</td>\n",
              "      <td>1</td>\n",
              "    </tr>\n",
              "    <tr>\n",
              "      <th>7610</th>\n",
              "      <td>10871</td>\n",
              "      <td>NaN</td>\n",
              "      <td>NaN</td>\n",
              "      <td>M1.94 [01:04 UTC]?5km S of Volcano Hawaii. htt...</td>\n",
              "      <td>1</td>\n",
              "    </tr>\n",
              "    <tr>\n",
              "      <th>7611</th>\n",
              "      <td>10872</td>\n",
              "      <td>NaN</td>\n",
              "      <td>NaN</td>\n",
              "      <td>Police investigating after an e-bike collided ...</td>\n",
              "      <td>1</td>\n",
              "    </tr>\n",
              "    <tr>\n",
              "      <th>7612</th>\n",
              "      <td>10873</td>\n",
              "      <td>NaN</td>\n",
              "      <td>NaN</td>\n",
              "      <td>The Latest: More Homes Razed by Northern Calif...</td>\n",
              "      <td>1</td>\n",
              "    </tr>\n",
              "  </tbody>\n",
              "</table>\n",
              "<p>7613 rows × 5 columns</p>\n",
              "</div>"
            ]
          },
          "metadata": {},
          "execution_count": 26
        }
      ]
    },
    {
      "cell_type": "code",
      "source": [
        "# Text cleaning - Removing URLs, mentions, etc using tweet-preprocessor package\n",
        "def tweet_clean(tweet, lower_case = False, remove_digits = False,\n",
        "                remove_punct = False, replace_amper = False,\n",
        "                retrieve_hashtag = True):\n",
        "  \"\"\"\n",
        "  Clean tweet with tweet-preprocessor p.clean() removing unwanted characters,\n",
        "  user mentions, punctuations and setting to lower case text.\n",
        "\n",
        "  Arguments:\n",
        "  tweet -- Text string.\n",
        "  lower_case -- Boolean. When True, will lower case tweets. Default = False.\n",
        "  remove_digits -- Boolean. When True, will remove numbers from tweets.\n",
        "  Default = False.\n",
        "  remove_punct -- Boolean. When True, will remove punctuations from tweets.\n",
        "  Default = False.\n",
        "  replace_amper -- Boolean. When True, will replace HTML ampersand format for\n",
        "  'and' stopword. Default = False.\n",
        "  retrieve_hashtage -- Boolean. When True, will retrieve tweet hashtag in an\n",
        "  independent series object 'hashtags'. Default = True.\n",
        "  \n",
        "  Returns:\n",
        "  cleaned_tweet -- Cleaned tweet text string.\n",
        "  hashtags -- List with hashtags extracted from tweet\n",
        "  \"\"\"\n",
        "  # Remove user mentions, symbols and unwanted characters\n",
        "  p.set_options(p.OPT.URL, p.OPT.MENTION, p.OPT.RESERVED,\n",
        "                p.OPT.EMOJI, p.OPT.SMILEY)\n",
        "  \n",
        "  tweet = p.clean(tweet)\n",
        "\n",
        "  # Lower case\n",
        "  if lower_case:\n",
        "    tweet = tweet.lower()\n",
        "\n",
        "  # Remove digits\n",
        "  if remove_digits:\n",
        "    tweet = tweet.replace('\\d+', '')\n",
        "\n",
        "  # Remove punctuations\n",
        "  if remove_punct:\n",
        "    tweet = re.sub(r'[^\\w\\s]', '', tweet)\n",
        "  \n",
        "  # Replace amper\n",
        "  if replace_amper:\n",
        "    tweet = tweet.replace('&amp;', 'and')\n",
        "    tweet = tweet.replace('&AMP;', 'and')\n",
        "\n",
        "  if retrieve_hashtag:\n",
        "    hashtags = re.findall(r'#(\\w+)', tweet)\n",
        "    tweet = tweet.replace('#', '')\n",
        "\n",
        "  cleaned_tweet = tweet\n",
        "\n",
        "  if retrieve_hashtag:\n",
        "    return pd.Series([cleaned_tweet, hashtags])\n",
        "  else:\n",
        "    return cleaned_tweet"
      ],
      "metadata": {
        "id": "U2xEcstMghbE"
      },
      "execution_count": null,
      "outputs": []
    },
    {
      "cell_type": "code",
      "source": [
        "raw_data['cleaned_text'] = raw_data['text'].apply(tweet_clean,\n",
        "                                                  replace_amper = True,\n",
        "                                                  retrieve_hashtag = False)\n",
        "raw_data"
      ],
      "metadata": {
        "colab": {
          "base_uri": "https://localhost:8080/",
          "height": 424
        },
        "id": "WlgzmPplhV8D",
        "outputId": "3c870e53-12a7-4dae-d419-4e21c59f11be"
      },
      "execution_count": null,
      "outputs": [
        {
          "output_type": "execute_result",
          "data": {
            "text/plain": [
              "         id keyword location  \\\n",
              "0         1     NaN      NaN   \n",
              "1         4     NaN      NaN   \n",
              "2         5     NaN      NaN   \n",
              "3         6     NaN      NaN   \n",
              "4         7     NaN      NaN   \n",
              "...     ...     ...      ...   \n",
              "7608  10869     NaN      NaN   \n",
              "7609  10870     NaN      NaN   \n",
              "7610  10871     NaN      NaN   \n",
              "7611  10872     NaN      NaN   \n",
              "7612  10873     NaN      NaN   \n",
              "\n",
              "                                                   text  target  \\\n",
              "0     Our Deeds are the Reason of this #earthquake M...       1   \n",
              "1                Forest fire near La Ronge Sask. Canada       1   \n",
              "2     All residents asked to 'shelter in place' are ...       1   \n",
              "3     13,000 people receive #wildfires evacuation or...       1   \n",
              "4     Just got sent this photo from Ruby #Alaska as ...       1   \n",
              "...                                                 ...     ...   \n",
              "7608  Two giant cranes holding a bridge collapse int...       1   \n",
              "7609  @aria_ahrary @TheTawniest The out of control w...       1   \n",
              "7610  M1.94 [01:04 UTC]?5km S of Volcano Hawaii. htt...       1   \n",
              "7611  Police investigating after an e-bike collided ...       1   \n",
              "7612  The Latest: More Homes Razed by Northern Calif...       1   \n",
              "\n",
              "                                           cleaned_text  \n",
              "0     Our Deeds are the Reason of this #earthquake M...  \n",
              "1                Forest fire near La Ronge Sask. Canada  \n",
              "2     All residents asked to 'shelter in place' are ...  \n",
              "3     13,000 people receive #wildfires evacuation or...  \n",
              "4     Just got sent this photo from Ruby #Alaska as ...  \n",
              "...                                                 ...  \n",
              "7608  Two giant cranes holding a bridge collapse int...  \n",
              "7609  The out of control wild fires in California ev...  \n",
              "7610         M1.94 [01:04 UTC]?5km S of Volcano Hawaii.  \n",
              "7611  Police investigating after an e-bike collided ...  \n",
              "7612  The Latest: More Homes Razed by Northern Calif...  \n",
              "\n",
              "[7613 rows x 6 columns]"
            ],
            "text/html": [
              "<div>\n",
              "<style scoped>\n",
              "    .dataframe tbody tr th:only-of-type {\n",
              "        vertical-align: middle;\n",
              "    }\n",
              "\n",
              "    .dataframe tbody tr th {\n",
              "        vertical-align: top;\n",
              "    }\n",
              "\n",
              "    .dataframe thead th {\n",
              "        text-align: right;\n",
              "    }\n",
              "</style>\n",
              "<table border=\"1\" class=\"dataframe\">\n",
              "  <thead>\n",
              "    <tr style=\"text-align: right;\">\n",
              "      <th></th>\n",
              "      <th>id</th>\n",
              "      <th>keyword</th>\n",
              "      <th>location</th>\n",
              "      <th>text</th>\n",
              "      <th>target</th>\n",
              "      <th>cleaned_text</th>\n",
              "    </tr>\n",
              "  </thead>\n",
              "  <tbody>\n",
              "    <tr>\n",
              "      <th>0</th>\n",
              "      <td>1</td>\n",
              "      <td>NaN</td>\n",
              "      <td>NaN</td>\n",
              "      <td>Our Deeds are the Reason of this #earthquake M...</td>\n",
              "      <td>1</td>\n",
              "      <td>Our Deeds are the Reason of this #earthquake M...</td>\n",
              "    </tr>\n",
              "    <tr>\n",
              "      <th>1</th>\n",
              "      <td>4</td>\n",
              "      <td>NaN</td>\n",
              "      <td>NaN</td>\n",
              "      <td>Forest fire near La Ronge Sask. Canada</td>\n",
              "      <td>1</td>\n",
              "      <td>Forest fire near La Ronge Sask. Canada</td>\n",
              "    </tr>\n",
              "    <tr>\n",
              "      <th>2</th>\n",
              "      <td>5</td>\n",
              "      <td>NaN</td>\n",
              "      <td>NaN</td>\n",
              "      <td>All residents asked to 'shelter in place' are ...</td>\n",
              "      <td>1</td>\n",
              "      <td>All residents asked to 'shelter in place' are ...</td>\n",
              "    </tr>\n",
              "    <tr>\n",
              "      <th>3</th>\n",
              "      <td>6</td>\n",
              "      <td>NaN</td>\n",
              "      <td>NaN</td>\n",
              "      <td>13,000 people receive #wildfires evacuation or...</td>\n",
              "      <td>1</td>\n",
              "      <td>13,000 people receive #wildfires evacuation or...</td>\n",
              "    </tr>\n",
              "    <tr>\n",
              "      <th>4</th>\n",
              "      <td>7</td>\n",
              "      <td>NaN</td>\n",
              "      <td>NaN</td>\n",
              "      <td>Just got sent this photo from Ruby #Alaska as ...</td>\n",
              "      <td>1</td>\n",
              "      <td>Just got sent this photo from Ruby #Alaska as ...</td>\n",
              "    </tr>\n",
              "    <tr>\n",
              "      <th>...</th>\n",
              "      <td>...</td>\n",
              "      <td>...</td>\n",
              "      <td>...</td>\n",
              "      <td>...</td>\n",
              "      <td>...</td>\n",
              "      <td>...</td>\n",
              "    </tr>\n",
              "    <tr>\n",
              "      <th>7608</th>\n",
              "      <td>10869</td>\n",
              "      <td>NaN</td>\n",
              "      <td>NaN</td>\n",
              "      <td>Two giant cranes holding a bridge collapse int...</td>\n",
              "      <td>1</td>\n",
              "      <td>Two giant cranes holding a bridge collapse int...</td>\n",
              "    </tr>\n",
              "    <tr>\n",
              "      <th>7609</th>\n",
              "      <td>10870</td>\n",
              "      <td>NaN</td>\n",
              "      <td>NaN</td>\n",
              "      <td>@aria_ahrary @TheTawniest The out of control w...</td>\n",
              "      <td>1</td>\n",
              "      <td>The out of control wild fires in California ev...</td>\n",
              "    </tr>\n",
              "    <tr>\n",
              "      <th>7610</th>\n",
              "      <td>10871</td>\n",
              "      <td>NaN</td>\n",
              "      <td>NaN</td>\n",
              "      <td>M1.94 [01:04 UTC]?5km S of Volcano Hawaii. htt...</td>\n",
              "      <td>1</td>\n",
              "      <td>M1.94 [01:04 UTC]?5km S of Volcano Hawaii.</td>\n",
              "    </tr>\n",
              "    <tr>\n",
              "      <th>7611</th>\n",
              "      <td>10872</td>\n",
              "      <td>NaN</td>\n",
              "      <td>NaN</td>\n",
              "      <td>Police investigating after an e-bike collided ...</td>\n",
              "      <td>1</td>\n",
              "      <td>Police investigating after an e-bike collided ...</td>\n",
              "    </tr>\n",
              "    <tr>\n",
              "      <th>7612</th>\n",
              "      <td>10873</td>\n",
              "      <td>NaN</td>\n",
              "      <td>NaN</td>\n",
              "      <td>The Latest: More Homes Razed by Northern Calif...</td>\n",
              "      <td>1</td>\n",
              "      <td>The Latest: More Homes Razed by Northern Calif...</td>\n",
              "    </tr>\n",
              "  </tbody>\n",
              "</table>\n",
              "<p>7613 rows × 6 columns</p>\n",
              "</div>"
            ]
          },
          "metadata": {},
          "execution_count": 28
        }
      ]
    },
    {
      "cell_type": "code",
      "source": [
        "print('Tweet text before cleaning: ', list(raw_data.loc[raw_data['id'] == 530, 'text']))\n",
        "print('Tweet text after cleaning: ', list(raw_data.loc[raw_data['id'] == 530, 'cleaned_text']))"
      ],
      "metadata": {
        "colab": {
          "base_uri": "https://localhost:8080/"
        },
        "id": "DqhxnnDEh290",
        "outputId": "ef5af5bd-b45b-46f3-c30b-df512c2e2c4d"
      },
      "execution_count": null,
      "outputs": [
        {
          "output_type": "stream",
          "name": "stdout",
          "text": [
            "Tweet text before cleaning:  ['Beyonce Is my pick for http://t.co/nnMQlz91o9 Fan Army #Beyhive http://t.co/o91f3cYy0R 72']\n",
            "Tweet text after cleaning:  ['Beyonce Is my pick for Fan Army #Beyhive 72']\n"
          ]
        }
      ]
    },
    {
      "cell_type": "code",
      "source": [
        "raw_data['target'].value_counts()"
      ],
      "metadata": {
        "colab": {
          "base_uri": "https://localhost:8080/"
        },
        "id": "AJOleM4JsRRp",
        "outputId": "09c21258-7a98-4a33-eb17-17175e992750"
      },
      "execution_count": null,
      "outputs": [
        {
          "output_type": "execute_result",
          "data": {
            "text/plain": [
              "0    4342\n",
              "1    3271\n",
              "Name: target, dtype: int64"
            ]
          },
          "metadata": {},
          "execution_count": 30
        }
      ]
    },
    {
      "cell_type": "code",
      "source": [
        "X_train, X_val, y_train, y_val = train_test_split(raw_data['cleaned_text'], raw_data['target'],\n",
        "                                                  train_size = 0.8,\n",
        "                                                  random_state = 1337,\n",
        "                                                  shuffle = True,\n",
        "                                                  stratify = raw_data['target'])"
      ],
      "metadata": {
        "id": "tbgJwxadj8lr"
      },
      "execution_count": null,
      "outputs": []
    },
    {
      "cell_type": "code",
      "source": [
        "print(f\"Training data shape: {X_train.shape}\")\n",
        "print(f\"Training label shape: {y_train.shape}\")\n",
        "print(f\"Validation data shape: {X_val.shape}\")\n",
        "print(f\"Validation label shape: {y_val.shape}\")"
      ],
      "metadata": {
        "colab": {
          "base_uri": "https://localhost:8080/"
        },
        "id": "cyFek_r7dPUl",
        "outputId": "7742d1de-17ad-435f-e07c-d97731fb15b4"
      },
      "execution_count": null,
      "outputs": [
        {
          "output_type": "stream",
          "name": "stdout",
          "text": [
            "Training data shape: (6090,)\n",
            "Training label shape: (6090,)\n",
            "Validation data shape: (1523,)\n",
            "Validation label shape: (1523,)\n"
          ]
        }
      ]
    },
    {
      "cell_type": "code",
      "source": [
        "batch_size = 64\n",
        "train_df = tf.data.Dataset.from_tensor_slices((X_train, y_train)).batch(batch_size = batch_size)\n",
        "val_df = tf.data.Dataset.from_tensor_slices((X_val, y_val)).batch(batch_size = batch_size)"
      ],
      "metadata": {
        "id": "_MoOcfDd5ff3"
      },
      "execution_count": null,
      "outputs": []
    },
    {
      "cell_type": "code",
      "source": [
        "for inputs, targets in train_df:\n",
        "  print(\"inputs.shape:\", inputs.shape)\n",
        "  print(\"inputs.dtype:\", inputs.dtype)\n",
        "  print(\"targets.shape:\", targets.shape)\n",
        "  print(\"targets.dtype:\", targets.dtype)\n",
        "  print(\"inputs[0]:\", inputs[0])\n",
        "  print(\"targets[0]:\", targets[0])\n",
        "  break"
      ],
      "metadata": {
        "colab": {
          "base_uri": "https://localhost:8080/"
        },
        "id": "aKs4DsuD5soH",
        "outputId": "da8b731e-e45c-4e13-c60b-a940ebfaeada"
      },
      "execution_count": null,
      "outputs": [
        {
          "output_type": "stream",
          "name": "stdout",
          "text": [
            "inputs.shape: (64,)\n",
            "inputs.dtype: <dtype: 'string'>\n",
            "targets.shape: (64,)\n",
            "targets.dtype: <dtype: 'int64'>\n",
            "inputs[0]: tf.Tensor(b'A young German stormtrooper engaged in the Battle of the Somme 1916. [800 582 ]', shape=(), dtype=string)\n",
            "targets[0]: tf.Tensor(1, shape=(), dtype=int64)\n"
          ]
        }
      ]
    },
    {
      "cell_type": "code",
      "source": [
        "BERT_preprocessor = hub.KerasLayer(\"https://tfhub.dev/tensorflow/bert_en_uncased_preprocess/3\", name = \"BERT_Preprocessor\")\n",
        "BERT_encoder = hub.KerasLayer(\"https://tfhub.dev/tensorflow/small_bert/bert_en_uncased_L-10_H-256_A-4/2\", trainable = True, name = \"BERT_256-10_Encoder\")"
      ],
      "metadata": {
        "id": "Z4mm3_Oyrby6"
      },
      "execution_count": null,
      "outputs": []
    },
    {
      "cell_type": "code",
      "source": [
        "def get_embedding(sequences):\n",
        "  preprocessed_sequences = BERT_preprocessor(sequences)\n",
        "  encoded_sequences = BERT_encoder(preprocessed_sequences)['pooled_output']\n",
        "  return encoded_sequences"
      ],
      "metadata": {
        "id": "T9nM5nMQuTcJ"
      },
      "execution_count": null,
      "outputs": []
    },
    {
      "cell_type": "code",
      "source": [
        "get_embedding([\"This is a test sentence!\", \"Another one incoming\"])"
      ],
      "metadata": {
        "colab": {
          "base_uri": "https://localhost:8080/"
        },
        "id": "lxeQJDCbu4xR",
        "outputId": "aeb76074-69c3-41f8-e741-fae4a6d27b21"
      },
      "execution_count": null,
      "outputs": [
        {
          "output_type": "execute_result",
          "data": {
            "text/plain": [
              "<tf.Tensor: shape=(2, 256), dtype=float32, numpy=\n",
              "array([[-6.01756871e-01, -8.09544444e-01, -9.05560553e-01,\n",
              "        -2.80527603e-02, -9.92211819e-01, -2.99887568e-01,\n",
              "         9.91455257e-01, -7.50085950e-01, -5.99015951e-01,\n",
              "        -1.27246752e-01, -1.17971249e-01, -6.18989542e-02,\n",
              "         8.64751786e-02,  9.93143559e-01, -9.42964628e-02,\n",
              "         4.15551782e-01,  9.71119046e-01, -9.99941409e-01,\n",
              "         5.82133830e-02,  5.64389765e-01,  9.50350940e-01,\n",
              "        -9.97890949e-01, -2.29092643e-01, -9.75448012e-01,\n",
              "        -9.65640306e-01, -9.82125878e-01, -1.63278863e-01,\n",
              "        -9.99618649e-01, -2.00515792e-01, -9.44717586e-01,\n",
              "         9.08346236e-01,  8.87407959e-01, -9.99967098e-01,\n",
              "        -8.03352967e-02,  1.00704007e-01,  3.28888983e-01,\n",
              "         6.36177957e-02,  9.83363330e-01,  9.99628484e-01,\n",
              "        -9.98949647e-01, -9.98481810e-01, -9.68110204e-01,\n",
              "         6.51714265e-01, -9.94027197e-01,  9.97748196e-01,\n",
              "         1.19884051e-01,  9.99978364e-01,  9.99444008e-01,\n",
              "        -1.17113113e-01, -9.22679305e-01, -8.98967445e-01,\n",
              "        -9.99956965e-01, -7.84378350e-01, -9.98720527e-01,\n",
              "        -9.89577651e-01, -2.74765164e-01, -9.65240717e-01,\n",
              "        -9.83629704e-01, -9.64329302e-01, -9.95971441e-01,\n",
              "        -9.92165506e-01,  3.51949856e-02,  9.98046100e-01,\n",
              "        -8.21353972e-01, -3.66569608e-01, -2.00869784e-01,\n",
              "        -3.32332641e-01,  4.83690724e-02, -9.01856542e-01,\n",
              "         2.08638445e-01, -2.14618921e-01, -9.02968228e-01,\n",
              "         4.91696149e-02, -9.85970378e-01,  4.53469843e-01,\n",
              "         9.99543369e-01, -2.10586578e-01, -9.96384144e-01,\n",
              "        -5.76536536e-01, -2.50902206e-01, -3.81203920e-01,\n",
              "         6.07620738e-02, -9.72808003e-01,  9.64604020e-01,\n",
              "         9.94846940e-01,  9.99438882e-01, -3.49455506e-01,\n",
              "        -7.83557072e-02, -9.67020631e-01, -3.75877708e-01,\n",
              "        -1.09218948e-01,  2.29912475e-01,  8.33258569e-01,\n",
              "        -9.85125303e-01,  9.22695935e-01,  5.95365226e-01,\n",
              "        -9.84102607e-01,  9.76680040e-01,  2.32531905e-01,\n",
              "         4.84682471e-02,  9.96569633e-01,  9.91473973e-01,\n",
              "         3.14491779e-01, -9.77505028e-01,  5.58365405e-01,\n",
              "         9.98985827e-01,  9.89836574e-01,  9.99968290e-01,\n",
              "         7.45701790e-01,  8.89619589e-01, -1.55399531e-01,\n",
              "         9.85605776e-01,  1.40901655e-02,  8.92767072e-01,\n",
              "         9.03271258e-01,  9.94121075e-01, -9.02017891e-01,\n",
              "         9.85458612e-01,  4.79655601e-02,  6.15609698e-02,\n",
              "        -8.04691553e-01,  8.28041494e-01,  6.57098740e-02,\n",
              "         7.05328524e-01,  9.96198893e-01,  7.99138367e-01,\n",
              "        -8.55595291e-01, -2.65293032e-01, -8.53409171e-01,\n",
              "        -7.92839587e-01,  2.11900491e-02, -3.22836071e-01,\n",
              "         9.98273969e-01,  4.77773070e-01, -9.55737948e-01,\n",
              "        -8.98747206e-01,  5.03240451e-02,  9.29812431e-01,\n",
              "         7.54733205e-01, -1.00316890e-01,  8.45128715e-01,\n",
              "         9.69204247e-01, -9.99962032e-01, -4.47231263e-01,\n",
              "         9.52617466e-01, -9.64687884e-01, -9.91171777e-01,\n",
              "        -9.24302995e-01, -3.94380353e-02, -2.70206153e-01,\n",
              "         9.83025014e-01,  5.70354350e-02,  1.08675055e-01,\n",
              "        -1.72202751e-01,  1.60440117e-01,  5.93111366e-02,\n",
              "        -8.85698557e-01, -9.74463165e-01, -6.93512037e-02,\n",
              "        -8.82649541e-01,  7.23805964e-01, -2.17081644e-02,\n",
              "        -1.63410753e-01,  1.56292170e-01,  1.03049457e-01,\n",
              "         9.96535659e-01,  9.51795757e-01,  9.54323649e-01,\n",
              "        -1.37636334e-01,  1.88418850e-02, -9.80477631e-01,\n",
              "         8.81764054e-01,  9.56543386e-01, -8.72292280e-01,\n",
              "         9.99732077e-01,  2.27582660e-02, -9.85164881e-01,\n",
              "        -9.98391390e-01,  9.91203725e-01,  9.89332736e-01,\n",
              "         2.73490161e-01,  9.87712681e-01,  9.73424852e-01,\n",
              "        -9.85870361e-01, -9.98276830e-01,  9.99979317e-01,\n",
              "         2.05998570e-02, -9.90249991e-01,  1.94718286e-01,\n",
              "         2.20090777e-01, -3.21623594e-01,  8.04215968e-02,\n",
              "        -9.65242460e-02, -4.87893045e-01,  1.51634275e-03,\n",
              "         2.47044805e-02, -3.53590026e-02, -4.61098664e-02,\n",
              "         5.86622991e-02,  9.96611416e-01, -6.95755899e-01,\n",
              "         1.54599339e-01, -9.78544533e-01, -9.82033551e-01,\n",
              "        -7.29705095e-01,  9.85508323e-01, -1.74017530e-02,\n",
              "         8.35738957e-01, -3.39698978e-02, -9.92004693e-01,\n",
              "        -1.87048391e-01,  3.81882250e-01,  9.87615168e-01,\n",
              "        -2.23159075e-01,  7.21776843e-01,  1.09545067e-01,\n",
              "         1.20364897e-01, -1.72956660e-01,  3.99278551e-01,\n",
              "         5.66917717e-01,  8.70117247e-01,  9.46818531e-01,\n",
              "         2.79677808e-01, -5.22190966e-02,  5.45423388e-01,\n",
              "        -2.72162795e-01, -9.63621259e-01, -9.45094943e-01,\n",
              "         9.97903407e-01, -9.25261378e-01, -1.45851970e-01,\n",
              "         1.58201382e-01,  2.61443220e-02,  9.95093048e-01,\n",
              "        -9.82916653e-01,  9.99694228e-01,  7.59419873e-02,\n",
              "        -9.17736948e-01,  7.92868808e-02,  7.68267453e-01,\n",
              "         9.99978304e-01, -7.28275716e-01, -3.42749119e-01,\n",
              "         1.48419604e-01, -1.61962867e-01,  1.61299244e-01,\n",
              "         7.96954095e-01,  9.96737003e-01,  5.89830220e-01,\n",
              "        -8.90823901e-01,  9.96785760e-01,  9.99249279e-01,\n",
              "         9.93136525e-01,  2.18636766e-02,  9.94632781e-01,\n",
              "         6.42753124e-01],\n",
              "       [-9.83750105e-01, -9.25635934e-01, -9.17485833e-01,\n",
              "         3.51967327e-02, -9.03534889e-01, -3.50337178e-01,\n",
              "         9.57063198e-01, -9.43311214e-01, -6.04574859e-01,\n",
              "        -1.30660415e-01,  3.94601002e-02, -2.46658012e-01,\n",
              "        -9.18962061e-02,  5.70646822e-01,  2.14220032e-01,\n",
              "         9.60419297e-01,  9.83767271e-01, -9.99941051e-01,\n",
              "         4.48805988e-01, -3.15020114e-01,  9.59285676e-01,\n",
              "        -9.94744480e-01, -5.44471443e-02, -9.72671628e-01,\n",
              "        -9.80659962e-01, -9.23150420e-01,  3.58848795e-02,\n",
              "        -9.86210346e-01, -8.32588747e-02, -3.36349249e-01,\n",
              "         2.56849974e-01, -3.10819119e-01, -9.98310626e-01,\n",
              "         9.84045118e-02,  1.23504274e-01,  5.00246406e-01,\n",
              "        -2.55599380e-01,  9.49999154e-01,  9.99977469e-01,\n",
              "        -9.89403486e-01, -9.52216387e-01, -7.07821906e-01,\n",
              "         9.85068202e-01, -9.97610807e-01,  9.99192953e-01,\n",
              "         3.15049231e-01,  9.99771833e-01,  9.99552846e-01,\n",
              "        -4.25653517e-01, -9.88052368e-01, -8.29986870e-01,\n",
              "        -9.99681413e-01, -9.22211230e-01, -9.99711573e-01,\n",
              "        -9.97726798e-01, -3.35159749e-01,  5.07852256e-01,\n",
              "        -7.07256854e-01, -8.94321203e-01, -6.18599892e-01,\n",
              "        -9.98432755e-01,  3.83751728e-02,  9.92848337e-01,\n",
              "        -8.78149867e-01, -5.82047105e-01, -5.96818566e-01,\n",
              "        -9.42776978e-01, -1.10803433e-01, -8.57663214e-01,\n",
              "         1.04749158e-01, -2.39925802e-01, -9.97935951e-01,\n",
              "        -3.00657153e-02, -9.82980788e-01,  7.34802127e-01,\n",
              "         9.99971271e-01, -4.80336174e-02, -9.92356062e-01,\n",
              "        -8.76479208e-01, -1.89556867e-01, -1.94375247e-01,\n",
              "         2.43369594e-01, -9.49718118e-01,  8.45234513e-01,\n",
              "         3.51121128e-01,  9.89883840e-01,  4.02466834e-01,\n",
              "         5.40260784e-02, -4.72495496e-01,  7.63532966e-02,\n",
              "        -2.10367158e-01, -2.09743664e-01,  8.69872212e-01,\n",
              "        -9.98925745e-01,  9.36062694e-01,  5.72386861e-01,\n",
              "        -8.25306296e-01,  9.01095450e-01,  3.49090904e-01,\n",
              "         7.42807508e-01,  9.44489658e-01,  9.97207642e-01,\n",
              "         8.62469137e-01, -9.92372870e-01,  8.67550492e-01,\n",
              "         9.99139428e-01,  9.54040349e-01,  9.99989152e-01,\n",
              "         9.17949259e-01,  9.14606750e-01, -5.30550666e-02,\n",
              "         9.81452882e-01, -3.16060707e-02,  9.24014807e-01,\n",
              "         9.92394686e-01,  9.84058857e-01, -9.29629803e-01,\n",
              "         9.97244596e-01, -1.25152797e-01, -2.30022237e-01,\n",
              "        -6.21821284e-01,  2.23455563e-01,  2.38294840e-01,\n",
              "         7.65508771e-01,  9.72575009e-01,  8.90748799e-01,\n",
              "        -9.16025281e-01, -1.28095612e-01, -6.88157916e-01,\n",
              "        -9.84942555e-01,  1.78814337e-01,  8.90348554e-01,\n",
              "         9.98743236e-01, -7.08420098e-01, -4.12477285e-01,\n",
              "        -9.93832111e-01,  2.03208532e-02,  8.25987577e-01,\n",
              "         9.02275145e-01, -6.87455311e-02,  8.97522032e-01,\n",
              "         8.38669956e-01, -9.99991536e-01, -2.72930831e-01,\n",
              "         9.96287465e-01, -7.40226388e-01, -5.15631914e-01,\n",
              "        -9.27941382e-01, -4.32782918e-02,  1.23979978e-01,\n",
              "         9.18478072e-01, -1.03357747e-01, -1.38154939e-01,\n",
              "         4.76013161e-02, -2.85253935e-02, -2.74539143e-01,\n",
              "        -9.13703024e-01, -9.34265435e-01, -4.32275385e-02,\n",
              "        -9.27585006e-01,  9.35098231e-01, -3.70309502e-02,\n",
              "         2.53605068e-01,  1.70490127e-02, -9.69244167e-02,\n",
              "         9.99222398e-01,  9.64601040e-01,  9.85696197e-01,\n",
              "        -2.90762931e-01,  3.29645649e-02, -9.79860425e-01,\n",
              "         9.26444411e-01,  7.07197607e-01, -8.09902489e-01,\n",
              "         9.99873281e-01,  1.17168419e-01, -9.61097538e-01,\n",
              "        -9.98783708e-01,  2.62556285e-01,  8.25692356e-01,\n",
              "        -4.33044553e-01,  9.93096769e-01,  9.90096271e-01,\n",
              "        -9.92028773e-01, -9.96846795e-01,  9.99949098e-01,\n",
              "        -1.57426029e-01, -9.64401364e-01,  5.07533434e-04,\n",
              "         5.47078013e-01,  2.27831051e-01, -8.88461947e-01,\n",
              "        -1.16063029e-01,  7.73946702e-01, -1.21708058e-01,\n",
              "        -3.55349928e-01, -2.89331633e-03, -1.21740811e-01,\n",
              "         3.48426700e-02,  9.99752939e-01, -9.49929714e-01,\n",
              "        -1.21126905e-01, -9.77039874e-01, -9.73935902e-01,\n",
              "        -3.38001549e-01,  9.45076704e-01,  2.95991123e-01,\n",
              "         9.69989300e-01,  4.46786880e-02, -9.88415778e-01,\n",
              "        -3.38427842e-01,  3.96734893e-01,  6.37100101e-01,\n",
              "        -2.81195253e-01,  9.85382676e-01,  5.02848923e-02,\n",
              "         4.04801488e-01,  2.19335362e-01,  2.94964522e-01,\n",
              "         9.30183351e-01,  9.86176670e-01,  8.43417883e-01,\n",
              "         1.70893312e-01, -7.25278705e-02,  1.84990495e-01,\n",
              "         8.51917714e-02, -8.66927028e-01, -5.72759390e-01,\n",
              "         9.98211861e-01, -9.32545543e-01,  1.13697112e-01,\n",
              "         3.95129859e-01, -1.92003734e-02,  8.97953749e-01,\n",
              "        -9.82568860e-01,  9.96251941e-01, -7.16848597e-02,\n",
              "        -9.88749504e-01, -1.63789883e-01,  9.77072477e-01,\n",
              "         9.99995828e-01, -6.15919568e-02, -2.66999990e-01,\n",
              "        -6.70067608e-01,  3.38915110e-01,  1.83385566e-01,\n",
              "         9.93088841e-01,  9.98408496e-01,  9.74740922e-01,\n",
              "        -9.88366902e-01,  9.99165833e-01,  9.28163409e-01,\n",
              "         9.98533130e-01,  7.97864720e-02,  8.51938426e-01,\n",
              "        -7.21521795e-01]], dtype=float32)>"
            ]
          },
          "metadata": {},
          "execution_count": 37
        }
      ]
    },
    {
      "cell_type": "code",
      "source": [
        "def get_dropout_model():\n",
        "  inputs = tf.keras.layers.Input(shape = (), dtype = tf.string, name = \"Input_Text\")\n",
        "  x = BERT_preprocessor(inputs)\n",
        "  x = BERT_encoder(x)\n",
        "  x = tf.keras.layers.Dropout(0.1)(x['pooled_output'])\n",
        "  outputs = tf.keras.layers.Dense(1, activation = \"sigmoid\", name = \"Binary_Classifier\")(x)\n",
        "  \n",
        "  model = tf.keras.Model(inputs, outputs)\n",
        "\n",
        "  return model"
      ],
      "metadata": {
        "id": "tXQZ4Vw1r-KX"
      },
      "execution_count": null,
      "outputs": []
    },
    {
      "cell_type": "code",
      "source": [
        "model = get_dropout_model()\n",
        "\n",
        "# Low learning_rate adam optimizer\n",
        "optimizer = tf.keras.optimizers.Adam(learning_rate = 3e-5)\n",
        "\n",
        "model.compile(optimizer = optimizer,\n",
        "              loss = \"binary_crossentropy\",\n",
        "              metrics = [\"accuracy\", tf.keras.metrics.AUC(name = \"auc\")])\n",
        "\n",
        "model.summary()"
      ],
      "metadata": {
        "colab": {
          "base_uri": "https://localhost:8080/"
        },
        "id": "xIBtrcXU0DqE",
        "outputId": "18dc427f-0dc6-457f-feab-2cf1e8e29925"
      },
      "execution_count": null,
      "outputs": [
        {
          "output_type": "stream",
          "name": "stdout",
          "text": [
            "Model: \"model_3\"\n",
            "__________________________________________________________________________________________________\n",
            " Layer (type)                   Output Shape         Param #     Connected to                     \n",
            "==================================================================================================\n",
            " Input_Text (InputLayer)        [(None,)]            0           []                               \n",
            "                                                                                                  \n",
            " BERT_Preprocessor (KerasLayer)  {'input_mask': (Non  0          ['Input_Text[0][0]']             \n",
            "                                e, 128),                                                          \n",
            "                                 'input_type_ids':                                                \n",
            "                                (None, 128),                                                      \n",
            "                                 'input_word_ids':                                                \n",
            "                                (None, 128)}                                                      \n",
            "                                                                                                  \n",
            " BERT_768_Encoder (KerasLayer)  {'encoder_outputs':  15909121    ['BERT_Preprocessor[2][0]',      \n",
            "                                 [(None, 128, 256),               'BERT_Preprocessor[2][1]',      \n",
            "                                 (None, 128, 256),                'BERT_Preprocessor[2][2]']      \n",
            "                                 (None, 128, 256),                                                \n",
            "                                 (None, 128, 256),                                                \n",
            "                                 (None, 128, 256),                                                \n",
            "                                 (None, 128, 256),                                                \n",
            "                                 (None, 128, 256),                                                \n",
            "                                 (None, 128, 256),                                                \n",
            "                                 (None, 128, 256),                                                \n",
            "                                 (None, 128, 256)],                                               \n",
            "                                 'pooled_output': (                                               \n",
            "                                None, 256),                                                       \n",
            "                                 'default': (None,                                                \n",
            "                                256),                                                             \n",
            "                                 'sequence_output':                                               \n",
            "                                 (None, 128, 256)}                                                \n",
            "                                                                                                  \n",
            " dropout_3 (Dropout)            (None, 256)          0           ['BERT_768_Encoder[2][11]']      \n",
            "                                                                                                  \n",
            " Binary_Classifier (Dense)      (None, 1)            257         ['dropout_3[0][0]']              \n",
            "                                                                                                  \n",
            "==================================================================================================\n",
            "Total params: 15,909,378\n",
            "Trainable params: 15,909,377\n",
            "Non-trainable params: 1\n",
            "__________________________________________________________________________________________________\n"
          ]
        }
      ]
    },
    {
      "cell_type": "code",
      "source": [
        "model_file_path = os.path.join(path, \"models\", \"dropout_BERT-small.keras\")\n",
        "\n",
        "callbacks = [tf.keras.callbacks.ModelCheckpoint(model_file_path,\n",
        "                                                save_best_only = True,\n",
        "                                                monitor = 'val_auc')]\n",
        "\n",
        "history = model.fit(train_df,\n",
        "                    validation_data = val_df,\n",
        "                    epochs = 20,\n",
        "                    callbacks = callbacks)"
      ],
      "metadata": {
        "colab": {
          "base_uri": "https://localhost:8080/"
        },
        "id": "dCtxQ3b40KKl",
        "outputId": "4034675f-0449-4ad9-d84e-185ba958119d"
      },
      "execution_count": null,
      "outputs": [
        {
          "output_type": "stream",
          "name": "stdout",
          "text": [
            "Epoch 1/20\n",
            "96/96 [==============================] - 102s 997ms/step - loss: 0.6667 - accuracy: 0.5829 - auc: 0.6282 - val_loss: 0.6323 - val_accuracy: 0.6054 - val_auc: 0.6433\n",
            "Epoch 2/20\n",
            "96/96 [==============================] - 93s 967ms/step - loss: 0.6574 - accuracy: 0.6312 - auc: 0.6557 - val_loss: 0.5751 - val_accuracy: 0.7571 - val_auc: 0.7487\n",
            "Epoch 3/20\n",
            "96/96 [==============================] - 93s 967ms/step - loss: 0.5434 - accuracy: 0.7631 - auc: 0.7868 - val_loss: 0.5154 - val_accuracy: 0.7728 - val_auc: 0.8191\n",
            "Epoch 4/20\n",
            "96/96 [==============================] - 93s 969ms/step - loss: 0.5013 - accuracy: 0.7795 - auc: 0.8201 - val_loss: 0.4853 - val_accuracy: 0.7866 - val_auc: 0.8304\n",
            "Epoch 5/20\n",
            "96/96 [==============================] - 96s 1s/step - loss: 0.4554 - accuracy: 0.8115 - auc: 0.8470 - val_loss: 0.4919 - val_accuracy: 0.7774 - val_auc: 0.8448\n",
            "Epoch 6/20\n",
            "96/96 [==============================] - 93s 969ms/step - loss: 0.4067 - accuracy: 0.8343 - auc: 0.8819 - val_loss: 0.4775 - val_accuracy: 0.7899 - val_auc: 0.8315\n",
            "Epoch 7/20\n",
            "96/96 [==============================] - 93s 970ms/step - loss: 0.3724 - accuracy: 0.8540 - auc: 0.8971 - val_loss: 0.4731 - val_accuracy: 0.8135 - val_auc: 0.8594\n",
            "Epoch 8/20\n",
            "96/96 [==============================] - 93s 970ms/step - loss: 0.3344 - accuracy: 0.8722 - auc: 0.9179 - val_loss: 0.4667 - val_accuracy: 0.8227 - val_auc: 0.8615\n",
            "Epoch 9/20\n",
            "96/96 [==============================] - 93s 970ms/step - loss: 0.3031 - accuracy: 0.8852 - auc: 0.9332 - val_loss: 0.4795 - val_accuracy: 0.8188 - val_auc: 0.8616\n",
            "Epoch 10/20\n",
            "96/96 [==============================] - 93s 967ms/step - loss: 0.2721 - accuracy: 0.9010 - auc: 0.9444 - val_loss: 0.5180 - val_accuracy: 0.8102 - val_auc: 0.8588\n",
            "Epoch 11/20\n",
            "96/96 [==============================] - 93s 973ms/step - loss: 0.2455 - accuracy: 0.9133 - auc: 0.9525 - val_loss: 0.5175 - val_accuracy: 0.8043 - val_auc: 0.8577\n",
            "Epoch 12/20\n",
            "96/96 [==============================] - 94s 976ms/step - loss: 0.2265 - accuracy: 0.9192 - auc: 0.9597 - val_loss: 0.5506 - val_accuracy: 0.7853 - val_auc: 0.8519\n",
            "Epoch 13/20\n",
            "96/96 [==============================] - 94s 974ms/step - loss: 0.2055 - accuracy: 0.9292 - auc: 0.9662 - val_loss: 0.6008 - val_accuracy: 0.7807 - val_auc: 0.8498\n",
            "Epoch 14/20\n",
            "96/96 [==============================] - 93s 974ms/step - loss: 0.1946 - accuracy: 0.9348 - auc: 0.9701 - val_loss: 0.6449 - val_accuracy: 0.7820 - val_auc: 0.8436\n",
            "Epoch 15/20\n",
            "96/96 [==============================] - 94s 975ms/step - loss: 0.1706 - accuracy: 0.9412 - auc: 0.9750 - val_loss: 0.8195 - val_accuracy: 0.7649 - val_auc: 0.8235\n",
            "Epoch 16/20\n",
            "96/96 [==============================] - 94s 976ms/step - loss: 0.1576 - accuracy: 0.9471 - auc: 0.9801 - val_loss: 0.7290 - val_accuracy: 0.7768 - val_auc: 0.8348\n",
            "Epoch 17/20\n",
            "96/96 [==============================] - 93s 974ms/step - loss: 0.1436 - accuracy: 0.9509 - auc: 0.9818 - val_loss: 0.7610 - val_accuracy: 0.7708 - val_auc: 0.8350\n",
            "Epoch 18/20\n",
            "96/96 [==============================] - 96s 1s/step - loss: 0.1289 - accuracy: 0.9575 - auc: 0.9855 - val_loss: 0.7236 - val_accuracy: 0.7866 - val_auc: 0.8386\n",
            "Epoch 19/20\n",
            "96/96 [==============================] - 94s 978ms/step - loss: 0.1192 - accuracy: 0.9596 - auc: 0.9884 - val_loss: 0.7137 - val_accuracy: 0.7840 - val_auc: 0.8346\n",
            "Epoch 20/20\n",
            "96/96 [==============================] - 93s 970ms/step - loss: 0.1101 - accuracy: 0.9639 - auc: 0.9894 - val_loss: 0.7712 - val_accuracy: 0.7781 - val_auc: 0.8286\n"
          ]
        }
      ]
    },
    {
      "cell_type": "code",
      "source": [
        "accuracy = history.history[\"accuracy\"]\n",
        "val_accuracy = history.history[\"val_accuracy\"]\n",
        "loss = history.history[\"loss\"]\n",
        "val_loss = history.history[\"val_loss\"]\n",
        "auc = history.history[\"auc\"]\n",
        "val_auc = history.history[\"val_auc\"]\n",
        "epochs = range(1, len(accuracy) + 1)\n",
        "\n",
        "plt.plot(epochs, accuracy, \"r--\", label=\"Training accuracy\")\n",
        "plt.plot(epochs, val_accuracy, \"b-\", label=\"Validation accuracy\")\n",
        "plt.title(\"Training and validation accuracy\")\n",
        "plt.legend()\n",
        "plt.figure()\n",
        "plt.plot(epochs, loss, \"r--\", label=\"Training loss\")\n",
        "plt.plot(epochs, val_loss, \"b-\", label=\"Validation loss\")\n",
        "plt.title(\"Training and validation loss\")\n",
        "plt.legend()\n",
        "plt.figure()\n",
        "plt.plot(epochs, auc, \"r--\", label=\"Training ROC AUC\")\n",
        "plt.plot(epochs, val_auc, \"b-\", label=\"Validation ROC AUC\")\n",
        "plt.title(\"Training and validation ROC AUC\")\n",
        "plt.legend()\n",
        "plt.show()"
      ],
      "metadata": {
        "colab": {
          "base_uri": "https://localhost:8080/",
          "height": 809
        },
        "id": "vDIdRdq7Btey",
        "outputId": "6ccad725-dd0f-435d-a7c0-d008247fc068"
      },
      "execution_count": null,
      "outputs": [
        {
          "output_type": "display_data",
          "data": {
            "text/plain": [
              "<Figure size 432x288 with 1 Axes>"
            ],
            "image/png": "[encoded data removed]"
          },
          "metadata": {
            "needs_background": "light"
          }
        },
        {
          "output_type": "display_data",
          "data": {
            "text/plain": [
              "<Figure size 432x288 with 1 Axes>"
            ],
            "image/png": "[encoded data removed]"
          },
          "metadata": {
            "needs_background": "light"
          }
        },
        {
          "output_type": "display_data",
          "data": {
            "text/plain": [
              "<Figure size 432x288 with 1 Axes>"
            ],
            "image/png": "[encoded data removed]"
          },
          "metadata": {
            "needs_background": "light"
          }
        }
      ]
    },
    {
      "cell_type": "code",
      "source": [
        "# Evaluating the model\n",
        "import numpy as np\n",
        "from sklearn.metrics import f1_score, classification_report\n",
        "\n",
        "model = tf.keras.models.load_model(model_file_path, custom_objects={'KerasLayer': hub.KerasLayer})\n",
        "y_pred = model.predict(X_val)"
      ],
      "metadata": {
        "id": "Rbi7uydBmVq5"
      },
      "execution_count": null,
      "outputs": []
    },
    {
      "cell_type": "code",
      "source": [
        "# F1-score\n",
        "y_pred_hard = np.where(y_pred > 0.5, 1, 0)\n",
        "f1_score(y_val, y_pred_hard)"
      ],
      "metadata": {
        "colab": {
          "base_uri": "https://localhost:8080/"
        },
        "id": "R9SlPuQhppvn",
        "outputId": "626994d5-ae5c-4f81-9520-95d78f0feb0e"
      },
      "execution_count": null,
      "outputs": [
        {
          "output_type": "execute_result",
          "data": {
            "text/plain": [
              "0.659103800340329"
            ]
          },
          "metadata": {},
          "execution_count": 35
        }
      ]
    },
    {
      "cell_type": "code",
      "source": [
        "# Classification report\n",
        "print(classification_report(y_val, y_pred_hard))"
      ],
      "metadata": {
        "colab": {
          "base_uri": "https://localhost:8080/"
        },
        "id": "RQ0KkeGJr32P",
        "outputId": "336296ac-6cf9-402a-f908-1e9b7dbc8918"
      },
      "execution_count": null,
      "outputs": [
        {
          "output_type": "stream",
          "name": "stdout",
          "text": [
            "              precision    recall  f1-score   support\n",
            "\n",
            "           0       0.82      0.39      0.53       869\n",
            "           1       0.52      0.89      0.66       654\n",
            "\n",
            "    accuracy                           0.61      1523\n",
            "   macro avg       0.67      0.64      0.60      1523\n",
            "weighted avg       0.69      0.61      0.59      1523\n",
            "\n"
          ]
        }
      ]
    },
    {
      "cell_type": "code",
      "source": [
        "# Preparing complete df for final training on complete train.csv\n",
        "X, y = raw_data['cleaned_text'], raw_data['target']\n",
        "\n",
        "complete_df = tf.data.Dataset.from_tensor_slices((X, y)).batch(batch_size = batch_size)"
      ],
      "metadata": {
        "id": "leiN-JMdTQRC"
      },
      "execution_count": null,
      "outputs": []
    },
    {
      "cell_type": "code",
      "source": [
        "# Fitting the model to the complete train.csv dataset\n",
        "model = get_dropout_model()\n",
        "\n",
        "# Low learning_rate adam optimizer\n",
        "optimizer = tf.keras.optimizers.Adam(learning_rate = 3e-5)\n",
        "\n",
        "model.compile(optimizer = optimizer,\n",
        "              loss = \"binary_crossentropy\",\n",
        "              metrics = [\"accuracy\", tf.keras.metrics.AUC(name = \"auc\")])\n",
        "\n",
        "history = model.fit(complete_df,\n",
        "                    epochs = 5)"
      ],
      "metadata": {
        "colab": {
          "base_uri": "https://localhost:8080/"
        },
        "id": "3SXh56_kTbfh",
        "outputId": "88c8c531-a47e-483c-e8f4-a3b30de31aff"
      },
      "execution_count": null,
      "outputs": [
        {
          "output_type": "stream",
          "name": "stdout",
          "text": [
            "Epoch 1/5\n",
            "119/119 [==============================] - 112s 887ms/step - loss: 0.3307 - accuracy: 0.8801 - auc: 0.9196\n",
            "Epoch 2/5\n",
            "119/119 [==============================] - 114s 962ms/step - loss: 0.2344 - accuracy: 0.9263 - auc: 0.9516\n",
            "Epoch 3/5\n",
            "119/119 [==============================] - 127s 1s/step - loss: 0.2109 - accuracy: 0.9289 - auc: 0.9611\n",
            "Epoch 4/5\n",
            "119/119 [==============================] - 104s 870ms/step - loss: 0.1926 - accuracy: 0.9352 - auc: 0.9683\n",
            "Epoch 5/5\n",
            "119/119 [==============================] - 103s 868ms/step - loss: 0.1703 - accuracy: 0.9454 - auc: 0.9752\n"
          ]
        }
      ]
    },
    {
      "cell_type": "code",
      "source": [
        "# Processing test dataset\n",
        "test_data = pd.read_csv(test_data_path)\n",
        "test_text = test_data['text'].apply(tweet_clean,\n",
        "                                    replace_amper = True,\n",
        "                                    retrieve_hashtag = False)\n",
        "\n",
        "test_df = tf.data.Dataset.from_tensor_slices((test_text)).batch(batch_size = batch_size)"
      ],
      "metadata": {
        "id": "fTt1Ay1eUPgB"
      },
      "execution_count": null,
      "outputs": []
    },
    {
      "cell_type": "code",
      "source": [
        "# Inference\n",
        "y_test = model.predict(test_df)\n",
        "y_test_hard = np.where(y_test > 0.5, 1, 0)\n",
        "\n",
        "sample_submission_data_path = os.path.join(path, \"data\", \"sample_submission.csv\")\n",
        "submission = pd.read_csv(sample_submission_data_path)\n",
        "submission['target'] = y_test_hard\n",
        "\n",
        "submission.head(10)"
      ],
      "metadata": {
        "colab": {
          "base_uri": "https://localhost:8080/",
          "height": 363
        },
        "id": "ll3kR_HBUb9J",
        "outputId": "01c94205-274f-4572-97c0-a4e0184f8d50"
      },
      "execution_count": null,
      "outputs": [
        {
          "output_type": "execute_result",
          "data": {
            "text/plain": [
              "   id  target\n",
              "0   0       1\n",
              "1   2       1\n",
              "2   3       1\n",
              "3   9       1\n",
              "4  11       1\n",
              "5  12       0\n",
              "6  21       0\n",
              "7  22       0\n",
              "8  27       0\n",
              "9  29       0"
            ],
            "text/html": [
              "\n",
              "  <div id=\"df-eaef0403-5c29-4a4a-b6f2-d94dc21b6eee\">\n",
              "    <div class=\"colab-df-container\">\n",
              "      <div>\n",
              "<style scoped>\n",
              "    .dataframe tbody tr th:only-of-type {\n",
              "        vertical-align: middle;\n",
              "    }\n",
              "\n",
              "    .dataframe tbody tr th {\n",
              "        vertical-align: top;\n",
              "    }\n",
              "\n",
              "    .dataframe thead th {\n",
              "        text-align: right;\n",
              "    }\n",
              "</style>\n",
              "<table border=\"1\" class=\"dataframe\">\n",
              "  <thead>\n",
              "    <tr style=\"text-align: right;\">\n",
              "      <th></th>\n",
              "      <th>id</th>\n",
              "      <th>target</th>\n",
              "    </tr>\n",
              "  </thead>\n",
              "  <tbody>\n",
              "    <tr>\n",
              "      <th>0</th>\n",
              "      <td>0</td>\n",
              "      <td>1</td>\n",
              "    </tr>\n",
              "    <tr>\n",
              "      <th>1</th>\n",
              "      <td>2</td>\n",
              "      <td>1</td>\n",
              "    </tr>\n",
              "    <tr>\n",
              "      <th>2</th>\n",
              "      <td>3</td>\n",
              "      <td>1</td>\n",
              "    </tr>\n",
              "    <tr>\n",
              "      <th>3</th>\n",
              "      <td>9</td>\n",
              "      <td>1</td>\n",
              "    </tr>\n",
              "    <tr>\n",
              "      <th>4</th>\n",
              "      <td>11</td>\n",
              "      <td>1</td>\n",
              "    </tr>\n",
              "    <tr>\n",
              "      <th>5</th>\n",
              "      <td>12</td>\n",
              "      <td>0</td>\n",
              "    </tr>\n",
              "    <tr>\n",
              "      <th>6</th>\n",
              "      <td>21</td>\n",
              "      <td>0</td>\n",
              "    </tr>\n",
              "    <tr>\n",
              "      <th>7</th>\n",
              "      <td>22</td>\n",
              "      <td>0</td>\n",
              "    </tr>\n",
              "    <tr>\n",
              "      <th>8</th>\n",
              "      <td>27</td>\n",
              "      <td>0</td>\n",
              "    </tr>\n",
              "    <tr>\n",
              "      <th>9</th>\n",
              "      <td>29</td>\n",
              "      <td>0</td>\n",
              "    </tr>\n",
              "  </tbody>\n",
              "</table>\n",
              "</div>\n",
              "      <button class=\"colab-df-convert\" onclick=\"convertToInteractive('df-eaef0403-5c29-4a4a-b6f2-d94dc21b6eee')\"\n",
              "              title=\"Convert this dataframe to an interactive table.\"\n",
              "              style=\"display:none;\">\n",
              "        \n",
              "  <svg xmlns=\"http://www.w3.org/2000/svg\" height=\"24px\"viewBox=\"0 0 24 24\"\n",
              "       width=\"24px\">\n",
              "    <path d=\"M0 0h24v24H0V0z\" fill=\"none\"/>\n",
              "    <path d=\"M18.56 5.44l.94 2.06.94-2.06 2.06-.94-2.06-.94-.94-2.06-.94 2.06-2.06.94zm-11 1L8.5 8.5l.94-2.06 2.06-.94-2.06-.94L8.5 2.5l-.94 2.06-2.06.94zm10 10l.94 2.06.94-2.06 2.06-.94-2.06-.94-.94-2.06-.94 2.06-2.06.94z\"/><path d=\"M17.41 7.96l-1.37-1.37c-.4-.4-.92-.59-1.43-.59-.52 0-1.04.2-1.43.59L10.3 9.45l-7.72 7.72c-.78.78-.78 2.05 0 2.83L4 21.41c.39.39.9.59 1.41.59.51 0 1.02-.2 1.41-.59l7.78-7.78 2.81-2.81c.8-.78.8-2.07 0-2.86zM5.41 20L4 18.59l7.72-7.72 1.47 1.35L5.41 20z\"/>\n",
              "  </svg>\n",
              "      </button>\n",
              "      \n",
              "  <style>\n",
              "    .colab-df-container {\n",
              "      display:flex;\n",
              "      flex-wrap:wrap;\n",
              "      gap: 12px;\n",
              "    }\n",
              "\n",
              "    .colab-df-convert {\n",
              "      background-color: #E8F0FE;\n",
              "      border: none;\n",
              "      border-radius: 50%;\n",
              "      cursor: pointer;\n",
              "      display: none;\n",
              "      fill: #1967D2;\n",
              "      height: 32px;\n",
              "      padding: 0 0 0 0;\n",
              "      width: 32px;\n",
              "    }\n",
              "\n",
              "    .colab-df-convert:hover {\n",
              "      background-color: #E2EBFA;\n",
              "      box-shadow: 0px 1px 2px rgba(60, 64, 67, 0.3), 0px 1px 3px 1px rgba(60, 64, 67, 0.15);\n",
              "      fill: #174EA6;\n",
              "    }\n",
              "\n",
              "    [theme=dark] .colab-df-convert {\n",
              "      background-color: #3B4455;\n",
              "      fill: #D2E3FC;\n",
              "    }\n",
              "\n",
              "    [theme=dark] .colab-df-convert:hover {\n",
              "      background-color: #434B5C;\n",
              "      box-shadow: 0px 1px 3px 1px rgba(0, 0, 0, 0.15);\n",
              "      filter: drop-shadow(0px 1px 2px rgba(0, 0, 0, 0.3));\n",
              "      fill: #FFFFFF;\n",
              "    }\n",
              "  </style>\n",
              "\n",
              "      <script>\n",
              "        const buttonEl =\n",
              "          document.querySelector('#df-eaef0403-5c29-4a4a-b6f2-d94dc21b6eee button.colab-df-convert');\n",
              "        buttonEl.style.display =\n",
              "          google.colab.kernel.accessAllowed ? 'block' : 'none';\n",
              "\n",
              "        async function convertToInteractive(key) {\n",
              "          const element = document.querySelector('#df-eaef0403-5c29-4a4a-b6f2-d94dc21b6eee');\n",
              "          const dataTable =\n",
              "            await google.colab.kernel.invokeFunction('convertToInteractive',\n",
              "                                                     [key], {});\n",
              "          if (!dataTable) return;\n",
              "\n",
              "          const docLinkHtml = 'Like what you see? Visit the ' +\n",
              "            '<a target=\"_blank\" href=https://colab.research.google.com/notebooks/data_table.ipynb>data table notebook</a>'\n",
              "            + ' to learn more about interactive tables.';\n",
              "          element.innerHTML = '';\n",
              "          dataTable['output_type'] = 'display_data';\n",
              "          await google.colab.output.renderOutput(dataTable, element);\n",
              "          const docLink = document.createElement('div');\n",
              "          docLink.innerHTML = docLinkHtml;\n",
              "          element.appendChild(docLink);\n",
              "        }\n",
              "      </script>\n",
              "    </div>\n",
              "  </div>\n",
              "  "
            ]
          },
          "metadata": {},
          "execution_count": 48
        }
      ]
    },
    {
      "cell_type": "code",
      "source": [
        "# Saving submission.csv file\n",
        "BERT_small_submission_data_path = os.path.join(path, \"data\", \"BERT-small_submission.csv\")\n",
        "submission.to_csv(BERT_small_submission_data_path, index = False, header = True)"
      ],
      "metadata": {
        "id": "sNraMpdzUvYh"
      },
      "execution_count": null,
      "outputs": []
    }
  ]
}